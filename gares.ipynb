{
 "cells": [
  {
   "cell_type": "code",
   "execution_count": 8,
   "metadata": {},
   "outputs": [],
   "source": [
    "from dotenv import load_dotenv\n",
    "import os\n",
    "import requests\n",
    "import pandas as pd\n",
    "import json\n",
    "import datetime\n",
    "from dataclasses import dataclass,asdict\n",
    "from time import sleep"
   ]
  },
  {
   "cell_type": "code",
   "execution_count": 9,
   "metadata": {},
   "outputs": [],
   "source": [
    "CLEF_API = \"API_KEY\""
   ]
  },
  {
   "cell_type": "code",
   "execution_count": 10,
   "metadata": {},
   "outputs": [],
   "source": [
    "load_dotenv()\n",
    "api_key = os.getenv(\"API_KEY\")"
   ]
  },
  {
   "cell_type": "code",
   "execution_count": 11,
   "metadata": {},
   "outputs": [],
   "source": [
    "def gare_page(page_num):\n",
    "    '''Requete une liste de gare à une page spécifique'''\n",
    "    reponse = requests.get(f\"https://api.sncf.com/v1/coverage/sncf/stop_areas?start_page={page_num}\", auth=(api_key,\"\"))\n",
    "    return reponse.json()"
   ]
  },
  {
   "cell_type": "code",
   "execution_count": 12,
   "metadata": {},
   "outputs": [],
   "source": [
    "def nombre_pages():\n",
    "    '''Calcul le nombre de pages de la requete'''\n",
    "\n",
    "    #Je fais une premiere requete\n",
    "    premiere_page = gare_page(0)\n",
    "    #Je recupère le nombre de gares total et le nombre de gare par requete\n",
    "    nb_gares = premiere_page[\"pagination\"][\"total_result\"]\n",
    "    nb_gares_par_page = premiere_page[\"pagination\"][\"items_per_page\"]\n",
    "\n",
    "    nb_pages = nb_gares // nb_gares_par_page\n",
    "    # On calcul le modulo (reste de la division)\n",
    "    modulo = nb_gares % nb_gares_par_page\n",
    "    # Si le reste de la division est différent de 0, alors on ajoute une dernière page\n",
    "    if modulo != 0:\n",
    "        nb_pages += 1\n",
    "    \n",
    "    print(f\"Il y a {nb_gares_par_page} gares par page, et {nb_gares} gares au total. Il y a donc {nb_pages} au total\")\n",
    "    return nb_pages"
   ]
  },
  {
   "cell_type": "code",
   "execution_count": 13,
   "metadata": {},
   "outputs": [],
   "source": [
    "def ecrire_json(data,nom_fichier):\n",
    "    with open(nom_fichier, \"w\") as fc:\n",
    "        json.dump(data, fc)"
   ]
  },
  {
   "cell_type": "code",
   "execution_count": 14,
   "metadata": {},
   "outputs": [],
   "source": [
    "@dataclass\n",
    "class DataClassGare:\n",
    "    id : str | None\n",
    "    nom : str | None\n",
    "    timezone : str | None\n",
    "    label : str | None\n",
    "    longitude : str | None\n",
    "    latitude : str | None\n",
    "    id_region_ad : str | None\n",
    "    nom_region_ad : str | None\n",
    "    zip_code : str | None\n",
    "    insee_region_ad : str | None\n"
   ]
  },
  {
   "cell_type": "code",
   "execution_count": 15,
   "metadata": {},
   "outputs": [],
   "source": [
    "def extraire_donnees(liste_gares,clef):\n",
    "    '''Cette fonction permet d'extraire une donnée dans un dictionnaire\n",
    "    Si la donnée est de profondeur 1 la clef est un string\n",
    "    Si la donnée est de profondeur > 1 la clef est une liste '''\n",
    "\n",
    "    try:\n",
    "        # Extraire une donnée de profondeur 1\n",
    "        if type(clef) is str:\n",
    "            data = liste_gares[clef]\n",
    "        # Extraire une donnée de profondeur > 1\n",
    "        else:\n",
    "            data = liste_gares\n",
    "            # Gestion du cas particulier de la gestion administrative\n",
    "            if clef[0] == \"administrative_regions\":\n",
    "                for x in clef[1:]:\n",
    "                    data = liste_gares[\"administrative_regions\"][0][x]\n",
    "            # autres cas\n",
    "            else:\n",
    "                for x in clef:\n",
    "                    data = data[x]\n",
    "        return data\n",
    "    \n",
    "    except KeyError:\n",
    "        return None"
   ]
  },
  {
   "cell_type": "code",
   "execution_count": 16,
   "metadata": {},
   "outputs": [],
   "source": [
    "def recuperer_data(donnees):\n",
    "    '''extrait des données et les retourne sous forme de dictionnaire'''\n",
    "    # Je recupère toutes les donnéee de toutes les gares.\n",
    "\n",
    "    gare = DataClassGare(\n",
    "        id = extraire_donnees(donnees,\"id\"),\n",
    "        nom = extraire_donnees(donnees,\"name\"),\n",
    "        timezone=extraire_donnees(donnees,\"timezone\"),\n",
    "        label=extraire_donnees(donnees,\"label\"),\n",
    "        longitude=extraire_donnees(donnees,[\"coord\",\"lon\"]),\n",
    "        latitude=extraire_donnees(donnees,[\"coord\",\"lat\"]),\n",
    "        id_region_ad=extraire_donnees(donnees,[\"administrative_regions\",\"id\"]),\n",
    "        nom_region_ad=extraire_donnees(donnees,[\"administrative_regions\",\"name\"]),\n",
    "        zip_code=extraire_donnees(donnees,[\"administrative_regions\",\"zip_code\"]),\n",
    "        insee_region_ad=extraire_donnees(donnees,[\"administrative_regions\",\"insee\"])\n",
    "    )\n",
    "\n",
    "    return asdict(gare)"
   ]
  },
  {
   "cell_type": "code",
   "execution_count": 17,
   "metadata": {},
   "outputs": [],
   "source": [
    "def run(nb_pages):\n",
    "\n",
    "    #Initialisation de la liste de toutes les gares\n",
    "    toutes_gares_propres = []\n",
    "\n",
    "    #J'itère sur chaque page pour faire une requete\n",
    "    for page in range(nb_pages):\n",
    "        requete = gare_page(page)\n",
    "        #Je stocke les données de toutes les gares dans une variable\n",
    "        gares = requete[\"stop_areas\"]\n",
    "\n",
    "        if page % 10 == 0:\n",
    "            print(f\"Je suis à la page {page}\")\n",
    "\n",
    "        #J'itère sur chaque gare\n",
    "        for gare in gares:\n",
    "            #J'extrait les données\n",
    "            data_gare = recuperer_data(gare)\n",
    "            #J'ajoute les données extraites à ma liste finale\n",
    "            toutes_gares_propres.append(data_gare)\n",
    "        #Delais de 3s avant prochaine requete\n",
    "        sleep(3)\n",
    "    \n",
    "    return toutes_gares_propres\n",
    "    \n",
    "        "
   ]
  },
  {
   "cell_type": "code",
   "execution_count": 18,
   "metadata": {},
   "outputs": [],
   "source": [
    "def data_to_dataframe(data):\n",
    "    '''Cette fonction creer un dataframe et place les données dans le dataframe'''\n",
    "\n",
    "    # Creation du dataframe avec pour nom de colonne la clé de chaque valeur.\n",
    "    df = pd.DataFrame(columns=data[0].keys())\n",
    "    # Insert les données ligne par ligne\n",
    "    for item in data:\n",
    "        #Le nombre de ligne est l'indice auquel je veut inserer mes données\n",
    "        nb_lignes = len(df)\n",
    "        #J'insert mes données dans la derniere ligne\n",
    "        df.loc[nb_lignes] = item\n",
    "\n",
    "    return df"
   ]
  },
  {
   "cell_type": "code",
   "execution_count": null,
   "metadata": {},
   "outputs": [],
   "source": [
    "load_dotenv()\n",
    "api_key = os.getenv(\"API_KEY\")\n",
    "\n",
    "nb_pages = nombre_pages()\n",
    "toutes_les_gares = run(nb_pages)\n",
    "dataframe = data_to_dataframe(toutes_les_gares)\n",
    "dataframe.to_csv(\"liste_gares.csv\", index=False, sep=\",\")"
   ]
  }
 ],
 "metadata": {
  "kernelspec": {
   "display_name": ".venv",
   "language": "python",
   "name": "python3"
  },
  "language_info": {
   "codemirror_mode": {
    "name": "ipython",
    "version": 3
   },
   "file_extension": ".py",
   "mimetype": "text/x-python",
   "name": "python",
   "nbconvert_exporter": "python",
   "pygments_lexer": "ipython3",
   "version": "3.12.1"
  }
 },
 "nbformat": 4,
 "nbformat_minor": 2
}
