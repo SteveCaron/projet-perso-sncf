{
 "cells": [
  {
   "cell_type": "markdown",
   "metadata": {},
   "source": [
    "# Selection des gares à étudier\n",
    "\n",
    "__Auteur :__ \n",
    "\n",
    "Steve Caron\n",
    "\n",
    "__Présentation :__ \n",
    "\n",
    "Ce script consulte toutes les gares disponibles sur l'API SNCF et en récupère des informations.\n",
    "\n",
    "Il stocke les résultats dans un fichier : data/liste_gares.csv\n",
    "\n",
    "__Inputs :__ \n",
    "\n",
    "Un fichier .env contenant la clé API stocké sous le nom de variable API_KEY\n",
    "\n",
    "Un fichier data/liste_gares.csv contenant les informations sur les gares (Créé à partir de gares.ipynb)\n",
    "\n",
    "__Params :__ \n",
    "\n",
    "LISTE_RESEAUX_ETUDIES : Liste des id_reseau que je souhaite inclure dans l'étude"
   ]
  },
  {
   "cell_type": "code",
   "execution_count": 1,
   "metadata": {},
   "outputs": [],
   "source": [
    "import requests\n",
    "import os\n",
    "import pandas as pd\n",
    "import json\n",
    "from time import sleep\n",
    "from dotenv import load_dotenv"
   ]
  },
  {
   "cell_type": "markdown",
   "metadata": {},
   "source": [
    "Liste des réseaux que je veux étudier"
   ]
  },
  {
   "cell_type": "code",
   "execution_count": 14,
   "metadata": {},
   "outputs": [],
   "source": [
    "LISTE_RESEAUX_ETUDIES =[\"network:SNCF:DBS\",\n",
    "                        \"network:SNCF:EUROSTAR\",\n",
    "                        \"network:SNCF:IC\",\n",
    "                        \"network:SNCF:ICN\",\n",
    "                        \"network:SNCF:FR:Branding::a80c322c-12b1-4273-9413-e2df5dd6dce8:\",\n",
    "                        \"network:SNCF:TGVOUIGO\",\n",
    "                        \"network:SNCF:OUIGO_TC\",\n",
    "                        \"network:SNCF:SNF\",\n",
    "                        \"network:SNCF:TER\",\n",
    "                        \"network:SNCF:FR:Branding::6dfb1ec4-50b5-42a8-a531-a792b1ea6f2e:\",\n",
    "                        \"network:SNCF:FR:Branding::5c5f14b9-bff2-4f94-8853-0f621bf1a1cf:\",\n",
    "                        \"network:SNCF:OUI\",\n",
    "                        \"network:SNCF:LYR\",\n",
    "                        \"network:SNCF:TN\",\n",
    "                        ]"
   ]
  },
  {
   "cell_type": "code",
   "execution_count": 4,
   "metadata": {},
   "outputs": [],
   "source": [
    "def requete_reseau(code,api_key):\n",
    "    '''Requête API permettant de récupérer la liste des réseaux exploités sur une gare'''\n",
    "    reponse = requests.get(f\"https://api.sncf.com/v1/coverage/sncf/stop_areas/stop_area:SNCF:{code}/networks\", auth=(api_key,\"\"))\n",
    "    sleep(1)\n",
    "    return reponse.json()"
   ]
  },
  {
   "cell_type": "code",
   "execution_count": 2,
   "metadata": {},
   "outputs": [],
   "source": [
    "def requete_frequentation_gare(page):\n",
    "    ''' Requête API permettant de récupérer les chiffres de fréquentation de toutes les gares'''\n",
    "    url = f\"https://ressources.data.sncf.com/api/explore/v2.1/catalog/datasets/frequentation-gares/records?limit=100&offset={page*100}\"\n",
    "    reponse = requests.get(url).json()\n",
    "    return reponse"
   ]
  },
  {
   "cell_type": "code",
   "execution_count": 6,
   "metadata": {},
   "outputs": [],
   "source": [
    "def enregistrer_json(data,nom_fichier):\n",
    "    '''Cette fonction enregistre un fichier json'''\n",
    "    with open(nom_fichier,\"w\") as fc:\n",
    "        json.dump(data,fc)"
   ]
  },
  {
   "cell_type": "code",
   "execution_count": 7,
   "metadata": {},
   "outputs": [],
   "source": [
    "def calcul_nombre_page():\n",
    "    '''Cette fonction calcule le nombre de pages nécessaires pour obtenir toutes les informations sur la fréquentation des gares '''\n",
    "        \n",
    "    premiere_requete = requete_frequentation_gare(0)\n",
    "    nb_gare = premiere_requete[\"total_count\"]\n",
    "    nb_page = nb_gare // 100\n",
    "    if nb_gare % 100 != 0:\n",
    "        nb_page += 1\n",
    "\n",
    "    return nb_page"
   ]
  },
  {
   "cell_type": "code",
   "execution_count": 8,
   "metadata": {},
   "outputs": [],
   "source": [
    "def recuperer_toutes_pages(nb_pages):\n",
    "    '''Cette fonction fait une requête api pour chaque page et stocke les résultats dans une liste'''\n",
    "    #Initie liste gare\n",
    "    liste_info_gare = []\n",
    "    # Requete api pour chaque page\n",
    "    for page in range(nb_pages):\n",
    "        #recupère les données de la clé results\n",
    "        data_page = requete_frequentation_gare(page)[\"results\"]\n",
    "        #ajoute les données à la liste, element par element\n",
    "        for item in data_page:\n",
    "            liste_info_gare.append(item)\n",
    "    return liste_info_gare  "
   ]
  },
  {
   "cell_type": "code",
   "execution_count": 3,
   "metadata": {},
   "outputs": [],
   "source": [
    "def extraction_network(data):\n",
    "    '''Cette fonction extrait les valeurs stockées sous la clé \"networks\" d'un dictionnaire. Si il n'y a pas de clé, la fonction retourne None'''\n",
    "    try:\n",
    "        # Extraction de tous les reseau d'une gare\n",
    "        tous_reseaux = data[\"networks\"]\n",
    "        return tous_reseaux\n",
    "\n",
    "    except KeyError:\n",
    "        return None\n"
   ]
  },
  {
   "cell_type": "code",
   "execution_count": 10,
   "metadata": {},
   "outputs": [],
   "source": [
    "def ajout_reseau(data,cle_api):\n",
    "    '''Creer une liste de gares en ajoutant un dictionnaire réseau à chaque gare'''\n",
    "\n",
    "    compteur = 0\n",
    "    nb_gare = len(data)\n",
    "    liste_gares_reseaux = []\n",
    "\n",
    "    for item in data:\n",
    "        # Extraction du code uic\n",
    "        code_gare = item[\"code_uic\"]\n",
    "        # Requete pour récupérer les infos réseau\n",
    "        resultat = requete_reseau(code_gare,cle_api)\n",
    "        # Extraction des réseaux\n",
    "        liste_reseaux = extraction_network(resultat)\n",
    "        # Ajout d'un ensemble clé valeur avec la liste des réseaux\n",
    "        item[\"networks\"]=liste_reseaux\n",
    "        # Ecriture de toutes les informations de la gare dans une liste\n",
    "        liste_gares_reseaux.append(item)\n",
    "        #Incrémentation du compteur\n",
    "        compteur += 1\n",
    "        # Si le compteur est multiple de 10 affiche un message\n",
    "        if compteur % 10 == 0:\n",
    "                print(f\"gare n°{compteur} sur {nb_gare}\")\n",
    "\n",
    "    \n",
    "    return liste_gares_reseaux\n"
   ]
  },
  {
   "cell_type": "code",
   "execution_count": 11,
   "metadata": {},
   "outputs": [],
   "source": [
    "def trie_gare(data,LISTE_RESEAUX_ETUDIES):\n",
    "    '''Cette fonction trie une liste en fonction de la présence d'une liste de réseaux. Elle enregistre les items triés dans deux fichiers différents'''\n",
    "    # Création des listes\n",
    "    liste_inclue = []\n",
    "    liste_exclue = []\n",
    "    liste_exclue_api = []\n",
    "\n",
    "    for gare in data:\n",
    "        # Vérifie la présence d'au moins un network parmis une liste\n",
    "        if gare[\"networks\"] is None :\n",
    "            liste_exclue_api.append(gare)\n",
    "        elif any(reseau_id in [reseau[\"id\"] for reseau in gare[\"networks\"]] for reseau_id in LISTE_RESEAUX_ETUDIES):\n",
    "            liste_inclue.append(gare)\n",
    "        else:\n",
    "            liste_exclue.append(gare)\n",
    "\n",
    "    #Enregistrement des deux liste après trie\n",
    "    enregistrer_json(liste_exclue_api,\"data/gare_frequentation_exclues_API.json\")\n",
    "    print(f\"{len(liste_exclue_api)} gares ont été enregistrées dans data/gare_frequentation_exclues_API.json \")\n",
    "\n",
    "    enregistrer_json(liste_inclue,\"data/gare_frequentation_inclues.json\")\n",
    "    print(f\"{len(liste_inclue)} gares ont été enregistrées dans data/gare_frequentation_inclues.json \")\n",
    "\n",
    "    enregistrer_json(liste_exclue,\"data/gare_frequentation_exclues.json\")\n",
    "    print(f\"{len(liste_exclue)} gares ont été enregistrées dans data/gare_frequentation_exclues.json \")"
   ]
  },
  {
   "cell_type": "code",
   "execution_count": 12,
   "metadata": {},
   "outputs": [],
   "source": [
    "def main():\n",
    "    # Recupération de la clé api depuis env\n",
    "    load_dotenv()\n",
    "    api_key = os.getenv(\"API_KEY\")\n",
    "\n",
    "    #Calcul du nombre de page\n",
    "    nb_page = calcul_nombre_page()\n",
    "    #Fais les requetes sur toutes les pages\n",
    "    data_frequentation_brut = recuperer_toutes_pages(nb_page)\n",
    "    # Ajout des réseaux à chaque gare\n",
    "    gares_reseaux = ajout_reseau(data_frequentation_brut,api_key)\n",
    "    # Trie et enregistrement des gares\n",
    "    trie_gare(gares_reseaux,LISTE_RESEAUX_ETUDIES)"
   ]
  },
  {
   "cell_type": "code",
   "execution_count": null,
   "metadata": {},
   "outputs": [],
   "source": [
    "main()"
   ]
  }
 ],
 "metadata": {
  "kernelspec": {
   "display_name": ".venv",
   "language": "python",
   "name": "python3"
  },
  "language_info": {
   "codemirror_mode": {
    "name": "ipython",
    "version": 3
   },
   "file_extension": ".py",
   "mimetype": "text/x-python",
   "name": "python",
   "nbconvert_exporter": "python",
   "pygments_lexer": "ipython3",
   "version": "3.12.1"
  }
 },
 "nbformat": 4,
 "nbformat_minor": 2
}
