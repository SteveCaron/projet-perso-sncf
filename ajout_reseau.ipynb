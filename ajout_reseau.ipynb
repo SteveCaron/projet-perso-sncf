{
 "cells": [
  {
   "cell_type": "code",
   "execution_count": 70,
   "metadata": {},
   "outputs": [],
   "source": [
    "import requests\n",
    "import os\n",
    "import pandas as pd\n",
    "import json\n",
    "from time import sleep\n",
    "from dotenv import load_dotenv"
   ]
  },
  {
   "cell_type": "markdown",
   "metadata": {},
   "source": [
    "Liste des réseaux que je veux étudier"
   ]
  },
  {
   "cell_type": "code",
   "execution_count": 117,
   "metadata": {},
   "outputs": [],
   "source": [
    "LISTE_RESEAUX_ETUDIES = [\"DB SNCF\",\n",
    "                         \"Eurostar\",\n",
    "                         \"Intercit\\u00e9s\",\n",
    "                         \"Intercit\\u00e9s de nuit\",\n",
    "                         \"LEX\",\n",
    "                         \"OUIGO\",\"OUIGO Train Classique\",\n",
    "                         \"SNCF\",\n",
    "                         \"TER HDF\",\n",
    "                         \"TER NA\",\n",
    "                         \"TRANSILIEN\",\n",
    "                         \"TER\",\n",
    "                         \"TGV INOUI\",\n",
    "                         \"TGV Lyria\",\n",
    "                         \"additional service\"\n",
    "]"
   ]
  },
  {
   "cell_type": "code",
   "execution_count": 72,
   "metadata": {},
   "outputs": [],
   "source": [
    "# Recupération de la clé api depuis env\n",
    "load_dotenv()\n",
    "api_key = os.getenv(\"API_KEY\")"
   ]
  },
  {
   "cell_type": "code",
   "execution_count": 73,
   "metadata": {},
   "outputs": [],
   "source": [
    "def requete_reseau(code,api_key):\n",
    "    '''Requete une liste de gare à une page spécifique'''\n",
    "    reponse = requests.get(f\"https://api.sncf.com/v1/coverage/sncf/stop_areas/stop_area:SNCF:{code}/networks\", auth=(api_key,\"\"))\n",
    "    sleep(2)\n",
    "    return reponse.json()"
   ]
  },
  {
   "cell_type": "code",
   "execution_count": 74,
   "metadata": {},
   "outputs": [],
   "source": [
    "def enregistrer_json(data,nom_fichier):\n",
    "    '''Cette fonction enregistre un fichier json'''\n",
    "    with open(nom_fichier,\"w\") as fc:\n",
    "        json.dump(data,fc)"
   ]
  },
  {
   "cell_type": "code",
   "execution_count": 91,
   "metadata": {},
   "outputs": [],
   "source": [
    "def extraction_network(data):\n",
    "    try:\n",
    "        # Extraction de tous les reseau d'une gare\n",
    "        tous_reseaux = data[\"networks\"]\n",
    "        # Initialisation d'une liste de réseau\n",
    "        liste_reseaux = []\n",
    "        # Ajout du nom de chaque réseau à la liste des réseaux\n",
    "        for reseau in tous_reseaux:\n",
    "            liste_reseaux.append(reseau[\"name\"])\n",
    "        return liste_reseaux\n",
    "\n",
    "    except KeyError:\n",
    "        return None\n"
   ]
  },
  {
   "cell_type": "code",
   "execution_count": 92,
   "metadata": {},
   "outputs": [],
   "source": [
    "def ajout_reseau(data,liste_gares,cle_api):\n",
    "    '''Creer une liste de gare en ajoutant un dictionnaire de réseau à chaque gare'''\n",
    "\n",
    "    compteur = 0\n",
    "    nb_gare = len(data)\n",
    "\n",
    "    for item in data:\n",
    "        # Extraction du code uic\n",
    "        code_gare = item[\"code_uic\"]\n",
    "        # Requete pour récupérer les infos réseau\n",
    "        resultat = requete_reseau(code_gare,cle_api)\n",
    "        # Extraction des réseaux\n",
    "        liste_reseaux = extraction_network(resultat)\n",
    "        # Ajout d'un ensemble clé valeur avec la liste des réseaux\n",
    "        item[\"network\"]=liste_reseaux\n",
    "        # Ecriture de toutes les informations de la gare dans une liste\n",
    "        liste_gares.append(item)\n",
    "        #Incrémentation du compteur\n",
    "        compteur += 1\n",
    "        # Si le compteur est multiple de 10 affiche un message\n",
    "        if compteur % 10 == 0:\n",
    "                print(f\"gare n°{compteur} sur {nb_gare}\")\n",
    "\n",
    "    \n",
    "    return liste_gares\n"
   ]
  },
  {
   "cell_type": "code",
   "execution_count": 108,
   "metadata": {},
   "outputs": [],
   "source": [
    "def trie_gare(data,LISTE_RESEAUX_ETUDIES):\n",
    "    '''Cette fonction trie une liste en fonction de la présence d'une liste de réseau. Elle enregistre les items triés dans deux fichiers différents'''\n",
    "    # Création des listes\n",
    "    liste_inclue = []\n",
    "    liste_exclue = []\n",
    "    liste_exclue_api = []\n",
    "\n",
    "    for gare in data:\n",
    "        # Vérifie la présence d'au moins un network parmis une liste\n",
    "        if gare[\"network\"] is None :\n",
    "            liste_exclue_api.append(gare)\n",
    "        elif any(reseau in gare[\"network\"] for reseau in LISTE_RESEAUX_ETUDIES):\n",
    "            liste_inclue.append(gare)\n",
    "        else:\n",
    "            liste_exclue.append(gare)\n",
    "\n",
    "    #Enregistrement des deux liste après trie\n",
    "    enregistrer_json(liste_exclue_api,\"data/gare_frequentation_exclues_API.json\")\n",
    "    print(f\"{len(liste_exclue_api)} gares ont été enregistrées dans data/gare_frequentation_exclues_API.json \")\n",
    "\n",
    "    enregistrer_json(liste_inclue,\"data/gare_frequentation_inclues.json\")\n",
    "    print(f\"{len(liste_inclue)} gares ont été enregistrées dans data/gare_frequentation_inclues.json \")\n",
    "\n",
    "    enregistrer_json(liste_exclue,\"data/gare_frequentation_exclues.json\")\n",
    "    print(f\"{len(liste_exclue)} gares ont été enregistrées dans data/gare_frequentation_exclues.json \")"
   ]
  },
  {
   "cell_type": "code",
   "execution_count": 77,
   "metadata": {},
   "outputs": [],
   "source": [
    "def main():\n",
    "    # Ouverture du fichier contenant toutes les données à trier\n",
    "    with open(\"data/donnees_brutes_frequentation.json\", \"r\") as f:\n",
    "        toutes_gares = json.load(f)\n",
    "\n",
    "    liste_gares_reseaux = []\n",
    "    # Ajout des réseaux à chaque gare\n",
    "    gares_reseaux = ajout_reseau(toutes_gares,liste_gares_reseaux,api_key)\n",
    "    # Enregistrement du fichier de gares non triées avec leurs réseaux\n",
    "    enregistrer_json(gares_reseaux,\"data/gare_frequentation_reseau.json\")\n",
    "    # Trie et enregistrement des gares\n",
    "    trie_gare(gares_reseaux,LISTE_RESEAUX_ETUDIES)"
   ]
  },
  {
   "cell_type": "code",
   "execution_count": null,
   "metadata": {},
   "outputs": [],
   "source": [
    "main()"
   ]
  }
 ],
 "metadata": {
  "kernelspec": {
   "display_name": ".venv",
   "language": "python",
   "name": "python3"
  },
  "language_info": {
   "codemirror_mode": {
    "name": "ipython",
    "version": 3
   },
   "file_extension": ".py",
   "mimetype": "text/x-python",
   "name": "python",
   "nbconvert_exporter": "python",
   "pygments_lexer": "ipython3",
   "version": "3.12.1"
  }
 },
 "nbformat": 4,
 "nbformat_minor": 2
}
