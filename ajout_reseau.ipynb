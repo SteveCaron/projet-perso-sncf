{
 "cells": [
  {
   "cell_type": "code",
   "execution_count": 15,
   "metadata": {},
   "outputs": [],
   "source": [
    "import requests\n",
    "import os\n",
    "import pandas as pd\n",
    "import json\n",
    "from time import sleep\n",
    "from dotenv import load_dotenv"
   ]
  },
  {
   "cell_type": "code",
   "execution_count": 16,
   "metadata": {},
   "outputs": [],
   "source": [
    "load_dotenv()\n",
    "api_key = os.getenv(\"API_KEY\")"
   ]
  },
  {
   "cell_type": "code",
   "execution_count": 55,
   "metadata": {},
   "outputs": [],
   "source": [
    "LISTE_RESEAUX_ETUDIES = [\"DB SNCF\",\n",
    "                         \"Eurostar\",\n",
    "                         \"Intercit\\u00e9s\",\n",
    "                         \"Intercit\\u00e9s de nuit\",\n",
    "                         \"LEX\",\n",
    "                         \"OUIGO\",\"OUIGO Train Classique\",\n",
    "                         \"SNCF\",\n",
    "                         \"TER HDF\",\n",
    "                         \"TER NA\",\n",
    "                         \"TGV INOUI\",\n",
    "                         \"TGV Lyria\",\n",
    "                         \"TRANSILIEN\",\n",
    "                         \"additional service\",\n",
    "                         \"TER\"]"
   ]
  },
  {
   "cell_type": "code",
   "execution_count": 10,
   "metadata": {},
   "outputs": [],
   "source": [
    "def requete_reseau(code,api_key):\n",
    "    '''Requete une liste de gare à une page spécifique'''\n",
    "    reponse = requests.get(f\"https://api.sncf.com/v1/coverage/sncf/stop_areas/stop_area:SNCF:{code}/networks\", auth=(api_key,\"\"))\n",
    "    sleep(3)\n",
    "    return reponse.json()"
   ]
  },
  {
   "cell_type": "code",
   "execution_count": 2,
   "metadata": {},
   "outputs": [],
   "source": [
    "def enregistrer_json(data,nom_fichier):\n",
    "    '''Cette fonction enregistre un fichier json'''\n",
    "    with open(nom_fichier,\"w\") as fc:\n",
    "        json.dump(data,fc)"
   ]
  },
  {
   "cell_type": "code",
   "execution_count": 3,
   "metadata": {},
   "outputs": [],
   "source": [
    "def dataframe_to_csv(dataframe,nomfichier):\n",
    "    '''Cette fonction enregistre un dataframe en csv'''\n",
    "    dataframe.to_csv(nomfichier)"
   ]
  },
  {
   "cell_type": "code",
   "execution_count": 6,
   "metadata": {},
   "outputs": [],
   "source": [
    "def joindre_dataframe(df1,df2):\n",
    "    '''Cette fonction permet de joindre deux dataframe'''\n",
    "    df3 = pd.merge(df1,df2, how='inner', on=\"id\")\n",
    "    return df3"
   ]
  },
  {
   "cell_type": "code",
   "execution_count": 7,
   "metadata": {},
   "outputs": [],
   "source": [
    "def top100(df):\n",
    "    '''Cette fonction classe un dataframe selon la frequentation des gare renvoie les 100 premières valeurs'''\n",
    "\n",
    "    #Range les enregistrements en fonction du nombre de voyageur\n",
    "    df_ranked = df.sort_values(\"total_voyageurs_2022\", ascending=False)\n",
    "    #Les 100 premières valeur\n",
    "    df_100 = df_ranked.iloc[:100]\n",
    "\n",
    "    return df_100   "
   ]
  },
  {
   "cell_type": "code",
   "execution_count": 45,
   "metadata": {},
   "outputs": [],
   "source": [
    "def ajout_reseau(data,liste_gares,cle_api):\n",
    "    '''Creer une liste de gare en ajoutant un dictionnaire de réseau à chaque gare'''\n",
    "    for item in data:\n",
    "        # Extraction du code uic\n",
    "        code_gare = item[\"code_uic\"]\n",
    "        # Requete pour récupérer les infos réseau\n",
    "        resultat = requete_reseau(code_gare,cle_api)\n",
    "        # Extraction de tous les reseau d'une gare\n",
    "        tous_reseaux = resultat[\"networks\"]\n",
    "        # Initialisation d'une liste de réseau\n",
    "        liste_reseaux = []\n",
    "        # Ajout du nom de chaque réseau à la liste des réseaux\n",
    "        for reseau in tous_reseaux:\n",
    "            liste_reseaux.append(reseau[\"name\"])\n",
    "        # Ajout d'un ensemble clé valeur avec la liste des réseaux\n",
    "        item[\"network\"]=liste_reseaux\n",
    "        # Ecriture de toutes les informations de la gare dans une liste\n",
    "        liste_gares.append(item)\n",
    "    \n",
    "    return liste_gares\n"
   ]
  },
  {
   "cell_type": "code",
   "execution_count": 53,
   "metadata": {},
   "outputs": [],
   "source": [
    "def trie_gare(data,LISTE_RESEAUX_ETUDIES):\n",
    "\n",
    "    liste_inclue = []\n",
    "    liste_exclue = []\n",
    "\n",
    "    for gare in data:\n",
    "        if any(reseau in gare[\"network\"] for reseau in LISTE_RESEAUX_ETUDIES):\n",
    "            liste_inclue.append(gare)\n",
    "        else:\n",
    "            liste_exclue.append(gare)\n",
    "    \n",
    "    enregistrer_json(liste_inclue,\"data/gare_frequentation_inclues.json\")\n",
    "    enregistrer_json(liste_exclue,\"data/gare_frequentation_exclues.json\")"
   ]
  },
  {
   "cell_type": "code",
   "execution_count": 54,
   "metadata": {},
   "outputs": [],
   "source": [
    "with open(\"data/donnees_brutes_frequentation.json\", \"r\") as f:\n",
    "    data = json.load(f)\n",
    "\n",
    "\n",
    "data_test = data[:20]\n",
    "liste_gares = []\n",
    "gares_reseaux = ajout_reseau(data_test,liste_gares,api_key)\n",
    "\n",
    "enregistrer_json(gares_reseaux,\"data/test.json\")\n",
    "trie_gare(gares_reseaux,LISTE_RESEAUX_ETUDIES)"
   ]
  }
 ],
 "metadata": {
  "kernelspec": {
   "display_name": ".venv",
   "language": "python",
   "name": "python3"
  },
  "language_info": {
   "codemirror_mode": {
    "name": "ipython",
    "version": 3
   },
   "file_extension": ".py",
   "mimetype": "text/x-python",
   "name": "python",
   "nbconvert_exporter": "python",
   "pygments_lexer": "ipython3",
   "version": "3.12.1"
  }
 },
 "nbformat": 4,
 "nbformat_minor": 2
}
