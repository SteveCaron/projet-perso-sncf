{
 "cells": [
  {
   "cell_type": "markdown",
   "metadata": {},
   "source": [
    "# API SNCF: Les retards de train"
   ]
  },
  {
   "cell_type": "markdown",
   "metadata": {},
   "source": [
    "__Auteur :__ \n",
    "\n",
    "Steve Caron\n",
    "\n",
    "__Présentation :__ \n",
    "\n",
    "Ce script permet de requêter les informations sur les arrivées des trains en gare pour la journée d'hier. \n",
    "\n",
    "Il retourne les réponses des requêtes dans deux répertoires:\n",
    "\n",
    "* data/arrivees/ : répertoire contenant les informations sur les arrivées en gare\n",
    "\n",
    "* data/perturbations/ : répertoire contenant les informations sur les perturabations observées sur les arrivées en gare\n",
    "\n",
    "\n",
    "__Inputs :__ \n",
    "\n",
    "Un fichier data/top{n}gare.json contenant les informations permettant de faire les requêtes pour chaques gares. Les enregistrements sont classés en fonction de la fréquentation des gares.\n",
    "\n",
    "__Params :__\n",
    "\n",
    "* CLEF_API : nom sous lequel est enregistrer la cle API"
   ]
  },
  {
   "cell_type": "code",
   "execution_count": 16,
   "metadata": {},
   "outputs": [],
   "source": [
    "from dotenv import load_dotenv\n",
    "import os\n",
    "import requests\n",
    "import json\n",
    "import datetime"
   ]
  },
  {
   "cell_type": "code",
   "execution_count": 17,
   "metadata": {},
   "outputs": [],
   "source": [
    "CLEF_API = \"API_KEY\""
   ]
  },
  {
   "cell_type": "code",
   "execution_count": 20,
   "metadata": {},
   "outputs": [],
   "source": [
    "def convertir_en_string(dt):\n",
    "    '''Cette fonction convertit un datetime en chaîne de caractères'''\n",
    "    return datetime.datetime.strftime(dt,'%Y%m%dT%H%M%S')"
   ]
  },
  {
   "cell_type": "code",
   "execution_count": 21,
   "metadata": {},
   "outputs": [],
   "source": [
    "def convertir_en_datetime(str):\n",
    "    '''Cette fonction convertit une chaîne de caractères en datetime'''\n",
    "    return datetime.datetime.strptime((str[:8]+str[9:]),'%Y%m%d%H%M%S')"
   ]
  },
  {
   "cell_type": "code",
   "execution_count": 22,
   "metadata": {},
   "outputs": [],
   "source": [
    "def to_json(data,nom_fichier):\n",
    "    '''Cette fonction permet d'enregistrer un fichier JSON'''\n",
    "    with open(nom_fichier, \"w\") as fc:\n",
    "        json.dump(data, fc)"
   ]
  },
  {
   "cell_type": "code",
   "execution_count": 23,
   "metadata": {},
   "outputs": [],
   "source": [
    "def requete_api(code_gare,code_reseau,date):\n",
    "    '''Cette fonction effectue une requête API pour collecter la liste des arrivées pour une gare spécifique sur un réseau spécifique '''\n",
    "\n",
    "    base_url = \"https://api.sncf.com/v1/coverage/sncf\"\n",
    "    #Requete sans le filtre sur les trains\n",
    "    requete = f\"{base_url}/stop_areas/{code_gare}/networks/{code_reseau}/arrivals?from_datetime={date}\"\n",
    "    reponse = requests.get(requete, auth=(api_key,\"\"))\n",
    "    reponse_json = reponse.json()\n",
    "    to_json(reponse_json,\"_test.json\")\n",
    "    \n",
    "    return reponse_json"
   ]
  },
  {
   "cell_type": "code",
   "execution_count": 24,
   "metadata": {},
   "outputs": [],
   "source": [
    "def requete_entre_dates(code_gare,code_reseau,date_min,date_max,liste_arrivee,liste_perturbation,compteur_requete):\n",
    "    '''Cette fonction permet de faire des requêtes pour récupérer des données sur tous les enregistrements de la journée.\n",
    "    Elle sépare en deux listes les informations concernant les départs et les informations concernant les arrivées'''\n",
    "\n",
    "    derniere_requete = date_min\n",
    "\n",
    "    print(f\"Première requete pour la gare {code_gare} à la date {derniere_requete} sur le reseau {code_reseau}\")\n",
    "\n",
    "    while derniere_requete < date_max:\n",
    "        # Requete api\n",
    "        reponse = requete_api(code_gare,code_reseau,derniere_requete)\n",
    "        compteur_requete += 1\n",
    "        # extrait les arrivées\n",
    "        arrivees = reponse[\"arrivals\"]\n",
    "        # extrait les perturbations\n",
    "        perturbations = reponse[\"disruptions\"]\n",
    "        # Ajoute chaque arrivées de la requete à la liste\n",
    "        [liste_arrivee.append(arrivee) for arrivee in arrivees]\n",
    "        # Ajoute chaque perturbations de la requete à la liste\n",
    "        [liste_perturbation.append(perturbation)  for perturbation in perturbations]\n",
    "        # Si il a moins de 10 arrivées, alors la prochaine requete ne donnera rien, on retourne donc directement les résultats\n",
    "        if len(arrivees) < 10:\n",
    "            print(f\"Dernière requete pour la gare {code_gare} à la date {derniere_requete} sur le reseau {code_reseau} // dernieres requetes {len(arrivees)} arrivées\")\n",
    "            return liste_arrivee,liste_perturbation,compteur_requete\n",
    "        \n",
    "        derniere_requete = arrivees[-1][\"stop_date_time\"][\"base_arrival_date_time\"]\n",
    "    \n",
    "    print(f\"Dernière requete pour la gare {code_gare} à la date {derniere_requete} sur le reseau {code_reseau}\")\n",
    "    \n",
    "    return liste_arrivee,liste_perturbation,compteur_requete\n"
   ]
  },
  {
   "cell_type": "code",
   "execution_count": 25,
   "metadata": {},
   "outputs": [],
   "source": [
    "def liste_id(nom_fichier):\n",
    "    '''Cette fonction ouvre un fichier json et récupère une liste de toutes les clés d'un dictionnaire'''\n",
    "\n",
    "    #Ouverture du fichier csv\n",
    "    with open(nom_fichier,\"r\") as jsonfil:\n",
    "        data_gare = json.load(jsonfil)\n",
    "    toutes_id = data_gare[\"id\"]\n",
    "    liste_cles_ranked = []\n",
    "    # J'ajoute toutes les clés du dictionnaire id dans une liste\n",
    "    [liste_cles_ranked.append(cle) for cle in toutes_id.keys()]\n",
    "    return data_gare,liste_cles_ranked"
   ]
  },
  {
   "cell_type": "code",
   "execution_count": 26,
   "metadata": {},
   "outputs": [],
   "source": [
    "def run(data_gare,cle,date_min,date_max):\n",
    "    '''Cette fontion lance les fonctions pour traiter les données d'une gare'''\n",
    "    code_gare = data_gare[\"id\"].get(cle)\n",
    "    nom_gare = data_gare[\"nom\"].get(cle)\n",
    "    print(f\"Debut des requetes pour la gare: {nom_gare}\")\n",
    "\n",
    "    compteur_requete = 0\n",
    "    liste_code_reseau = []\n",
    "    liste_arrivees = []\n",
    "    liste_perturbations = []\n",
    "\n",
    "    #Récupération des identifiant réseaux pour la gare en cours\n",
    "    [liste_code_reseau.append(reseau[\"id\"]) for reseau in data_gare[\"networks\"].get(cle)]\n",
    "\n",
    "    # Je traite réseau par réseau\n",
    "    for reseau in liste_code_reseau:\n",
    "        liste_arrivees, liste_perturbations,compteur_requete = requete_entre_dates(code_gare,reseau,date_min,date_max,liste_arrivees,liste_perturbations,compteur_requete)\n",
    "    \n",
    "    print(f\"Fin des requetes pour la gare :{nom_gare} \\n {compteur_requete} requetes effectuées\")\n",
    "    \n",
    "    nom_fichier_arrivees = f\"data/arrivees/{code_gare}-{date_max}.json\".replace(\":\",\"_\")\n",
    "    nom_fichier_perturbation = f\"data/perturbations/{code_gare}-{date_max}.json\".replace(\":\",\"_\")\n",
    "    to_json(liste_arrivees,nom_fichier_arrivees)\n",
    "    to_json(liste_perturbations,nom_fichier_perturbation)"
   ]
  },
  {
   "cell_type": "code",
   "execution_count": 18,
   "metadata": {},
   "outputs": [],
   "source": [
    "# Récupération de la clé API\n",
    "load_dotenv()\n",
    "api_key = os.getenv(CLEF_API)"
   ]
  },
  {
   "cell_type": "code",
   "execution_count": 19,
   "metadata": {},
   "outputs": [],
   "source": [
    "# Creation des string date permettant de faire les requete API \n",
    "aujourdhui = datetime.date.today()\n",
    "hier_debut_journee = datetime.datetime(year=aujourdhui.year, month=aujourdhui.month, day=aujourdhui.day-1, hour=0, minute=0 ,second=0)\n",
    "hier_fin_journee = datetime.datetime(year=aujourdhui.year, month=aujourdhui.month, day=aujourdhui.day-1, hour=23, minute=59 ,second=59)\n",
    "date_min = convertir_en_string(hier_debut_journee)\n",
    "date_max = convertir_en_string(hier_fin_journee)"
   ]
  },
  {
   "cell_type": "code",
   "execution_count": 28,
   "metadata": {},
   "outputs": [],
   "source": [
    "# Récupération des clés dictionnaire contenant les informations des gares\n",
    "data_gare,liste_cle = liste_id(\"data/top200gare.json\")\n",
    "# Exécution du run pour chaque gare\n",
    "for cle in liste_cle[:10]:\n",
    "    run(data_gare,cle,date_min,date_max)"
   ]
  }
 ],
 "metadata": {
  "kernelspec": {
   "display_name": ".venv",
   "language": "python",
   "name": "python3"
  },
  "language_info": {
   "codemirror_mode": {
    "name": "ipython",
    "version": 3
   },
   "file_extension": ".py",
   "mimetype": "text/x-python",
   "name": "python",
   "nbconvert_exporter": "python",
   "pygments_lexer": "ipython3",
   "version": "3.12.1"
  }
 },
 "nbformat": 4,
 "nbformat_minor": 2
}
