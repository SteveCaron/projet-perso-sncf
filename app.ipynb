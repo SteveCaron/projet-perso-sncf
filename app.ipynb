{
 "cells": [
  {
   "cell_type": "markdown",
   "metadata": {},
   "source": [
    "# API SNCF: Les retards de train"
   ]
  },
  {
   "cell_type": "markdown",
   "metadata": {},
   "source": [
    "__Auteur :__ Steve Caron\n",
    "__Date de creation :__ 28/01/2024\n",
    "\n",
    "__Prerequis :__\n",
    "\n",
    "* Python 3\n",
    "* Une clef API SNCF stocké dans un environnement virtuel. Clé disponible sur : https://numerique.sncf.com/startup/api/\n",
    "* Git\n",
    "\n",
    "__Installation :__\n",
    "\n",
    "* Cloner le projet\n",
    "\n",
    "* Creer un environnement virtuel \n",
    "\n",
    "    ``py -m venv .venv``\n",
    "    \n",
    "* Activer l'environnement virtuel\n",
    "\n",
    "    ``.venv/Scripts/activate``\n",
    "\n",
    "* Installer les dépendance\n",
    "\n",
    "    ``pip install -r requirements.txt``\n",
    "\n",
    "__Params :__\n",
    "\n",
    "* CLEF_API : nom sous lequel est enregistrer la cle API\n",
    "* CODE_GARE : ID de la gare dont on veut récuperer les données"
   ]
  },
  {
   "cell_type": "code",
   "execution_count": 37,
   "metadata": {},
   "outputs": [],
   "source": [
    "from dotenv import load_dotenv\n",
    "import os\n",
    "import requests\n",
    "import pandas as pd\n",
    "import json\n",
    "import datetime"
   ]
  },
  {
   "cell_type": "code",
   "execution_count": null,
   "metadata": {},
   "outputs": [],
   "source": [
    "CLEF_API = \"API_KEY\"\n",
    "CODE_GARE = \"stop_area:SNCF:87686006\""
   ]
  },
  {
   "cell_type": "markdown",
   "metadata": {},
   "source": [
    "Récupération de la clé API depuis l'environnement"
   ]
  },
  {
   "cell_type": "code",
   "execution_count": 3,
   "metadata": {},
   "outputs": [],
   "source": [
    "load_dotenv()\n",
    "api_key = os.getenv(\"API_KEY\")"
   ]
  },
  {
   "cell_type": "code",
   "execution_count": 42,
   "metadata": {},
   "outputs": [
    {
     "name": "stdout",
     "output_type": "stream",
     "text": [
      "20240127T000000\n"
     ]
    }
   ],
   "source": [
    "aujourdhui = datetime.date.today()\n",
    "hier = aujourdhui - datetime.timedelta(days=1)\n",
    "date_min = datetime.datetime.strftime(hier, '%Y%m%dT%H%M%S')\n",
    "print(date_min)"
   ]
  }
 ],
 "metadata": {
  "kernelspec": {
   "display_name": ".venv",
   "language": "python",
   "name": "python3"
  },
  "language_info": {
   "codemirror_mode": {
    "name": "ipython",
    "version": 3
   },
   "file_extension": ".py",
   "mimetype": "text/x-python",
   "name": "python",
   "nbconvert_exporter": "python",
   "pygments_lexer": "ipython3",
   "version": "3.12.1"
  }
 },
 "nbformat": 4,
 "nbformat_minor": 2
}
