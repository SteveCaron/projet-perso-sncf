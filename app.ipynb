{
 "cells": [
  {
   "cell_type": "markdown",
   "metadata": {},
   "source": [
    "# API SNCF: Les retards de train"
   ]
  },
  {
   "cell_type": "markdown",
   "metadata": {},
   "source": [
    "__Auteur :__ Steve Caron\n",
    "__Date de creation :__ 28/01/2024\n",
    "\n",
    "__Prerequis :__\n",
    "\n",
    "* Python 3\n",
    "* Une clef API SNCF stocké dans un environnement virtuel. Clé disponible sur : https://numerique.sncf.com/startup/api/\n",
    "* Git\n",
    "\n",
    "__Installation :__\n",
    "\n",
    "* Cloner le projet\n",
    "\n",
    "* Creer un environnement virtuel \n",
    "\n",
    "    ``py -m venv .venv``\n",
    "    \n",
    "* Activer l'environnement virtuel\n",
    "\n",
    "    ``.venv/Scripts/activate``\n",
    "\n",
    "* Installer les dépendance\n",
    "\n",
    "    ``pip install -r requirements.txt``\n",
    "\n",
    "__Params :__\n",
    "\n",
    "* CLEF_API : nom sous lequel est enregistrer la cle API"
   ]
  },
  {
   "cell_type": "code",
   "execution_count": 16,
   "metadata": {},
   "outputs": [],
   "source": [
    "from dotenv import load_dotenv\n",
    "import os\n",
    "import requests\n",
    "import pandas as pd\n",
    "import json\n",
    "import datetime"
   ]
  },
  {
   "cell_type": "code",
   "execution_count": 17,
   "metadata": {},
   "outputs": [],
   "source": [
    "CLEF_API = \"API_KEY\""
   ]
  },
  {
   "cell_type": "markdown",
   "metadata": {},
   "source": [
    "Récupération de la clé API depuis l'environnement"
   ]
  },
  {
   "cell_type": "code",
   "execution_count": 18,
   "metadata": {},
   "outputs": [],
   "source": [
    "load_dotenv()\n",
    "api_key = os.getenv(CLEF_API)"
   ]
  },
  {
   "cell_type": "markdown",
   "metadata": {},
   "source": [
    "Je récupère la date du jour et à partir de celle-ci creer les arguments de ma requete. "
   ]
  },
  {
   "cell_type": "code",
   "execution_count": 19,
   "metadata": {},
   "outputs": [],
   "source": [
    "aujourdhui = datetime.date.today()\n",
    "hier_debut_journee = datetime.datetime(year=aujourdhui.year, month=aujourdhui.month, day=aujourdhui.day-1, hour=0, minute=0 ,second=0)\n",
    "hier_fin_journee = datetime.datetime(year=aujourdhui.year, month=aujourdhui.month, day=aujourdhui.day-1, hour=23, minute=59 ,second=59)"
   ]
  },
  {
   "cell_type": "markdown",
   "metadata": {},
   "source": [
    "Creation des fonctions pour coder et decoder les datetime"
   ]
  },
  {
   "cell_type": "code",
   "execution_count": 20,
   "metadata": {},
   "outputs": [],
   "source": [
    "def convertir_en_string(dt):\n",
    "    '''Cette fonction convertit un datetime en chaine de caractère'''\n",
    "    return datetime.datetime.strftime(dt,'%Y%m%dT%H%M%S')"
   ]
  },
  {
   "cell_type": "code",
   "execution_count": 21,
   "metadata": {},
   "outputs": [],
   "source": [
    "def convertir_en_datetime(str):\n",
    "    '''Cette fonction convertit une chaine de caractère en datetime'''\n",
    "    return datetime.datetime.strptime((str[:8]+str[9:]),'%Y%m%d%H%M%S')"
   ]
  },
  {
   "cell_type": "code",
   "execution_count": 22,
   "metadata": {},
   "outputs": [],
   "source": [
    "def to_json(data,nom_fichier):\n",
    "    '''Cette fonction permet d'enregistrer un fichier JSON'''\n",
    "    with open(nom_fichier, \"w\") as fc:\n",
    "        json.dump(data, fc)"
   ]
  },
  {
   "cell_type": "code",
   "execution_count": 23,
   "metadata": {},
   "outputs": [],
   "source": [
    "def requete_api(code_gare,code_reseau,date):\n",
    "\n",
    "    base_url = \"https://api.sncf.com/v1/coverage/sncf\"\n",
    "    #Requete sans le filtre sur les trains\n",
    "    requete = f\"{base_url}/stop_areas/{code_gare}/networks/{code_reseau}/arrivals?from_datetime={date}\"\n",
    "    reponse = requests.get(requete, auth=(api_key,\"\"))\n",
    "    reponse_json = reponse.json()\n",
    "    to_json(reponse_json,\"_test.json\")\n",
    "    \n",
    "    return reponse_json"
   ]
  },
  {
   "cell_type": "code",
   "execution_count": 24,
   "metadata": {},
   "outputs": [],
   "source": [
    "def requete_entre_dates(code_gare,code_reseau,date_min,date_max,liste_arrivee,liste_perturbation,compteur_requete):\n",
    "\n",
    "    derniere_requete = date_min\n",
    "\n",
    "    print(f\"Première requete pour la gare {code_gare} à la date {derniere_requete} sur le reseau {code_reseau}\")\n",
    "\n",
    "    while derniere_requete < date_max:\n",
    "        # Requete api\n",
    "        reponse = requete_api(code_gare,code_reseau,derniere_requete)\n",
    "        compteur_requete += 1\n",
    "        # extrait les arrivées\n",
    "        arrivees = reponse[\"arrivals\"]\n",
    "        # extrait les perturbations\n",
    "        perturbations = reponse[\"disruptions\"]\n",
    "        # Ajoute chaque arrivées à la liste\n",
    "        [liste_arrivee.append(arrivee) for arrivee in arrivees]\n",
    "        # Ajoute chaque perturbations à la liste\n",
    "        [liste_perturbation.append(perturbation)  for perturbation in perturbations]\n",
    "        # Si il a moins de 10 arrivées, alors la prochaine requete ne donnera rien, on retourne donc directement les résultats\n",
    "        if len(arrivees) < 10:\n",
    "            print(f\"Dernière requete pour la gare {code_gare} à la date {derniere_requete} sur le reseau {code_reseau} // dernieres requetes {len(arrivees)} arrivées\")\n",
    "            return liste_arrivee,liste_perturbation,compteur_requete\n",
    "        \n",
    "        derniere_requete = arrivees[-1][\"stop_date_time\"][\"base_arrival_date_time\"]\n",
    "    \n",
    "    print(f\"Dernière requete pour la gare {code_gare} à la date {derniere_requete} sur le reseau {code_reseau}\")\n",
    "    \n",
    "    return liste_arrivee,liste_perturbation,compteur_requete\n"
   ]
  },
  {
   "cell_type": "code",
   "execution_count": 25,
   "metadata": {},
   "outputs": [],
   "source": [
    "def liste_id(nom_fichier):\n",
    "    '''Cette fonction ouvre un fichier json et récupère une liste de toutes les clé d'un dictionnaire '''\n",
    "\n",
    "    #Ouverture du fichier csv\n",
    "    with open(nom_fichier,\"r\") as jsonfil:\n",
    "        data_gare = json.load(jsonfil)\n",
    "    toutes_id = data_gare[\"id\"]\n",
    "    liste_cles_ranked = []\n",
    "    # J'ajoute toutes les clés du dictionnaire id dans une liste\n",
    "    [liste_cles_ranked.append(cle) for cle in toutes_id.keys()]\n",
    "    return data_gare,liste_cles_ranked"
   ]
  },
  {
   "cell_type": "code",
   "execution_count": 26,
   "metadata": {},
   "outputs": [],
   "source": [
    "def run(data_gare,cle,date_min,date_max):\n",
    "    '''Cette fontion lance les fonction pour traiter les donnée d'une gare'''\n",
    "    code_gare = data_gare[\"id\"].get(cle)\n",
    "    nom_gare = data_gare[\"nom\"].get(cle)\n",
    "    print(f\"Debut des requetes pour la gare: {nom_gare}\")\n",
    "\n",
    "    compteur_requete = 0\n",
    "    liste_code_reseau = []\n",
    "    liste_arrivees = []\n",
    "    liste_perturbations = []\n",
    "\n",
    "    #Récupération des identifiant réseaux pour la gare en cours\n",
    "    [liste_code_reseau.append(reseau[\"id\"]) for reseau in data_gare[\"networks\"].get(cle)]\n",
    "\n",
    "    # Je traite réseau par réseau\n",
    "    for reseau in liste_code_reseau:\n",
    "        liste_arrivees, liste_perturbations,compteur_requete = requete_entre_dates(code_gare,reseau,date_min,date_max,liste_arrivees,liste_perturbations,compteur_requete)\n",
    "    \n",
    "    print(f\"Fin des requetes pour la gare :{nom_gare} \\n {compteur_requete} requetes effectuées\")\n",
    "    \n",
    "    nom_fichier_arrivees = f\"data/arrivees/{code_gare}-{date_max}.json\".replace(\":\",\"_\")\n",
    "    nom_fichier_perturbation = f\"data/perturbations/{code_gare}-{date_max}.json\".replace(\":\",\"_\")\n",
    "    to_json(liste_arrivees,nom_fichier_arrivees)\n",
    "    to_json(liste_perturbations,nom_fichier_perturbation)"
   ]
  },
  {
   "cell_type": "code",
   "execution_count": 27,
   "metadata": {},
   "outputs": [],
   "source": [
    "date_min = convertir_en_string(hier_debut_journee)\n",
    "date_max = convertir_en_string(hier_fin_journee)"
   ]
  },
  {
   "cell_type": "code",
   "execution_count": 28,
   "metadata": {},
   "outputs": [],
   "source": [
    "data_gare,liste_cle = liste_id(\"data/top200gare.json\")"
   ]
  },
  {
   "cell_type": "code",
   "execution_count": 29,
   "metadata": {},
   "outputs": [
    {
     "name": "stdout",
     "output_type": "stream",
     "text": [
      "Debut des requetes pour la gare: Paris Nord\n",
      "Première requete pour la gare stop_area:SNCF:87271007 à la date 20240204T000000 sur le reseau network:SNCF:EUROSTAR\n",
      "Dernière requete pour la gare stop_area:SNCF:87271007 à la date 20240205T114300 sur le reseau network:SNCF:EUROSTAR\n",
      "Première requete pour la gare stop_area:SNCF:87271007 à la date 20240204T000000 sur le reseau network:SNCF:TNRER\n",
      "Dernière requete pour la gare stop_area:SNCF:87271007 à la date 20240205T000500 sur le reseau network:SNCF:TNRER\n",
      "Première requete pour la gare stop_area:SNCF:87271007 à la date 20240204T000000 sur le reseau network:SNCF:FR:Branding::6dfb1ec4-50b5-42a8-a531-a792b1ea6f2e:\n",
      "Dernière requete pour la gare stop_area:SNCF:87271007 à la date 20240205T070800 sur le reseau network:SNCF:FR:Branding::6dfb1ec4-50b5-42a8-a531-a792b1ea6f2e:\n",
      "Première requete pour la gare stop_area:SNCF:87271007 à la date 20240204T000000 sur le reseau network:SNCF:OUI\n",
      "Dernière requete pour la gare stop_area:SNCF:87271007 à la date 20240205T071500 sur le reseau network:SNCF:OUI\n",
      "Première requete pour la gare stop_area:SNCF:87271007 à la date 20240204T000000 sur le reseau network:SNCF:TN\n",
      "Dernière requete pour la gare stop_area:SNCF:87271007 à la date 20240205T060450 sur le reseau network:SNCF:TN\n",
      "Première requete pour la gare stop_area:SNCF:87271007 à la date 20240204T000000 sur le reseau network:additional_service\n",
      "Dernière requete pour la gare stop_area:SNCF:87271007 à la date 20240204T000000 sur le reseau network:additional_service // dernieres requetes 1 arrivées\n",
      "Fin des requetes pour la gare :Paris Nord \n",
      " 76 requetes effectuées\n",
      "Debut des requetes pour la gare: Paris Saint-Lazare\n",
      "Première requete pour la gare stop_area:SNCF:87384008 à la date 20240204T000000 sur le reseau network:SNCF:TNRER\n",
      "Dernière requete pour la gare stop_area:SNCF:87384008 à la date 20240205T054000 sur le reseau network:SNCF:TNRER\n",
      "Première requete pour la gare stop_area:SNCF:87384008 à la date 20240204T000000 sur le reseau network:SNCF:TER\n",
      "Dernière requete pour la gare stop_area:SNCF:87384008 à la date 20240205T073900 sur le reseau network:SNCF:TER\n",
      "Première requete pour la gare stop_area:SNCF:87384008 à la date 20240204T000000 sur le reseau network:SNCF:TN\n",
      "Dernière requete pour la gare stop_area:SNCF:87384008 à la date 20240205T000400 sur le reseau network:SNCF:TN\n",
      "Fin des requetes pour la gare :Paris Saint-Lazare \n",
      " 31 requetes effectuées\n",
      "Debut des requetes pour la gare: Paris - Gare de Lyon - Hall 1 & 2\n",
      "Première requete pour la gare stop_area:SNCF:87686006 à la date 20240204T000000 sur le reseau network:SNCF:TGVOUIGO\n",
      "Dernière requete pour la gare stop_area:SNCF:87686006 à la date 20240204T000000 sur le reseau network:SNCF:TGVOUIGO // dernieres requetes 9 arrivées\n",
      "Première requete pour la gare stop_area:SNCF:87686006 à la date 20240204T000000 sur le reseau network:SNCF:OUIGO_TC\n",
      "Dernière requete pour la gare stop_area:SNCF:87686006 à la date 20240204T000000 sur le reseau network:SNCF:OUIGO_TC // dernieres requetes 0 arrivées\n",
      "Première requete pour la gare stop_area:SNCF:87686006 à la date 20240204T000000 sur le reseau network:SNCF:TNRER\n",
      "Dernière requete pour la gare stop_area:SNCF:87686006 à la date 20240205T001500 sur le reseau network:SNCF:TNRER\n",
      "Première requete pour la gare stop_area:SNCF:87686006 à la date 20240204T000000 sur le reseau network:SNCF:TER\n",
      "Dernière requete pour la gare stop_area:SNCF:87686006 à la date 20240204T000000 sur le reseau network:SNCF:TER // dernieres requetes 0 arrivées\n",
      "Première requete pour la gare stop_area:SNCF:87686006 à la date 20240204T000000 sur le reseau network:SNCF:OUI\n",
      "Dernière requete pour la gare stop_area:SNCF:87686006 à la date 20240205T083400 sur le reseau network:SNCF:OUI\n",
      "Première requete pour la gare stop_area:SNCF:87686006 à la date 20240204T000000 sur le reseau network:SNCF:LYR\n",
      "Dernière requete pour la gare stop_area:SNCF:87686006 à la date 20240205T113800 sur le reseau network:SNCF:LYR\n",
      "Première requete pour la gare stop_area:SNCF:87686006 à la date 20240204T000000 sur le reseau network:SNCF:TN\n",
      "Dernière requete pour la gare stop_area:SNCF:87686006 à la date 20240205T072400 sur le reseau network:SNCF:TN\n",
      "Première requete pour la gare stop_area:SNCF:87686006 à la date 20240204T000000 sur le reseau network:additional_service\n",
      "Dernière requete pour la gare stop_area:SNCF:87686006 à la date 20240204T000000 sur le reseau network:additional_service // dernieres requetes 1 arrivées\n",
      "Fin des requetes pour la gare :Paris - Gare de Lyon - Hall 1 & 2 \n",
      " 66 requetes effectuées\n",
      "Debut des requetes pour la gare: Paris - Montparnasse - Hall 1 & 2\n",
      "Première requete pour la gare stop_area:SNCF:87391003 à la date 20240204T000000 sur le reseau network:SNCF:TGVOUIGO\n",
      "Dernière requete pour la gare stop_area:SNCF:87391003 à la date 20240204T000000 sur le reseau network:SNCF:TGVOUIGO // dernieres requetes 9 arrivées\n",
      "Première requete pour la gare stop_area:SNCF:87391003 à la date 20240204T000000 sur le reseau network:SNCF:TER\n",
      "Dernière requete pour la gare stop_area:SNCF:87391003 à la date 20240205T085000 sur le reseau network:SNCF:TER\n",
      "Première requete pour la gare stop_area:SNCF:87391003 à la date 20240204T000000 sur le reseau network:SNCF:OUI\n",
      "Dernière requete pour la gare stop_area:SNCF:87391003 à la date 20240205T072030 sur le reseau network:SNCF:OUI\n",
      "Première requete pour la gare stop_area:SNCF:87391003 à la date 20240204T000000 sur le reseau network:SNCF:TN\n",
      "Dernière requete pour la gare stop_area:SNCF:87391003 à la date 20240205T014700 sur le reseau network:SNCF:TN\n",
      "Fin des requetes pour la gare :Paris - Montparnasse - Hall 1 & 2 \n",
      " 19 requetes effectuées\n",
      "Debut des requetes pour la gare: Paris Est\n",
      "Première requete pour la gare stop_area:SNCF:87113001 à la date 20240204T000000 sur le reseau network:SNCF:DBS\n",
      "Dernière requete pour la gare stop_area:SNCF:87113001 à la date 20240204T000000 sur le reseau network:SNCF:DBS // dernieres requetes 9 arrivées\n",
      "Première requete pour la gare stop_area:SNCF:87113001 à la date 20240204T000000 sur le reseau network:SNCF:TGVOUIGO\n",
      "Dernière requete pour la gare stop_area:SNCF:87113001 à la date 20240204T000000 sur le reseau network:SNCF:TGVOUIGO // dernieres requetes 2 arrivées\n",
      "Première requete pour la gare stop_area:SNCF:87113001 à la date 20240204T000000 sur le reseau network:SNCF:TNRER\n",
      "Dernière requete pour la gare stop_area:SNCF:87113001 à la date 20240204T000000 sur le reseau network:SNCF:TNRER // dernieres requetes 0 arrivées\n",
      "Première requete pour la gare stop_area:SNCF:87113001 à la date 20240204T000000 sur le reseau network:SNCF:TER\n",
      "Dernière requete pour la gare stop_area:SNCF:87113001 à la date 20240205T081600 sur le reseau network:SNCF:TER\n",
      "Première requete pour la gare stop_area:SNCF:87113001 à la date 20240204T000000 sur le reseau network:SNCF:OUI\n",
      "Dernière requete pour la gare stop_area:SNCF:87113001 à la date 20240205T075000 sur le reseau network:SNCF:OUI\n",
      "Première requete pour la gare stop_area:SNCF:87113001 à la date 20240204T000000 sur le reseau network:SNCF:TN\n",
      "Dernière requete pour la gare stop_area:SNCF:87113001 à la date 20240205T002600 sur le reseau network:SNCF:TN\n",
      "Fin des requetes pour la gare :Paris Est \n",
      " 16 requetes effectuées\n",
      "Debut des requetes pour la gare: Lyon Part Dieu\n",
      "Première requete pour la gare stop_area:SNCF:87723197 à la date 20240204T000000 sur le reseau network:SNCF:DBS\n",
      "Dernière requete pour la gare stop_area:SNCF:87723197 à la date 20240204T000000 sur le reseau network:SNCF:DBS // dernieres requetes 2 arrivées\n",
      "Première requete pour la gare stop_area:SNCF:87723197 à la date 20240204T000000 sur le reseau network:SNCF:IC\n",
      "Dernière requete pour la gare stop_area:SNCF:87723197 à la date 20240204T000000 sur le reseau network:SNCF:IC // dernieres requetes 6 arrivées\n",
      "Première requete pour la gare stop_area:SNCF:87723197 à la date 20240204T000000 sur le reseau network:SNCF:TGVOUIGO\n",
      "Dernière requete pour la gare stop_area:SNCF:87723197 à la date 20240204T000000 sur le reseau network:SNCF:TGVOUIGO // dernieres requetes 6 arrivées\n",
      "Première requete pour la gare stop_area:SNCF:87723197 à la date 20240204T000000 sur le reseau network:SNCF:OUIGO_TC\n",
      "Dernière requete pour la gare stop_area:SNCF:87723197 à la date 20240204T000000 sur le reseau network:SNCF:OUIGO_TC // dernieres requetes 1 arrivées\n",
      "Première requete pour la gare stop_area:SNCF:87723197 à la date 20240204T000000 sur le reseau network:SNCF:TER\n",
      "Dernière requete pour la gare stop_area:SNCF:87723197 à la date 20240205T061800 sur le reseau network:SNCF:TER\n",
      "Première requete pour la gare stop_area:SNCF:87723197 à la date 20240204T000000 sur le reseau network:SNCF:OUI\n",
      "Dernière requete pour la gare stop_area:SNCF:87723197 à la date 20240205T054500 sur le reseau network:SNCF:OUI\n",
      "Fin des requetes pour la gare :Lyon Part Dieu \n",
      " 30 requetes effectuées\n",
      "Debut des requetes pour la gare: La Défense\n",
      "Première requete pour la gare stop_area:SNCF:87382218 à la date 20240204T000000 sur le reseau network:SNCF:TN\n",
      "Dernière requete pour la gare stop_area:SNCF:87382218 à la date 20240205T001240 sur le reseau network:SNCF:TN\n",
      "Fin des requetes pour la gare :La Défense \n",
      " 17 requetes effectuées\n",
      "Debut des requetes pour la gare: Juvisy\n",
      "Première requete pour la gare stop_area:SNCF:87545244 à la date 20240204T000000 sur le reseau network:SNCF:OUIGO_TC\n",
      "Dernière requete pour la gare stop_area:SNCF:87545244 à la date 20240204T000000 sur le reseau network:SNCF:OUIGO_TC // dernieres requetes 3 arrivées\n",
      "Première requete pour la gare stop_area:SNCF:87545244 à la date 20240204T000000 sur le reseau network:SNCF:TNRER\n",
      "Dernière requete pour la gare stop_area:SNCF:87545244 à la date 20240205T001320 sur le reseau network:SNCF:TNRER\n",
      "Première requete pour la gare stop_area:SNCF:87545244 à la date 20240204T000000 sur le reseau network:SNCF:TN\n",
      "Dernière requete pour la gare stop_area:SNCF:87545244 à la date 20240204T000000 sur le reseau network:SNCF:TN // dernieres requetes 2 arrivées\n",
      "Fin des requetes pour la gare :Juvisy \n",
      " 18 requetes effectuées\n",
      "Debut des requetes pour la gare: Saint-Denis\n",
      "Première requete pour la gare stop_area:SNCF:87271015 à la date 20240204T000000 sur le reseau network:SNCF:TNRER\n",
      "Dernière requete pour la gare stop_area:SNCF:87271015 à la date 20240205T052540 sur le reseau network:SNCF:TNRER\n",
      "Première requete pour la gare stop_area:SNCF:87271015 à la date 20240204T000000 sur le reseau network:SNCF:TN\n",
      "Dernière requete pour la gare stop_area:SNCF:87271015 à la date 20240205T000940 sur le reseau network:SNCF:TN\n",
      "Fin des requetes pour la gare :Saint-Denis \n",
      " 32 requetes effectuées\n",
      "Debut des requetes pour la gare: Bibliothèque François Mitterrand\n",
      "Première requete pour la gare stop_area:SNCF:87328328 à la date 20240204T000000 sur le reseau network:SNCF:TNRER\n",
      "Dernière requete pour la gare stop_area:SNCF:87328328 à la date 20240205T053050 sur le reseau network:SNCF:TNRER\n",
      "Première requete pour la gare stop_area:SNCF:87328328 à la date 20240204T000000 sur le reseau network:SNCF:TN\n",
      "Dernière requete pour la gare stop_area:SNCF:87328328 à la date 20240204T000000 sur le reseau network:SNCF:TN // dernieres requetes 5 arrivées\n",
      "Fin des requetes pour la gare :Bibliothèque François Mitterrand \n",
      " 8 requetes effectuées\n"
     ]
    }
   ],
   "source": [
    "for cle in liste_cle[:10]:\n",
    "    run(data_gare,cle,date_min,date_max)"
   ]
  }
 ],
 "metadata": {
  "kernelspec": {
   "display_name": ".venv",
   "language": "python",
   "name": "python3"
  },
  "language_info": {
   "codemirror_mode": {
    "name": "ipython",
    "version": 3
   },
   "file_extension": ".py",
   "mimetype": "text/x-python",
   "name": "python",
   "nbconvert_exporter": "python",
   "pygments_lexer": "ipython3",
   "version": "3.12.1"
  }
 },
 "nbformat": 4,
 "nbformat_minor": 2
}
