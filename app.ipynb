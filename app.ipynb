{
 "cells": [
  {
   "cell_type": "markdown",
   "metadata": {},
   "source": [
    "# API SNCF: Les retards de train"
   ]
  },
  {
   "cell_type": "markdown",
   "metadata": {},
   "source": [
    "__Auteur :__ Steve Caron\n",
    "__Date de creation :__ 28/01/2024\n",
    "\n",
    "__Prerequis :__\n",
    "\n",
    "* Python 3\n",
    "* Une clef API SNCF stocké dans un environnement virtuel. Clé disponible sur : https://numerique.sncf.com/startup/api/\n",
    "* Git\n",
    "\n",
    "__Installation :__\n",
    "\n",
    "* Cloner le projet\n",
    "\n",
    "* Creer un environnement virtuel \n",
    "\n",
    "    ``py -m venv .venv``\n",
    "    \n",
    "* Activer l'environnement virtuel\n",
    "\n",
    "    ``.venv/Scripts/activate``\n",
    "\n",
    "* Installer les dépendance\n",
    "\n",
    "    ``pip install -r requirements.txt``\n",
    "\n",
    "__Params :__\n",
    "\n",
    "* CLEF_API : nom sous lequel est enregistrer la cle API\n",
    "* CODE_GARE : ID de la gare dont on veut récuperer les données"
   ]
  },
  {
   "cell_type": "code",
   "execution_count": 37,
   "metadata": {},
   "outputs": [],
   "source": [
    "from dotenv import load_dotenv\n",
    "import os\n",
    "import requests\n",
    "import pandas as pd\n",
    "import json\n",
    "import datetime"
   ]
  },
  {
   "cell_type": "code",
   "execution_count": 70,
   "metadata": {},
   "outputs": [],
   "source": [
    "CLEF_API = \"API_KEY\"\n",
    "CODE_GARE = \"stop_area:SNCF:87686006\""
   ]
  },
  {
   "cell_type": "markdown",
   "metadata": {},
   "source": [
    "Récupération de la clé API depuis l'environnement"
   ]
  },
  {
   "cell_type": "code",
   "execution_count": 71,
   "metadata": {},
   "outputs": [],
   "source": [
    "load_dotenv()\n",
    "api_key = os.getenv(\"API_KEY\")"
   ]
  },
  {
   "cell_type": "markdown",
   "metadata": {},
   "source": [
    "Je récupère la date du jour et à partir de celle-ci creer les arguments de ma requete. "
   ]
  },
  {
   "cell_type": "code",
   "execution_count": 51,
   "metadata": {},
   "outputs": [],
   "source": [
    "aujourdhui = datetime.date.today()\n",
    "hier_debut_journee = datetime.datetime(year=aujourdhui.year, month=aujourdhui.month, day=aujourdhui.day-1, hour=0, minute=0 ,second=0)\n",
    "hier_fin_journee = datetime.datetime(year=aujourdhui.year, month=aujourdhui.month, day=aujourdhui.day-1, hour=23, minute=59 ,second=59)"
   ]
  },
  {
   "cell_type": "markdown",
   "metadata": {},
   "source": [
    "Creation des fonctions pour coder et decoder les datetime"
   ]
  },
  {
   "cell_type": "code",
   "execution_count": 56,
   "metadata": {},
   "outputs": [],
   "source": [
    "def convertir_en_string(dt):\n",
    "    '''Cette fonction convertit un datetime en chaine de caractère'''\n",
    "    return datetime.datetime.strftime(dt,'%Y%m%dT%H%M%S')"
   ]
  },
  {
   "cell_type": "code",
   "execution_count": 64,
   "metadata": {},
   "outputs": [],
   "source": [
    "def convertir_en_datetime(str):\n",
    "    '''Cette fonction convertit une chaine de caractère en datetime'''\n",
    "    return datetime.datetime.strptime((str[:8]+str[9:]),'%Y%m%d%H%M%S')"
   ]
  },
  {
   "cell_type": "code",
   "execution_count": 66,
   "metadata": {},
   "outputs": [],
   "source": [
    "def requete_api(gare,date):\n",
    "\n",
    "    base_url = \"https://api.sncf.com/v1/coverage/sncf\"\n",
    "    physical_mode = \"physical_mode:LongDistanceTrain\"\n",
    "    #Requete avec filtre sur les trains\n",
    "    # requete =f\"{base_url}/stop_areas/{gare}/physical_modes/{physical_mode}/departures?from_datetime={date}\"\n",
    "    #Requete sans le filtre sur les trains\n",
    "    requete = f\"{base_url}/stop_areas/{gare}/departures?from_datetime={date}\"\n",
    "    reponse = requests.get(requete, auth=(api_key,\"\"))\n",
    "    reponse_json = reponse.json()\n",
    "    \n",
    "    return reponse_json"
   ]
  },
  {
   "cell_type": "code",
   "execution_count": 67,
   "metadata": {},
   "outputs": [],
   "source": [
    "def to_json(data,nom_fichier):\n",
    "    '''Cette fonction permet d'enregistrer un fichier JSON'''\n",
    "    with open(nom_fichier, \"w\") as fc:\n",
    "        json.dump(data, fc)"
   ]
  },
  {
   "cell_type": "code",
   "execution_count": 68,
   "metadata": {},
   "outputs": [],
   "source": [
    "heure_min = convertir_en_string(hier_debut_journee)"
   ]
  },
  {
   "cell_type": "code",
   "execution_count": 72,
   "metadata": {},
   "outputs": [],
   "source": [
    "reponse = requete_api(CODE_GARE,heure_min)\n",
    "to_json(reponse,\"test.json\")"
   ]
  }
 ],
 "metadata": {
  "kernelspec": {
   "display_name": ".venv",
   "language": "python",
   "name": "python3"
  },
  "language_info": {
   "codemirror_mode": {
    "name": "ipython",
    "version": 3
   },
   "file_extension": ".py",
   "mimetype": "text/x-python",
   "name": "python",
   "nbconvert_exporter": "python",
   "pygments_lexer": "ipython3",
   "version": "3.12.1"
  }
 },
 "nbformat": 4,
 "nbformat_minor": 2
}
