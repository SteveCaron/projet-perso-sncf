{
 "cells": [
  {
   "cell_type": "markdown",
   "metadata": {},
   "source": [
    "# API SNCF: Les retards de train"
   ]
  },
  {
   "cell_type": "markdown",
   "metadata": {},
   "source": [
    "__Auteur :__ Steve Caron\n",
    "__Date de creation :__ 28/01/2024\n",
    "\n",
    "__Prerequis :__\n",
    "\n",
    "* Python 3\n",
    "* Une clef API SNCF stocké dans un environnement virtuel. Clé disponible sur : https://numerique.sncf.com/startup/api/\n",
    "* Git\n",
    "\n",
    "__Installation :__\n",
    "\n",
    "* Cloner le projet\n",
    "\n",
    "* Creer un environnement virtuel \n",
    "\n",
    "    ``py -m venv .venv``\n",
    "    \n",
    "* Activer l'environnement virtuel\n",
    "\n",
    "    ``.venv/Scripts/activate``\n",
    "\n",
    "* Installer les dépendance\n",
    "\n",
    "    ``pip install -r requirements.txt``\n",
    "\n",
    "__Params :__\n",
    "\n",
    "* CLEF_API : nom sous lequel est enregistrer la cle API\n",
    "* CODE_GARE : ID de la gare dont on veut récuperer les données"
   ]
  },
  {
   "cell_type": "code",
   "execution_count": 1,
   "metadata": {},
   "outputs": [],
   "source": [
    "from dotenv import load_dotenv\n",
    "import os\n",
    "import requests\n",
    "import pandas as pd\n",
    "import json\n",
    "import datetime"
   ]
  },
  {
   "cell_type": "code",
   "execution_count": 2,
   "metadata": {},
   "outputs": [],
   "source": [
    "CLEF_API = \"API_KEY\"\n",
    "CODE_GARE = \"stop_area:SNCF:87713040\""
   ]
  },
  {
   "cell_type": "markdown",
   "metadata": {},
   "source": [
    "Récupération de la clé API depuis l'environnement"
   ]
  },
  {
   "cell_type": "code",
   "execution_count": 3,
   "metadata": {},
   "outputs": [],
   "source": [
    "load_dotenv()\n",
    "api_key = os.getenv(CLEF_API)"
   ]
  },
  {
   "cell_type": "markdown",
   "metadata": {},
   "source": [
    "Je récupère la date du jour et à partir de celle-ci creer les arguments de ma requete. "
   ]
  },
  {
   "cell_type": "code",
   "execution_count": 4,
   "metadata": {},
   "outputs": [],
   "source": [
    "aujourdhui = datetime.date.today()\n",
    "hier_debut_journee = datetime.datetime(year=aujourdhui.year, month=aujourdhui.month, day=aujourdhui.day-1, hour=0, minute=0 ,second=0)\n",
    "hier_fin_journee = datetime.datetime(year=aujourdhui.year, month=aujourdhui.month, day=aujourdhui.day-1, hour=23, minute=59 ,second=59)"
   ]
  },
  {
   "cell_type": "markdown",
   "metadata": {},
   "source": [
    "Creation des fonctions pour coder et decoder les datetime"
   ]
  },
  {
   "cell_type": "code",
   "execution_count": 5,
   "metadata": {},
   "outputs": [],
   "source": [
    "def convertir_en_string(dt):\n",
    "    '''Cette fonction convertit un datetime en chaine de caractère'''\n",
    "    return datetime.datetime.strftime(dt,'%Y%m%dT%H%M%S')"
   ]
  },
  {
   "cell_type": "code",
   "execution_count": 6,
   "metadata": {},
   "outputs": [],
   "source": [
    "def convertir_en_datetime(str):\n",
    "    '''Cette fonction convertit une chaine de caractère en datetime'''\n",
    "    return datetime.datetime.strptime((str[:8]+str[9:]),'%Y%m%d%H%M%S')"
   ]
  },
  {
   "cell_type": "code",
   "execution_count": 7,
   "metadata": {},
   "outputs": [],
   "source": [
    "def to_json(data,nom_fichier):\n",
    "    '''Cette fonction permet d'enregistrer un fichier JSON'''\n",
    "    with open(nom_fichier, \"w\") as fc:\n",
    "        json.dump(data, fc)"
   ]
  },
  {
   "cell_type": "code",
   "execution_count": 8,
   "metadata": {},
   "outputs": [],
   "source": [
    "def requete_api(code_gare,code_reseau,date):\n",
    "\n",
    "    base_url = \"https://api.sncf.com/v1/coverage/sncf\"\n",
    "    #Requete sans le filtre sur les trains\n",
    "    requete = f\"{base_url}/stop_areas/{code_gare}/networks/{code_reseau}/arrivals?from_datetime={date}\"\n",
    "    reponse = requests.get(requete, auth=(api_key,\"\"))\n",
    "    reponse_json = reponse.json()\n",
    "    to_json(reponse_json,\"_test.json\")\n",
    "    \n",
    "    return reponse_json"
   ]
  },
  {
   "cell_type": "code",
   "execution_count": 9,
   "metadata": {},
   "outputs": [],
   "source": [
    "def requete_entre_dates(code_gare,code_reseau,date_min,date_max,liste_arrivee,liste_perturbation):\n",
    "\n",
    "    derniere_requete = date_min\n",
    "\n",
    "    print(f\"Première requete pour la gare {code_gare} à la date {derniere_requete} sur le reseau {code_reseau}\")\n",
    "\n",
    "    while derniere_requete < date_max:\n",
    "        # Requete api\n",
    "        reponse = requete_api(code_gare,code_reseau,derniere_requete)\n",
    "        # extrait les arrivées\n",
    "        arrivees = reponse[\"arrivals\"]\n",
    "        # extrait les perturbations\n",
    "        perturbations = reponse[\"disruptions\"]\n",
    "        # Ajoute chaque arrivées à la liste\n",
    "        [liste_arrivee.append(arrivee) for arrivee in arrivees]\n",
    "        # Ajoute chaque perturbations à la liste\n",
    "        [liste_perturbation.append(perturbation)  for perturbation in perturbations]\n",
    "        # Si il a moins de 10 arrivées, alors la prochaine requete ne donnera rien, on retourne donc directement les résultats\n",
    "        if len(arrivees) < 10:\n",
    "            print(f\"Dernière requete pour la gare {code_gare} à la date {derniere_requete} sur le reseau {code_reseau} // dernieres requetes {len(arrivees)} arrivées\")\n",
    "            return liste_arrivee,liste_perturbation\n",
    "        \n",
    "        derniere_requete = arrivees[-1][\"stop_date_time\"][\"base_arrival_date_time\"]\n",
    "    \n",
    "    print(f\"Dernière requete pour la gare {code_gare} à la date {derniere_requete} sur le reseau {code_reseau}\")\n",
    "    \n",
    "    return liste_arrivee,liste_perturbation\n"
   ]
  },
  {
   "cell_type": "code",
   "execution_count": 10,
   "metadata": {},
   "outputs": [],
   "source": [
    "def liste_id(nom_fichier):\n",
    "    '''Cette fonction ouvre un fichier json et récupère une liste de toutes les clé d'un dictionnaire '''\n",
    "\n",
    "    #Ouverture du fichier csv\n",
    "    with open(nom_fichier,\"r\") as jsonfil:\n",
    "        data_gare = json.load(jsonfil)\n",
    "    toutes_id = data_gare[\"id\"]\n",
    "    liste_cles_ranked = []\n",
    "    # J'ajoute toutes les clés du dictionnaire id dans une liste\n",
    "    [liste_cles_ranked.append(cle) for cle in toutes_id.keys()]\n",
    "    return data_gare,liste_cles_ranked"
   ]
  },
  {
   "cell_type": "code",
   "execution_count": 11,
   "metadata": {},
   "outputs": [],
   "source": [
    "def run(data_gare,cle,date_min,date_max):\n",
    "    '''Cette fontion lance les fonction pour traiter les donnée d'une gare'''\n",
    "    code_gare = data_gare[\"id\"].get(cle)\n",
    "    print(f\"Debut des requetes pour la gare: {code_gare}\")\n",
    "\n",
    "    liste_code_reseau = []\n",
    "    liste_arrivees = []\n",
    "    liste_perturbations = []\n",
    "\n",
    "    #Récupération des identifiant réseaux pour la gare en cours\n",
    "    [liste_code_reseau.append(reseau[\"id\"]) for reseau in data_gare[\"networks\"].get(cle)]\n",
    "\n",
    "    # Je traite réseau par réseau\n",
    "    for reseau in liste_code_reseau:\n",
    "        liste_arrivees, liste_perturbations = requete_entre_dates(code_gare,reseau,date_min,date_max,liste_arrivees,liste_perturbations)\n",
    "    \n",
    "    nom_fichier_arrivees = f\"data/arrivees/{code_gare}-{date_max}.json\".replace(\":\",\"_\")\n",
    "    nom_fichier_perturbation = f\"data/perturbations/{code_gare}-{date_max}.json\".replace(\":\",\"_\")\n",
    "    to_json(liste_arrivees,nom_fichier_arrivees)\n",
    "    to_json(liste_perturbations,nom_fichier_perturbation)"
   ]
  },
  {
   "cell_type": "code",
   "execution_count": 12,
   "metadata": {},
   "outputs": [],
   "source": [
    "date_min = convertir_en_string(hier_debut_journee)\n",
    "date_max = convertir_en_string(hier_fin_journee)"
   ]
  },
  {
   "cell_type": "code",
   "execution_count": 13,
   "metadata": {},
   "outputs": [],
   "source": [
    "data_gare,liste_cle = liste_id(\"data/_top200gare.json\")"
   ]
  },
  {
   "cell_type": "code",
   "execution_count": null,
   "metadata": {},
   "outputs": [],
   "source": [
    "for cle in liste_cle[2:5]:\n",
    "    run(data_gare,cle,date_min,date_max)"
   ]
  }
 ],
 "metadata": {
  "kernelspec": {
   "display_name": ".venv",
   "language": "python",
   "name": "python3"
  },
  "language_info": {
   "codemirror_mode": {
    "name": "ipython",
    "version": 3
   },
   "file_extension": ".py",
   "mimetype": "text/x-python",
   "name": "python",
   "nbconvert_exporter": "python",
   "pygments_lexer": "ipython3",
   "version": "3.12.1"
  }
 },
 "nbformat": 4,
 "nbformat_minor": 2
}
