{
 "cells": [
  {
   "cell_type": "markdown",
   "metadata": {},
   "source": [
    "# API SNCF: Les retards de train"
   ]
  },
  {
   "cell_type": "markdown",
   "metadata": {},
   "source": [
    "__Auteur :__ \n",
    "\n",
    "Steve Caron\n",
    "\n",
    "__Présentation :__ \n",
    "\n",
    "Ce script permet de requêter les informations sur les arrivées des trains en gare pour la journée d'hier. \n",
    "\n",
    "Il retourne les réponses des requêtes dans deux répertoires:\n",
    "\n",
    "* data/arrivees/ : répertoire contenant les informations sur les arrivées en gare\n",
    "\n",
    "* data/perturbations/ : répertoire contenant les informations sur les perturabations observées sur les arrivées en gare\n",
    "\n",
    "\n",
    "__Inputs :__ \n",
    "\n",
    "Un fichier data/top{n}gare.json contenant les informations permettant de faire les requêtes pour chaques gares. Les enregistrements sont classés en fonction de la fréquentation des gares.\n",
    "\n",
    "__Params :__\n",
    "\n",
    "* CLEF_API : nom sous lequel est enregistrer la cle API"
   ]
  },
  {
   "cell_type": "code",
   "execution_count": 239,
   "metadata": {},
   "outputs": [],
   "source": [
    "from dotenv import load_dotenv\n",
    "import os\n",
    "import requests\n",
    "import json\n",
    "import csv\n",
    "import datetime\n",
    "from dataclasses import dataclass,asdict"
   ]
  },
  {
   "cell_type": "code",
   "execution_count": 240,
   "metadata": {},
   "outputs": [],
   "source": [
    "CLEF_API = \"API_KEY\""
   ]
  },
  {
   "cell_type": "code",
   "execution_count": 241,
   "metadata": {},
   "outputs": [],
   "source": [
    "def convertir_en_string(dt):\n",
    "    '''Cette fonction convertit un datetime en chaîne de caractères'''\n",
    "    if str is None:\n",
    "        return None\n",
    "    else:\n",
    "        return datetime.datetime.strftime(dt,'%Y%m%dT%H%M%S')"
   ]
  },
  {
   "cell_type": "code",
   "execution_count": 242,
   "metadata": {},
   "outputs": [],
   "source": [
    "def convertir_en_datetime(str):\n",
    "    '''Cette fonction convertit une chaîne de caractères en datetime'''\n",
    "    if str is None:\n",
    "        return None\n",
    "    else:\n",
    "        return datetime.datetime.strptime(str,\"%Y%m%dT%H%M%S\")"
   ]
  },
  {
   "cell_type": "code",
   "execution_count": 243,
   "metadata": {},
   "outputs": [],
   "source": [
    "def to_json(data,nom_fichier):\n",
    "    '''Cette fonction permet d'enregistrer un fichier JSON'''\n",
    "    with open(nom_fichier, \"w\") as fc:\n",
    "        json.dump(data, fc)"
   ]
  },
  {
   "cell_type": "code",
   "execution_count": 244,
   "metadata": {},
   "outputs": [],
   "source": [
    "def to_csv(data,nom_fichier):\n",
    "    '''Cette fonction permet d'enregistrer un fichier CSV'''\n",
    "    with open(nom_fichier,\"w\", newline='', encoding='utf-8')as fc:\n",
    "        writer = csv.DictWriter(fc,fieldnames=data[0].keys())\n",
    "        writer.writeheader()\n",
    "        writer.writerows(data)"
   ]
  },
  {
   "cell_type": "code",
   "execution_count": 245,
   "metadata": {},
   "outputs": [],
   "source": [
    "def requete_api(code_gare,code_reseau,date):\n",
    "    '''Cette fonction effectue une requête API pour collecter la liste des arrivées pour une gare spécifique sur un réseau spécifique '''\n",
    "\n",
    "    base_url = \"https://api.sncf.com/v1/coverage/sncf\"\n",
    "    #Requete sans le filtre sur les trains\n",
    "    requete = f\"{base_url}/stop_areas/{code_gare}/networks/{code_reseau}/arrivals?from_datetime={date}\"\n",
    "    reponse = requests.get(requete, auth=(api_key,\"\"))\n",
    "    reponse_json = reponse.json()\n",
    "    to_json(reponse_json,\"_test.json\")\n",
    "    \n",
    "    return reponse_json"
   ]
  },
  {
   "cell_type": "code",
   "execution_count": 246,
   "metadata": {},
   "outputs": [],
   "source": [
    "def requete_entre_dates(code_gare,code_reseau,date_min,date_max,liste_arrivee,liste_perturbation,compteur_requete):\n",
    "    '''Cette fonction permet de faire des requêtes pour récupérer des données sur tous les enregistrements de la journée.\n",
    "    Elle sépare en deux listes les informations concernant les départs et les informations concernant les arrivées'''\n",
    "\n",
    "    derniere_requete = date_min\n",
    "\n",
    "    print(f\"Première requete pour la gare {code_gare} à la date {derniere_requete} sur le reseau {code_reseau}\")\n",
    "\n",
    "    while derniere_requete < date_max:\n",
    "        # Requete api\n",
    "        reponse = requete_api(code_gare,code_reseau,derniere_requete)\n",
    "        compteur_requete += 1\n",
    "        # extrait les arrivées\n",
    "        arrivees = reponse[\"arrivals\"]\n",
    "        # extrait les perturbations\n",
    "        perturbations = reponse[\"disruptions\"]\n",
    "        # Ajoute chaque arrivées de la requete à la liste\n",
    "        [liste_arrivee.append(arrivee) for arrivee in arrivees]\n",
    "        # Ajoute chaque perturbations de la requete à la liste\n",
    "        [liste_perturbation.append(perturbation)  for perturbation in perturbations]\n",
    "        # Si il a moins de 10 arrivées, alors la prochaine requete ne donnera rien, on retourne donc directement les résultats\n",
    "        if len(arrivees) < 10:\n",
    "            print(f\"Dernière requete pour la gare {code_gare} à la date {derniere_requete} sur le reseau {code_reseau} // dernieres requetes {len(arrivees)} arrivées\")\n",
    "            return liste_arrivee,liste_perturbation,compteur_requete\n",
    "        \n",
    "        derniere_requete = arrivees[-1][\"stop_date_time\"][\"base_arrival_date_time\"]\n",
    "    \n",
    "    print(f\"Dernière requete pour la gare {code_gare} à la date {derniere_requete} sur le reseau {code_reseau}\")\n",
    "    \n",
    "    return liste_arrivee,liste_perturbation,compteur_requete\n"
   ]
  },
  {
   "cell_type": "code",
   "execution_count": 247,
   "metadata": {},
   "outputs": [],
   "source": [
    "def liste_id(nom_fichier):\n",
    "    '''Cette fonction ouvre un fichier json et récupère une liste de toutes les clés d'un dictionnaire'''\n",
    "\n",
    "    #Ouverture du fichier csv\n",
    "    with open(nom_fichier,\"r\") as jsonfil:\n",
    "        data_gare = json.load(jsonfil)\n",
    "    toutes_id = data_gare[\"id\"]\n",
    "    liste_cles_ranked = []\n",
    "    # J'ajoute toutes les clés du dictionnaire id dans une liste\n",
    "    [liste_cles_ranked.append(cle) for cle in toutes_id.keys()]\n",
    "    return data_gare,liste_cles_ranked"
   ]
  },
  {
   "cell_type": "code",
   "execution_count": 248,
   "metadata": {},
   "outputs": [],
   "source": [
    "@dataclass\n",
    "class Arrivee:\n",
    "    gare_id:                            str | None\n",
    "    departure_date_time:                datetime.datetime | None\n",
    "    base_departure_date_time:           datetime.datetime | None\n",
    "    arrival_date_time:                  datetime.datetime | None\n",
    "    base_arrival_date_time:             datetime.datetime | None\n",
    "    network:                            str | None\n",
    "    ligne:                              str | None\n",
    "    direction:                          str | None\n",
    "    disruption_id:                      str | None"
   ]
  },
  {
   "cell_type": "code",
   "execution_count": 249,
   "metadata": {},
   "outputs": [],
   "source": [
    "@dataclass\n",
    "class Perturbation:\n",
    "    perturbation_id:                        str | None\n",
    "    debut:                                  datetime.datetime | None\n",
    "    fin:                                    datetime.datetime | None\n",
    "    effet:                                  str | None\n",
    "    message:                                str | None"
   ]
  },
  {
   "cell_type": "code",
   "execution_count": 250,
   "metadata": {},
   "outputs": [],
   "source": [
    "def extraire_donnees(data,liste_cles:list):\n",
    "    '''Cette fonction permet d'extraire une donnée dans un dictionnaire'''\n",
    "    try:\n",
    "        if len(liste_cles) ==1:\n",
    "            data = data[liste_cles[0]]\n",
    "        #Gestion des cas ou la premiere clé est application_period ou message qui contient une liste, on récupère alors les données du premier element de la liste\n",
    "        elif liste_cles[0] == \"application_periods\" or liste_cles[0] == \"messages\":\n",
    "            data = data[liste_cles[0]][0][liste_cles[1]]\n",
    "        #Gestion des cas ou la deuxieme clé est links qui contient une liste, on récupère alors les données du premier element de la liste\n",
    "        elif liste_cles[1] == \"links\":\n",
    "            data = data[liste_cles[0]][liste_cles[1]][0][liste_cles[2]]\n",
    "        else:\n",
    "            for une_cle in liste_cles:\n",
    "                data = data[une_cle]\n",
    "        return data\n",
    "    except (KeyError,IndexError):\n",
    "        return None"
   ]
  },
  {
   "cell_type": "code",
   "execution_count": 251,
   "metadata": {},
   "outputs": [],
   "source": [
    "def collecte_donnees_arrivee(json_arrivee):\n",
    "    '''Cette fonction instancie une arrivée et remplie les champs en extrayant les données d'un dictionnaire'''\n",
    "    arrivee = Arrivee(\n",
    "        gare_id = extraire_donnees(json_arrivee,[\"stop_point\",\"stop_area\",\"id\"]),\n",
    "        departure_date_time = convertir_en_datetime(extraire_donnees(json_arrivee,[\"stop_date_time\",\"departure_date_time\"])),\n",
    "        base_departure_date_time = convertir_en_datetime(extraire_donnees(json_arrivee,[\"stop_date_time\",\"base_departure_date_time\"])),\n",
    "        arrival_date_time = convertir_en_datetime(extraire_donnees(json_arrivee,[\"stop_date_time\",\"arrival_date_time\"])),\n",
    "        base_arrival_date_time = convertir_en_datetime(extraire_donnees(json_arrivee,[\"stop_date_time\",\"base_arrival_date_time\"])),\n",
    "        network = extraire_donnees(json_arrivee,[\"display_informations\",\"network\"]),\n",
    "        ligne = extraire_donnees(json_arrivee,[\"display_informations\",\"label\"]),\n",
    "        direction = extraire_donnees(json_arrivee,[\"display_informations\",\"direction\"]),\n",
    "        disruption_id = extraire_donnees(json_arrivee,[\"display_informations\",\"links\",\"id\"])\n",
    "    )\n",
    "    return asdict(arrivee)"
   ]
  },
  {
   "cell_type": "code",
   "execution_count": 252,
   "metadata": {},
   "outputs": [],
   "source": [
    "def collecte_donnees_perturbation(json_perturbation):\n",
    "    '''Cette fonction instancie une perturbation et remplie les champs en extrayant les données d'un dictionnaire'''\n",
    "    perturbation = Perturbation(\n",
    "        perturbation_id = extraire_donnees(json_perturbation,[\"id\"]),\n",
    "        debut = extraire_donnees(json_perturbation,[\"application_periods\",\"begin\"]),\n",
    "        fin = extraire_donnees(json_perturbation,[\"application_periods\",\"end\"]),\n",
    "        effet = extraire_donnees(json_perturbation,[\"severity\",\"effect\"]),\n",
    "        message = extraire_donnees(json_perturbation,[\"messages\",\"text\"])\n",
    "    )\n",
    "    return asdict(perturbation)"
   ]
  },
  {
   "cell_type": "code",
   "execution_count": 253,
   "metadata": {},
   "outputs": [],
   "source": [
    "def run(data_gare,cle,date_min,date_max):\n",
    "    '''Cette fontion lance les fonctions pour traiter les données d'une gare'''\n",
    "    code_gare = data_gare[\"id\"].get(cle)\n",
    "    nom_gare = data_gare[\"nom\"].get(cle)\n",
    "    print(f\"Debut des requetes pour la gare: {nom_gare}\")\n",
    "\n",
    "    compteur_requete = 0\n",
    "    liste_code_reseau = []\n",
    "    liste_arrivees = []\n",
    "    liste_perturbations = []\n",
    "\n",
    "    #Récupération des identifiant réseaux pour la gare en cours\n",
    "    [liste_code_reseau.append(reseau[\"id\"]) for reseau in data_gare[\"networks\"].get(cle)]\n",
    "\n",
    "    # Je traite réseau par réseau\n",
    "    for reseau in liste_code_reseau:\n",
    "        liste_arrivees, liste_perturbations,compteur_requete = requete_entre_dates(code_gare,reseau,date_min,date_max,liste_arrivees,liste_perturbations,compteur_requete)\n",
    "    \n",
    "    liste_arrivees_clean=[]\n",
    "    for arrivee in liste_arrivees:\n",
    "        data_clean_arrivees = collecte_donnees_arrivee(arrivee)\n",
    "        liste_arrivees_clean.append(data_clean_arrivees)\n",
    "    \n",
    "    liste_perturbations_clean=[]\n",
    "    for perturbation in liste_perturbations:\n",
    "        data_clean_perturbation =collecte_donnees_perturbation(perturbation)\n",
    "        liste_perturbations_clean.append(data_clean_perturbation)\n",
    "        \n",
    "    \n",
    "    print(f\"Fin des requetes pour la gare :{nom_gare} \\n {compteur_requete} requetes effectuées\")\n",
    "    \n",
    "    nom_fichier_arrivees = f\"data/arrivees/{code_gare}-{date_max}.json\".replace(\":\",\"_\")\n",
    "    nom_ficher_arrivees_clean = f\"data/arrivees_propres/{code_gare}-{date_max}.csv\".replace(\":\",\"_\")\n",
    "    nom_fichier_perturbations = f\"data/perturbations/{code_gare}-{date_max}.json\".replace(\":\",\"_\")\n",
    "    nom_ficher_perturbations_clean = f\"data/perturbations_propres/{code_gare}-{date_max}.csv\".replace(\":\",\"_\")\n",
    "    \n",
    "    to_json(liste_arrivees,nom_fichier_arrivees)\n",
    "    to_csv(liste_arrivees_clean,nom_ficher_arrivees_clean)\n",
    "    to_json(liste_perturbations,nom_fichier_perturbations)\n",
    "    to_csv(liste_perturbations_clean,nom_ficher_perturbations_clean)"
   ]
  },
  {
   "cell_type": "code",
   "execution_count": 254,
   "metadata": {},
   "outputs": [],
   "source": [
    "# Récupération de la clé API\n",
    "load_dotenv()\n",
    "api_key = os.getenv(CLEF_API)"
   ]
  },
  {
   "cell_type": "code",
   "execution_count": 255,
   "metadata": {},
   "outputs": [],
   "source": [
    "# Creation des string date permettant de faire les requete API \n",
    "aujourdhui = datetime.date.today()\n",
    "hier_debut_journee = datetime.datetime(year=aujourdhui.year, month=aujourdhui.month, day=aujourdhui.day-1, hour=0, minute=0 ,second=0)\n",
    "hier_fin_journee = datetime.datetime(year=aujourdhui.year, month=aujourdhui.month, day=aujourdhui.day-1, hour=23, minute=59 ,second=59)\n",
    "date_min = convertir_en_string(hier_debut_journee)\n",
    "date_max = convertir_en_string(hier_fin_journee)"
   ]
  },
  {
   "cell_type": "code",
   "execution_count": null,
   "metadata": {},
   "outputs": [],
   "source": [
    "# Récupération des clés dictionnaire contenant les informations des gares\n",
    "data_gare,liste_cle = liste_id(\"data/top200gare.json\")\n",
    "# Exécution du run pour chaque gare\n",
    "for cle in liste_cle[:1]:\n",
    "    run(data_gare,cle,date_min,date_max)"
   ]
  }
 ],
 "metadata": {
  "kernelspec": {
   "display_name": ".venv",
   "language": "python",
   "name": "python3"
  },
  "language_info": {
   "codemirror_mode": {
    "name": "ipython",
    "version": 3
   },
   "file_extension": ".py",
   "mimetype": "text/x-python",
   "name": "python",
   "nbconvert_exporter": "python",
   "pygments_lexer": "ipython3",
   "version": "3.12.1"
  }
 },
 "nbformat": 4,
 "nbformat_minor": 2
}
