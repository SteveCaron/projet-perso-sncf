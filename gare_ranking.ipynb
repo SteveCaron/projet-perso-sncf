{
 "cells": [
  {
   "cell_type": "code",
   "execution_count": 12,
   "metadata": {},
   "outputs": [],
   "source": [
    "import pandas as pd"
   ]
  },
  {
   "cell_type": "code",
   "execution_count": 13,
   "metadata": {},
   "outputs": [],
   "source": [
    "nb_valeurs = 200"
   ]
  },
  {
   "cell_type": "code",
   "execution_count": 14,
   "metadata": {},
   "outputs": [],
   "source": [
    "def lire_csv(nom_fichier):\n",
    "    '''Cette fonction permet de lire un fichier csv et de l'ouvrir dans un dataframe'''\n",
    "    dataframe = pd.read_csv(nom_fichier)\n",
    "    return dataframe"
   ]
  },
  {
   "cell_type": "code",
   "execution_count": 15,
   "metadata": {},
   "outputs": [],
   "source": [
    "def dataframe_to_csv(dataframe,nomfichier):\n",
    "    '''Cette fonction enregistre un dataframe en csv'''\n",
    "    dataframe.to_csv(nomfichier)"
   ]
  },
  {
   "cell_type": "code",
   "execution_count": 16,
   "metadata": {},
   "outputs": [],
   "source": [
    "def fichier_to_dataframe(chemin: str):\n",
    "    '''Cette fonction ouvre un fichier json ou csv et place son contenu dans un dataframe'''\n",
    "\n",
    "    #J'utilise split pour connaitre l'extension de mon fichier\n",
    "    extension = chemin.split(\".\")[-1]\n",
    "    if extension == \"csv\":\n",
    "        dataframe = pd.read_csv(chemin)\n",
    "    elif extension == \"json\":\n",
    "        dataframe = pd.read_json(chemin)\n",
    "    else:\n",
    "        print(\"L'extension du fichier doit être csv ou json\")\n",
    "\n",
    "    return dataframe"
   ]
  },
  {
   "cell_type": "code",
   "execution_count": 17,
   "metadata": {},
   "outputs": [],
   "source": [
    "def clean_data(dataframe):\n",
    "    '''Cette fonction selectionne deux colonne sur un dataframe, cast la colonne code en int, et ajoute un prefixe'''\n",
    "    \n",
    "    dataframe_deux_colonnes = dataframe[[\"code_uic\",\"total_voyageurs_2022\"]]\n",
    "    # Je cast la colonne code_uic en string\n",
    "    dataframe_deux_colonnes.loc[:,\"code_uic\"] = dataframe_deux_colonnes.loc[:,\"code_uic\"].astype(\"string\")\n",
    "    # J'applique une fonction lambda sur la colone code_uic pour ajouter un prefix à toutes les valeurs\n",
    "    dataframe_deux_colonnes.loc[:,\"code_uic\"] = dataframe_deux_colonnes.loc[:,\"code_uic\"].apply(lambda x: \"stop_area:SNCF:\"+x)\n",
    "    # Je renomme la colonne\n",
    "    dataframe_deux_colonnes = dataframe_deux_colonnes.rename(columns={'code_uic':'id'})\n",
    "\n",
    "    \n",
    "    return dataframe_deux_colonnes"
   ]
  },
  {
   "cell_type": "code",
   "execution_count": 18,
   "metadata": {},
   "outputs": [],
   "source": [
    "def joindre_dataframe(df1,df2):\n",
    "    '''Cette fonction permet de joindre deux dataframe'''\n",
    "    df3 = pd.merge(df1,df2, how='inner', on=\"id\")\n",
    "    return df3"
   ]
  },
  {
   "cell_type": "code",
   "execution_count": 19,
   "metadata": {},
   "outputs": [],
   "source": [
    "def topn(df,nb_valeurs):\n",
    "    '''Cette fonction classe un dataframe selon la frequentation des gare renvoie les n premières valeurs'''\n",
    "\n",
    "    #Range les enregistrements en fonction du nombre de voyageur\n",
    "    df_ranked = df.sort_values(\"total_voyageurs_2022\", ascending=False)\n",
    "    #Les 100 premières valeur\n",
    "    df_100 = df_ranked.iloc[:nb_valeurs]\n",
    "\n",
    "    return df_100   "
   ]
  },
  {
   "cell_type": "code",
   "execution_count": 32,
   "metadata": {},
   "outputs": [],
   "source": [
    "def main(nb_valeurs):\n",
    "    #Creation du dataframe\n",
    "    dataframe_brutes = fichier_to_dataframe(\"data/gare_frequentation_inclues.json\")\n",
    "    #Nettoyage des données\n",
    "    data_frequentation = clean_data(dataframe_brutes)\n",
    "    #Recupération des information des gares\n",
    "    data_gare = fichier_to_dataframe(\"data/liste_gare.csv\")\n",
    "    #Jointure des deux tables\n",
    "    tables_jointes = joindre_dataframe(data_frequentation,data_gare)\n",
    "    # Classement des n premieres valeurs\n",
    "    top_gares = topn(tables_jointes,nb_valeurs)\n",
    "    #Enregistrement\n",
    "    top_gares.head()\n",
    "    top_gares.to_csv(f\"data/top{nb_valeurs}gare.csv\", index=False)"
   ]
  },
  {
   "cell_type": "code",
   "execution_count": 33,
   "metadata": {},
   "outputs": [
    {
     "name": "stderr",
     "output_type": "stream",
     "text": [
      "C:\\Users\\steve\\AppData\\Local\\Temp\\ipykernel_7256\\3632447441.py:6: FutureWarning: Setting an item of incompatible dtype is deprecated and will raise in a future error of pandas. Value '<StringArray>\n",
      "['87757559', '87781278', '87746115', '87615195', '87743716', '87743146',\n",
      " '87172858', '87286856', '87721324', '87757567',\n",
      " ...\n",
      " '87725820', '87734723', '87713511', '87184531', '87143024', '87172221',\n",
      " '87343301', '87286229', '87281436', '87182378']\n",
      "Length: 2803, dtype: string' has dtype incompatible with int64, please explicitly cast to a compatible dtype first.\n",
      "  dataframe_deux_colonnes.loc[:,\"code_uic\"] = dataframe_deux_colonnes.loc[:,\"code_uic\"].astype(\"string\")\n"
     ]
    }
   ],
   "source": [
    "main(nb_valeurs)"
   ]
  }
 ],
 "metadata": {
  "kernelspec": {
   "display_name": ".venv",
   "language": "python",
   "name": "python3"
  },
  "language_info": {
   "codemirror_mode": {
    "name": "ipython",
    "version": 3
   },
   "file_extension": ".py",
   "mimetype": "text/x-python",
   "name": "python",
   "nbconvert_exporter": "python",
   "pygments_lexer": "ipython3",
   "version": "3.12.1"
  }
 },
 "nbformat": 4,
 "nbformat_minor": 2
}
