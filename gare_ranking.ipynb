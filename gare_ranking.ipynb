{
 "cells": [
  {
   "cell_type": "code",
   "execution_count": 95,
   "metadata": {},
   "outputs": [],
   "source": [
    "import requests\n",
    "import pandas as pd\n",
    "import json\n",
    "from time import sleep"
   ]
  },
  {
   "cell_type": "code",
   "execution_count": 96,
   "metadata": {},
   "outputs": [],
   "source": [
    "def lire_csv(nom_fichier):\n",
    "    '''Cette fonction permet de lire un fichier csv et de l'ouvrir dans un dataframe'''\n",
    "    dataframe = pd.read_csv(nom_fichier)\n",
    "    return dataframe"
   ]
  },
  {
   "cell_type": "code",
   "execution_count": 97,
   "metadata": {},
   "outputs": [],
   "source": [
    "def requete_info_gare(page):\n",
    "    url = f\"https://ressources.data.sncf.com/api/explore/v2.1/catalog/datasets/frequentation-gares/records?limit=100&offset={page*100}\"\n",
    "    reponse = requests.get(url).json()\n",
    "    return reponse"
   ]
  },
  {
   "cell_type": "code",
   "execution_count": 98,
   "metadata": {},
   "outputs": [],
   "source": [
    "def enregistrer_json(data,nom_fichier):\n",
    "    '''Cette fonction enregistre un fichier json'''\n",
    "    with open(nom_fichier,\"w\") as fc:\n",
    "        json.dump(data,fc)"
   ]
  },
  {
   "cell_type": "code",
   "execution_count": 99,
   "metadata": {},
   "outputs": [],
   "source": [
    "def dataframe_to_csv(dataframe,nomfichier):\n",
    "    '''Cette fonction enregistre un dataframe en csv'''\n",
    "    dataframe.to_csv(nomfichier)"
   ]
  },
  {
   "cell_type": "code",
   "execution_count": 100,
   "metadata": {},
   "outputs": [],
   "source": [
    "def calcul_nombre_page():\n",
    "        \n",
    "    premiere_requete = requete_info_gare(0)\n",
    "    nb_gare = premiere_requete[\"total_count\"]\n",
    "    nb_page = nb_gare // 100\n",
    "    if nb_gare % 100 != 0:\n",
    "        nb_page += 1\n",
    "\n",
    "    return nb_page"
   ]
  },
  {
   "cell_type": "code",
   "execution_count": 101,
   "metadata": {},
   "outputs": [],
   "source": [
    "def recuperer_toutes_pages(nb_pages):\n",
    "    '''Cette fonction fait une requete api pour chaque page et stocke les resultats dans une liste'''\n",
    "    #Initie liste gare\n",
    "    liste_info_gare = []\n",
    "    # Requete api pour chaque page\n",
    "    for page in range(nb_pages):\n",
    "        #recupère les données de la clé results\n",
    "        data_page = requete_info_gare(page)[\"results\"]\n",
    "        #ajoute les données à la liste, element par element\n",
    "        for item in data_page:\n",
    "            liste_info_gare.append(item)\n",
    "    return liste_info_gare  "
   ]
  },
  {
   "cell_type": "code",
   "execution_count": 102,
   "metadata": {},
   "outputs": [],
   "source": [
    "def fichier_to_dataframe(chemin: str):\n",
    "    '''Cette fonction ouvre un fichier json ou csv et place son contenu dans un dataframe'''\n",
    "\n",
    "    #J'utilise split pour connaitre l'extension de mon fichier\n",
    "    extension = chemin.split(\".\")[-1]\n",
    "    if extension == \"csv\":\n",
    "        dataframe = pd.read_csv(chemin)\n",
    "    elif extension == \"json\":\n",
    "        dataframe = pd.read_json(chemin)\n",
    "    else:\n",
    "        print(\"L'extension du fichier doit être csv ou json\")\n",
    "\n",
    "    return dataframe"
   ]
  },
  {
   "cell_type": "code",
   "execution_count": 103,
   "metadata": {},
   "outputs": [],
   "source": [
    "def clear_data(dataframe):\n",
    "    '''Cette fonction selectionne deux colonne sur un dataframe, cast la colonne code en int, et ajoute un prefixe'''\n",
    "    \n",
    "    dataframe_deux_colonnes = dataframe[[\"code_uic\",\"total_voyageurs_2022\"]]\n",
    "    # Je cast la colonne code_uic en string\n",
    "    dataframe_deux_colonnes.loc[:,\"code_uic\"] = dataframe_deux_colonnes.loc[:,\"code_uic\"].astype(\"string\")\n",
    "    # J'applique une fonction lambda sur la colone code_uic pour ajouter un prefix à toutes les valeurs\n",
    "    dataframe_deux_colonnes.loc[:,\"code_uic\"] = dataframe_deux_colonnes.loc[:,\"code_uic\"].apply(lambda x: \"stop_area:SNCF:\"+x)\n",
    "    # Je renomme la colonne\n",
    "    dataframe_deux_colonnes = dataframe_deux_colonnes.rename(columns={'code_uic':'id'})\n",
    "\n",
    "    \n",
    "    return dataframe_deux_colonnes"
   ]
  },
  {
   "cell_type": "code",
   "execution_count": 104,
   "metadata": {},
   "outputs": [],
   "source": [
    "def joindre_dataframe(df1,df2):\n",
    "    '''Cette fonction permet de joindre deux dataframe'''\n",
    "    df3 = pd.merge(df1,df2, how='inner', on=\"id\")\n",
    "    return df3"
   ]
  },
  {
   "cell_type": "code",
   "execution_count": 105,
   "metadata": {},
   "outputs": [],
   "source": [
    "def top100(df):\n",
    "    '''Cette fonction classe un dataframe selon la frequentation des gare renvoie les 100 premières valeurs'''\n",
    "\n",
    "    #Range les enregistrements en fonction du nombre de voyageur\n",
    "    df_ranked = df.sort_values(\"total_voyageurs_2022\", ascending=False)\n",
    "    #Les 100 premières valeur\n",
    "    df_100 = df_ranked.iloc[:100]\n",
    "\n",
    "    return df_100   "
   ]
  },
  {
   "cell_type": "code",
   "execution_count": 106,
   "metadata": {},
   "outputs": [],
   "source": [
    "def main():\n",
    "    #Calcul du nombre de page\n",
    "    nb_page = calcul_nombre_page()\n",
    "    #Fais les requetes sur toutes les pages\n",
    "    data_frequentation_brut = recuperer_toutes_pages(nb_page)\n",
    "    #Enregistrement du fichier json\n",
    "    enregistrer_json(data_frequentation_brut,\"data/donnees_brutes_frequentation.json\")\n",
    "    #Creation du dataframe\n",
    "    dataframe_brutes = fichier_to_dataframe(\"data/donnees_brutes_frequentation.json\")\n",
    "    #Nettoyage des données\n",
    "    data_frequentation = clear_data(dataframe_brutes)\n",
    "    #Recupération des information des gares\n",
    "    data_gare = fichier_to_dataframe(\"data/liste_gare.csv\")\n",
    "    #Jointure des deux tables\n",
    "    tables_jointes = joindre_dataframe(data_frequentation,data_gare)\n",
    "    #Sauvegarde en csv\n",
    "    tables_jointes.to_csv(\"data/liste_gare_et_frequentation.csv\")\n",
    "    # Classement des 100 premieres valeurs\n",
    "    top_gares = top100(tables_jointes)\n",
    "    #Enregistrement\n",
    "    top_gares.to_csv(\"data/top100gare.csv\")"
   ]
  },
  {
   "cell_type": "code",
   "execution_count": 107,
   "metadata": {},
   "outputs": [
    {
     "name": "stderr",
     "output_type": "stream",
     "text": [
      "C:\\Users\\steve\\AppData\\Local\\Temp\\ipykernel_20968\\1856679397.py:6: FutureWarning: Setting an item of incompatible dtype is deprecated and will raise in a future error of pandas. Value '<StringArray>\n",
      "['87757559', '87781278', '87746115', '87615195', '87743716', '87743146',\n",
      " '87172858', '87286856', '87721324', '87757567',\n",
      " ...\n",
      " '87725820', '87734723', '87713511', '87184531', '87143024', '87172221',\n",
      " '87343301', '87286229', '87281436', '87182378']\n",
      "Length: 3021, dtype: string' has dtype incompatible with int64, please explicitly cast to a compatible dtype first.\n",
      "  dataframe_deux_colonnes.loc[:,\"code_uic\"] = dataframe_deux_colonnes.loc[:,\"code_uic\"].astype(\"string\")\n"
     ]
    }
   ],
   "source": [
    "main()"
   ]
  }
 ],
 "metadata": {
  "kernelspec": {
   "display_name": ".venv",
   "language": "python",
   "name": "python3"
  },
  "language_info": {
   "codemirror_mode": {
    "name": "ipython",
    "version": 3
   },
   "file_extension": ".py",
   "mimetype": "text/x-python",
   "name": "python",
   "nbconvert_exporter": "python",
   "pygments_lexer": "ipython3",
   "version": "3.12.1"
  }
 },
 "nbformat": 4,
 "nbformat_minor": 2
}
