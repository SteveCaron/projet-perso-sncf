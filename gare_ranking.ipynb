{
 "cells": [
  {
   "cell_type": "markdown",
   "metadata": {},
   "source": [
    "# Selection des gares à étudier\n",
    "\n",
    "__Auteur :__ \n",
    "\n",
    "Steve Caron\n",
    "\n",
    "__Présentation :__ \n",
    "\n",
    "Ce script permet de trier les gares de l'API SNCF en fonction de leur fréquentation sur l'année 2022.\n",
    "\n",
    "Il retourne les données des gares dans un fichier json\n",
    "\n",
    "__Inputs :__ \n",
    "\n",
    "Un fichier data/gare_frequentation_inclues.json contenant les informations sur les gares (Créé à partir de ajout_reseau.ipynb)\n",
    "\n",
    "__Params :__ \n",
    "\n",
    "nb_valeurs : nombre de gares que l'on veut classer"
   ]
  },
  {
   "cell_type": "code",
   "execution_count": 1,
   "metadata": {},
   "outputs": [],
   "source": [
    "import pandas as pd"
   ]
  },
  {
   "cell_type": "code",
   "execution_count": 2,
   "metadata": {},
   "outputs": [],
   "source": [
    "nb_valeurs = 200"
   ]
  },
  {
   "cell_type": "code",
   "execution_count": 3,
   "metadata": {},
   "outputs": [],
   "source": [
    "def lire_csv(nom_fichier):\n",
    "    '''Cette fonction permet de lire un fichier csv et de l'ouvrir dans un dataframe'''\n",
    "    dataframe = pd.read_csv(nom_fichier)\n",
    "    return dataframe"
   ]
  },
  {
   "cell_type": "code",
   "execution_count": 5,
   "metadata": {},
   "outputs": [],
   "source": [
    "def fichier_to_dataframe(chemin: str):\n",
    "    '''Cette fonction ouvre un fichier json ou csv et place son contenu dans un dataframe'''\n",
    "\n",
    "    #J'utilise split pour connaitre l'extension de mon fichier\n",
    "    extension = chemin.split(\".\")[-1]\n",
    "    if extension == \"csv\":\n",
    "        dataframe = pd.read_csv(chemin)\n",
    "    elif extension == \"json\":\n",
    "        dataframe = pd.read_json(chemin)\n",
    "    else:\n",
    "        print(\"L'extension du fichier doit être csv ou json\")\n",
    "\n",
    "    return dataframe"
   ]
  },
  {
   "cell_type": "code",
   "execution_count": 6,
   "metadata": {},
   "outputs": [],
   "source": [
    "def clean_data(dataframe):\n",
    "    '''Cette fonction selectionne deux colonne sur un dataframe, cast la colonne code en int, et ajoute un prefixe'''\n",
    "    \n",
    "    dataframe_trois_colonnes = dataframe[[\"code_uic\",\"total_voyageurs_2022\",\"networks\"]]\n",
    "    # Je cast la colonne code_uic en string\n",
    "    dataframe_trois_colonnes.loc[:,\"code_uic\"] = dataframe_trois_colonnes.loc[:,\"code_uic\"].astype(\"string\")\n",
    "    # J'applique une fonction lambda sur la colone code_uic pour ajouter un prefix à toutes les valeurs\n",
    "    dataframe_trois_colonnes.loc[:,\"code_uic\"] = dataframe_trois_colonnes.loc[:,\"code_uic\"].apply(lambda x: \"stop_area:SNCF:\"+x)\n",
    "    # Je renomme la colonne\n",
    "    dataframe_trois_colonnes = dataframe_trois_colonnes.rename(columns={'code_uic':'id'})\n",
    "\n",
    "    \n",
    "    return dataframe_trois_colonnes"
   ]
  },
  {
   "cell_type": "code",
   "execution_count": 7,
   "metadata": {},
   "outputs": [],
   "source": [
    "def joindre_dataframe(df1,df2):\n",
    "    '''Cette fonction permet de joindre deux dataframe'''\n",
    "    df3 = pd.merge(df1,df2, how='inner', on=\"id\")\n",
    "    return df3"
   ]
  },
  {
   "cell_type": "code",
   "execution_count": 8,
   "metadata": {},
   "outputs": [],
   "source": [
    "def topn(df,nb_valeurs):\n",
    "    '''Cette fonction classe un dataframe selon la frequentation des gare renvoie les n premières valeurs'''\n",
    "\n",
    "    #Range les enregistrements en fonction du nombre de voyageur\n",
    "    df_ranked = df.sort_values(\"total_voyageurs_2022\", ascending=False)\n",
    "    #Les 100 premières valeur\n",
    "    df_n = df_ranked.iloc[:nb_valeurs]\n",
    "\n",
    "    return df_n"
   ]
  },
  {
   "cell_type": "code",
   "execution_count": 9,
   "metadata": {},
   "outputs": [],
   "source": [
    "def main(nb_valeurs):\n",
    "    #Creation du dataframe\n",
    "    dataframe_brutes = fichier_to_dataframe(\"data/gare_frequentation_inclues.json\")\n",
    "    #Nettoyage des données\n",
    "    data_frequentation = clean_data(dataframe_brutes)\n",
    "    #Recupération des information des gares\n",
    "    data_gare = fichier_to_dataframe(\"data/liste_gare.csv\")\n",
    "    #Jointure des deux tables\n",
    "    tables_jointes = joindre_dataframe(data_frequentation,data_gare)\n",
    "    # Classement des n premieres valeurs\n",
    "    top_gares = topn(tables_jointes,nb_valeurs)\n",
    "    # Enregistrement en json\n",
    "    top_gares.to_json(f\"data/top{nb_valeurs}gare.json\")"
   ]
  },
  {
   "cell_type": "code",
   "execution_count": null,
   "metadata": {},
   "outputs": [],
   "source": [
    "main(nb_valeurs)"
   ]
  }
 ],
 "metadata": {
  "kernelspec": {
   "display_name": ".venv",
   "language": "python",
   "name": "python3"
  },
  "language_info": {
   "codemirror_mode": {
    "name": "ipython",
    "version": 3
   },
   "file_extension": ".py",
   "mimetype": "text/x-python",
   "name": "python",
   "nbconvert_exporter": "python",
   "pygments_lexer": "ipython3",
   "version": "3.12.1"
  }
 },
 "nbformat": 4,
 "nbformat_minor": 2
}
