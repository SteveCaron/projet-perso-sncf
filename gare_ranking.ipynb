{
 "cells": [
  {
   "cell_type": "code",
   "execution_count": 3,
   "metadata": {},
   "outputs": [],
   "source": [
    "import os\n",
    "import requests\n",
    "import pandas as pd\n",
    "import json\n",
    "from time import sleep"
   ]
  },
  {
   "cell_type": "code",
   "execution_count": 1,
   "metadata": {},
   "outputs": [],
   "source": [
    "def lire_csv(nom_fichier):\n",
    "    '''Cette fonction permet de lire un fichier csv et de l'ouvrir dans un dataframe'''\n",
    "    dataframe = pd.read_csv(nom_fichier)\n",
    "    return dataframe"
   ]
  },
  {
   "cell_type": "code",
   "execution_count": 65,
   "metadata": {},
   "outputs": [],
   "source": [
    "def requete_info_gare(page):\n",
    "    url = f\"https://ressources.data.sncf.com/api/explore/v2.1/catalog/datasets/frequentation-gares/records?limit=100&offset={page*100}\"\n",
    "    reponse = requests.get(url).json()\n",
    "    return reponse"
   ]
  },
  {
   "cell_type": "code",
   "execution_count": 7,
   "metadata": {},
   "outputs": [],
   "source": [
    "def enregistrer_json(data,nom_fichier):\n",
    "    '''Cette fonction enregistre un fichier json'''\n",
    "    with open(nom_fichier,\"w\") as fc:\n",
    "        json.dump(data,fc)"
   ]
  },
  {
   "cell_type": "code",
   "execution_count": 123,
   "metadata": {},
   "outputs": [],
   "source": [
    "def dataframe_to_csv(dataframe,nomfichier):\n",
    "    '''Cette fonction enregistre un dataframe en csv'''\n",
    "    dataframe.to_csv(nomfichier)"
   ]
  },
  {
   "cell_type": "code",
   "execution_count": 64,
   "metadata": {},
   "outputs": [],
   "source": [
    "def calcul_nombre_page():\n",
    "        \n",
    "    premiere_requete = requete_info_gare(0)\n",
    "    nb_gare = premiere_requete[\"total_count\"]\n",
    "    nb_page = nb_gare // 100\n",
    "    if nb_gare % 100 != 0:\n",
    "        nb_page += 1\n",
    "\n",
    "    return nb_page"
   ]
  },
  {
   "cell_type": "code",
   "execution_count": 27,
   "metadata": {},
   "outputs": [],
   "source": [
    "def recuperer_toutes_pages(nb_pages):\n",
    "    '''Cette fonction fait une requete api pour chaque page et stocke les resultats dans une liste'''\n",
    "    #Initie liste gare\n",
    "    liste_info_gare = []\n",
    "    # Requete api pour chaque page\n",
    "    for page in range(nb_pages):\n",
    "        #recupère les données de la clé results\n",
    "        data_page = requete_info_gare(page)[\"results\"]\n",
    "        #ajoute les données à la liste, element par element\n",
    "        for item in data_page:\n",
    "            liste_info_gare.append(item)\n",
    "    return liste_info_gare\n",
    "    "
   ]
  },
  {
   "cell_type": "code",
   "execution_count": 86,
   "metadata": {},
   "outputs": [],
   "source": [
    "def fichier_to_dataframe(chemin: str):\n",
    "    '''Cette fonction ouvre un fichier json ou csv et place son contenu dans un dataframe'''\n",
    "\n",
    "    #J'utilise split pour connaitre l'extension de mon fichier\n",
    "    extension = chemin.split(\".\")[-1]\n",
    "    if extension == \"csv\":\n",
    "        dataframe = pd.read_csv(chemin)\n",
    "    elif extension == \"json\":\n",
    "        dataframe = pd.read_json(chemin)\n",
    "    else:\n",
    "        print(\"L'extension du fichier doit être csv ou json\")\n",
    "\n",
    "    return dataframe"
   ]
  },
  {
   "cell_type": "code",
   "execution_count": 120,
   "metadata": {},
   "outputs": [],
   "source": [
    "def clear_data(dataframe):\n",
    "    '''Cette fonction selectionne deux colonne sur un dataframe, cast la colonne code en int, et ajoute un prefixe'''\n",
    "    dataframe_deux_colonnes = dataframe[[\"code_uic\",\"total_voyageurs_2022\"]]\n",
    "    # Je cast la colonne code_uic en string\n",
    "    dataframe_deux_colonnes.loc[:,\"code_uic\"] = dataframe_deux_colonnes.loc[:,\"code_uic\"].astype(\"string\")\n",
    "    # J'applique une fonction lambda sur la colone code_uic pour ajouter un prefix à toutes les valeurs\n",
    "    dataframe_deux_colonnes.loc[:,\"code_uic\"] = dataframe_deux_colonnes.loc[:,\"code_uic\"].apply(lambda x: \"stop_area:SNCF:\"+x)\n",
    "    # Je renomme la colonne\n",
    "    dataframe_deux_colonnes = dataframe_deux_colonnes.rename(columns={'code_uic':'id'})\n",
    "    return dataframe_deux_colonnes\n"
   ]
  },
  {
   "cell_type": "code",
   "execution_count": 118,
   "metadata": {},
   "outputs": [],
   "source": [
    "def joindre_dataframe(df1,df2):\n",
    "    '''Cette fonction permet de joindre deux dataframe'''\n",
    "    df3 = pd.merge(df1,df2, how='left', on=\"id\")\n",
    "    return df3"
   ]
  },
  {
   "cell_type": "code",
   "execution_count": 73,
   "metadata": {},
   "outputs": [],
   "source": [
    "def main():\n",
    "    #Calcul du nombre de page\n",
    "    nb_page = calcul_nombre_page()\n",
    "    #Fais les requetes sur toutes les pages\n",
    "    data_frequentation_brut = recuperer_toutes_pages(nb_page)\n",
    "    #Nettoyage des données\n",
    "    data_frequentation = clear_data(data_frequentation_brut)\n",
    "    #Recupération des information des gares\n",
    "    data_gare = fichier_to_dataframe(\"liste_gare.csv\")\n",
    "    #Jointure des deux tables\n",
    "    tables_jointes = joindre_dataframe(data_frequentation,data_gare)\n",
    "    #sauvegarde en csv\n",
    "    tables_jointes.to_csv(\"liste_gare_et_frequentation.csv\")\n",
    "    "
   ]
  },
  {
   "cell_type": "code",
   "execution_count": null,
   "metadata": {},
   "outputs": [],
   "source": [
    "main()"
   ]
  }
 ],
 "metadata": {
  "kernelspec": {
   "display_name": ".venv",
   "language": "python",
   "name": "python3"
  },
  "language_info": {
   "codemirror_mode": {
    "name": "ipython",
    "version": 3
   },
   "file_extension": ".py",
   "mimetype": "text/x-python",
   "name": "python",
   "nbconvert_exporter": "python",
   "pygments_lexer": "ipython3",
   "version": "3.12.1"
  }
 },
 "nbformat": 4,
 "nbformat_minor": 2
}
