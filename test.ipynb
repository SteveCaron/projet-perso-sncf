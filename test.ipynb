{
 "cells": [
  {
   "cell_type": "markdown",
   "metadata": {},
   "source": [
    "# Utilisation de l'api SNCF"
   ]
  },
  {
   "cell_type": "markdown",
   "metadata": {},
   "source": [
    "Ce notebook a pour but d'utiliser l'api SNCF afin de répondre a la question suivante : \n",
    "\n",
    "Dans quelle gare il y a le plus de retard de train en France.\n",
    "\n",
    "Pour utiliser l'api nous avons besoin d'une clef API qui sera stocker dans un secret.\n",
    "\n",
    "\n",
    "__Librairies :__\n",
    "\n",
    "python-dotenv"
   ]
  },
  {
   "cell_type": "code",
   "execution_count": null,
   "metadata": {},
   "outputs": [],
   "source": [
    "from dotenv import load_dotenv\n",
    "import os\n",
    "import requests\n",
    "import pandas as pd\n",
    "import json\n",
    "from datetime import datetime"
   ]
  },
  {
   "cell_type": "markdown",
   "metadata": {},
   "source": [
    "Je charge ma clé API dans une variable"
   ]
  },
  {
   "cell_type": "code",
   "execution_count": null,
   "metadata": {},
   "outputs": [],
   "source": [
    "load_dotenv()\n",
    "api_key = os.getenv(\"API_KEY\")"
   ]
  },
  {
   "cell_type": "code",
   "execution_count": null,
   "metadata": {},
   "outputs": [],
   "source": [
    "def requete_api(requete):\n",
    "    reponse = requests.get(requete, auth=(api_key,\"\"))\n",
    "    reponse.status_code\n",
    "    reponse_json = reponse.json()\n",
    "    return reponse_json"
   ]
  },
  {
   "cell_type": "code",
   "execution_count": null,
   "metadata": {},
   "outputs": [],
   "source": [
    "def ecrire_json(data,nom_fichier):\n",
    "    with open(nom_fichier, \"w\") as fc:\n",
    "        json.dump(data, fc)"
   ]
  },
  {
   "cell_type": "code",
   "execution_count": null,
   "metadata": {},
   "outputs": [],
   "source": [
    "def main():\n",
    "    pass"
   ]
  },
  {
   "cell_type": "markdown",
   "metadata": {},
   "source": [
    "### Exemples"
   ]
  },
  {
   "cell_type": "markdown",
   "metadata": {},
   "source": [
    "__Le détail des modes de transport couvert par l’API__"
   ]
  },
  {
   "cell_type": "code",
   "execution_count": null,
   "metadata": {},
   "outputs": [],
   "source": [
    "requete = \"https://api.sncf.com/v1/coverage/sncf/commercial_modes\"\n",
    "reponse = requete_api(requete)"
   ]
  },
  {
   "cell_type": "markdown",
   "metadata": {},
   "source": [
    "Mon fichier JSON est organisé en plusieur clés. Je récupère toutes les clés."
   ]
  },
  {
   "cell_type": "code",
   "execution_count": null,
   "metadata": {},
   "outputs": [],
   "source": [
    "for key in reponse.keys():\n",
    "    print(key)"
   ]
  },
  {
   "cell_type": "markdown",
   "metadata": {},
   "source": [
    "Les données qui m'interesse sont stocké dans la clé commercial_modes, je récupère donc les données de cette clé.\n",
    "\n",
    "Je peux ensuite les charger dans un dataframe pandas"
   ]
  },
  {
   "cell_type": "code",
   "execution_count": null,
   "metadata": {},
   "outputs": [],
   "source": [
    "data = reponse.get(\"commercial_modes\")\n",
    "dataframe = pd.DataFrame(data)\n",
    "dataframe.head()"
   ]
  },
  {
   "cell_type": "markdown",
   "metadata": {},
   "source": [
    "__Itinéraires entre Paris et Lyon__"
   ]
  },
  {
   "cell_type": "code",
   "execution_count": null,
   "metadata": {},
   "outputs": [],
   "source": [
    "requete = \"https://api.sncf.com/v1/coverage/sncf/journeys?from=admin:fr:75056&to=admin:fr:69123&datetime=20240123T105527\"\n",
    "reponse = requete_api(requete)\n",
    "ecrire_json(reponse,\"reponse.json\")\n",
    "for key in reponse.keys():\n",
    "    print(key)"
   ]
  },
  {
   "cell_type": "markdown",
   "metadata": {},
   "source": [
    "### Exercice"
   ]
  },
  {
   "cell_type": "markdown",
   "metadata": {},
   "source": [
    "Récupérer les informations sur le trajet entre Paris Gare de Lyon et Lyon Perrache le 17 novembre à 19h57\n",
    "\n",
    "* Indice : utiliser la requête “journeys”\n",
    "\n",
    "* Autre indice : le format de la date est AAAAMMJJTHHMMSS (Année, mois, jour, heure, minutes, secondes\n",
    "\n",
    "Combien y a t-il d'arrêts entre ces deux gares ?\n",
    "\n",
    "Combien de temps d'arrêt à chacune d'elles ? "
   ]
  },
  {
   "cell_type": "markdown",
   "metadata": {},
   "source": [
    "__Je recherche les stop_area :__"
   ]
  },
  {
   "cell_type": "code",
   "execution_count": null,
   "metadata": {},
   "outputs": [],
   "source": [
    "#Dans la région sncf je recherche les places contenant \"lyon\"\n",
    "requete = \"https://api.sncf.com/v1/coverage/sncf/places?q=lyon\"\n",
    "reponse = requete_api(requete)\n",
    "ecrire_json(reponse,\"liste place.json\")"
   ]
  },
  {
   "cell_type": "code",
   "execution_count": null,
   "metadata": {},
   "outputs": [],
   "source": [
    "code_gare_paris_gare_de_lyon = \"stop_area:SNCF:87686006\"\n",
    "code_gare_lyon_perrache = \"stop_area:SNCF:87722025\"\n",
    "date = \"20240124T195700\" \n",
    "url_base = \"https://api.sncf.com/v1/coverage/sncf/journeys?\"\n"
   ]
  },
  {
   "cell_type": "code",
   "execution_count": null,
   "metadata": {},
   "outputs": [],
   "source": [
    "requete = f\"{url_base}from={code_gare_paris_gare_de_lyon}&to={code_gare_lyon_perrache}&datetime={date}\"\n",
    "reponse = requete_api(requete)\n",
    "ecrire_json(reponse,\"reponse.json\")"
   ]
  },
  {
   "cell_type": "code",
   "execution_count": null,
   "metadata": {},
   "outputs": [],
   "source": [
    "#Nombre de voyage proposé\n",
    "voyages = reponse.get(\"journeys\")\n",
    "nb_voyage = len(voyages)\n",
    "print(f\"il y a {nb_voyage} proposé.s\")"
   ]
  },
  {
   "cell_type": "markdown",
   "metadata": {},
   "source": [
    "Je veux garder uniquement le voyage le plus rapide"
   ]
  },
  {
   "cell_type": "code",
   "execution_count": null,
   "metadata": {},
   "outputs": [],
   "source": [
    "def voyage_rapide(journeys):\n",
    "    '''Cette fonction parcours une liste de voyage et renvoie le voyage le plus rapide'''\n",
    "\n",
    "    voyage_le_plus_rapide = None\n",
    "    for voyage in voyages:\n",
    "        if voyage[\"type\"] == \"fastest\":\n",
    "            voyage_le_plus_rapide = voyage\n",
    "            break\n",
    "\n",
    "    if voyage_le_plus_rapide is None:\n",
    "        print(\"Pas de voyage fastest trouvé\")\n",
    "    else:\n",
    "        print(\"voyage rapide trouvé\")\n",
    "\n",
    "    return voyage_le_plus_rapide"
   ]
  },
  {
   "cell_type": "code",
   "execution_count": null,
   "metadata": {},
   "outputs": [],
   "source": [
    "def decode_datetime(date_codee):\n",
    "    #On enleve le T du code\n",
    "    date_decodee = datetime.strptime(date_codee,\"%Y%m%dT%H%M%S\")\n",
    "    return date_decodee"
   ]
  },
  {
   "cell_type": "code",
   "execution_count": null,
   "metadata": {},
   "outputs": [],
   "source": [
    "def liste_arrets(voyage):\n",
    "    '''Cette fonction extrait les arrets d'un voyage et les présente dans un dataframe avec les heures de départ et d'arrivée'''\n",
    "\n",
    "    nb_correspondance = voyage[\"nb_transfers\"]\n",
    "    print(f\"Dans ce voyage il y a {nb_correspondance} correspondances\")\n",
    "    # Pour un voyage sans correspondances les sections sont organisé de la façon suivante :\n",
    "    # type = crow_fly / type=public_transport / type = crow_fly\n",
    "    # On garde la deuxième section\n",
    "    # Les arrêts sont stocké sous la clé stop_date_times\n",
    "    arrets = voyage[\"sections\"][1][\"stop_date_times\"]\n",
    "    nb_arrets = len(arrets)\n",
    "    print(f\"Dans ce voyage il y a {nb_arrets} arrets\")\n",
    "\n",
    "    #Je récupère mes données sous forme d'une liste\n",
    "    donnees = []\n",
    "\n",
    "    for arret in arrets:\n",
    "        #J'ajoute a chaque element de ma liste un dictionnaire contenant des informations sur les arrêts\n",
    "        donnees.append(dict(nom = arret[\"stop_point\"][\"name\"],\n",
    "                        arrive = decode_datetime(arret[\"arrival_date_time\"]),\n",
    "                        depart = decode_datetime(arret[\"departure_date_time\"])))\n",
    "\n",
    "    dataframe = pd.DataFrame(donnees)\n",
    "\n",
    "    return dataframe\n"
   ]
  },
  {
   "cell_type": "code",
   "execution_count": null,
   "metadata": {},
   "outputs": [],
   "source": [
    "voyage = voyage_rapide(voyages)\n",
    "arrets = liste_arrets(voyage)\n",
    "arrets.head()"
   ]
  },
  {
   "cell_type": "markdown",
   "metadata": {},
   "source": [
    "__Question 2 :__"
   ]
  },
  {
   "cell_type": "markdown",
   "metadata": {},
   "source": [
    "Vous êtes un peu pressé et vous avez peur de vous tromper en arrivant à la gare car d’autres TGV partent à peu près en même temps (à partir de 19h00) de la gare de Lyon.\n",
    "\n",
    "* Si vous demandez à l’API, combien de résultats vous donne-t-elle ?\n",
    "\n",
    "* Quels sont les horaires de départ de ces trains ?\n",
    "\n",
    "* Parmi ces trains, combien de trains ont pour destination finale Lyon et qui partent le 17 novembre ?"
   ]
  },
  {
   "cell_type": "markdown",
   "metadata": {},
   "source": [
    "Je veux tous les trains qui partent de gare de Lyon à 19h"
   ]
  },
  {
   "cell_type": "code",
   "execution_count": null,
   "metadata": {},
   "outputs": [],
   "source": [
    "code_gare_paris_gare_de_lyon = \"stop_area:SNCF:87686006\"\n",
    "date = \"20240125T190000\"\n",
    "url_base = \"https://api.sncf.com/v1/coverage/sncf\"\n",
    "network = \"network:SNCF:OUI\"\n",
    "physical_mode = \"physical_mode:LongDistanceTrain\""
   ]
  },
  {
   "cell_type": "code",
   "execution_count": null,
   "metadata": {},
   "outputs": [],
   "source": [
    "requete_network = f\"{url_base}/stop_areas/{code_gare_paris_gare_de_lyon}/networks/{network}/departures?from_datetime={date}\"\n",
    "requete_physical_mode =f\"{url_base}/stop_areas/{code_gare_paris_gare_de_lyon}/physical_modes/{physical_mode}/departures?from_datetime={date}\"\n",
    "reponse = requete_api(requete_physical_mode)\n",
    "ecrire_json(reponse,\"exercice_2.json\")"
   ]
  },
  {
   "cell_type": "code",
   "execution_count": null,
   "metadata": {},
   "outputs": [],
   "source": [
    "data=[]\n",
    "departs = reponse[\"departures\"]\n",
    "\n",
    "for depart in departs:\n",
    "    \n",
    "    heure_depart =decode_datetime(depart[\"stop_date_time\"][\"departure_date_time\"])\n",
    "    heure_depart_prevue = decode_datetime(depart[\"stop_date_time\"][\"base_departure_date_time\"])\n",
    "\n",
    "\n",
    "    data.append(dict(commercial_mode = depart[\"display_informations\"][\"commercial_mode\"],\n",
    "                    reseau = depart[\"display_informations\"][\"network\"],\n",
    "                    numero = depart[\"display_informations\"][\"headsign\"],\n",
    "                    direction = depart[\"display_informations\"][\"direction\"],\n",
    "                    heure_depart =decode_datetime(depart[\"stop_date_time\"][\"departure_date_time\"]),\n",
    "                    heure_depart_prevue = decode_datetime(depart[\"stop_date_time\"][\"base_departure_date_time\"]),\n",
    "                    delais=  heure_depart - heure_depart_prevue ))\n",
    "\n",
    "dataframe = pd.DataFrame(data)\n",
    "dataframe.head(20)"
   ]
  },
  {
   "cell_type": "markdown",
   "metadata": {},
   "source": [
    "__Question 3:__"
   ]
  },
  {
   "cell_type": "markdown",
   "metadata": {},
   "source": [
    "En fait, vous n’êtes plus très sûr de vouloir aller à Lyon. Mais bon maintenant vous êtes Gare de Lyon et il est 18h00.\n",
    "\n",
    "* Combien de tgv partent entre 18h00 et 20h00 ?\n",
    "\n",
    "* Lequel arrive le plus tôt à sa destination finale ?"
   ]
  },
  {
   "cell_type": "code",
   "execution_count": null,
   "metadata": {},
   "outputs": [],
   "source": [
    "code_gare_paris_gare_de_lyon = \"stop_area:SNCF:87686006\"\n",
    "date_debut = \"20240125T180000\"\n",
    "date_fin = \"20240125T200000\"\n",
    "url_base = \"https://api.sncf.com/v1/coverage/sncf\"\n",
    "physical_mode = \"physical_mode:LongDistanceTrain\""
   ]
  },
  {
   "cell_type": "markdown",
   "metadata": {},
   "source": [
    "Je fais ma requete en filtrant sur le physical_mode et sur les datetime. J'augmente également le nombre de réponse à 20"
   ]
  },
  {
   "cell_type": "code",
   "execution_count": 22,
   "metadata": {},
   "outputs": [],
   "source": [
    "requete_physical_mode =f\"{url_base}/stop_areas/{code_gare_paris_gare_de_lyon}\\\n",
    "/physical_modes/{physical_mode}/departures?from_datetime={date_debut}&max_datetime={date_fin}&count=20&\"\n",
    "reponse = requete_api(requete_physical_mode)\n",
    "ecrire_json(reponse,\"exercice_3.json\")"
   ]
  },
  {
   "cell_type": "code",
   "execution_count": 40,
   "metadata": {},
   "outputs": [],
   "source": [
    "def departs_to_dataframe(liste_departs):\n",
    "    '''Cette fonction parcours tous les départs d'une liste, en extrait des informations et retourne un dataframe'''\n",
    "\n",
    "    data=[]\n",
    "    for depart in liste_departs:\n",
    "        heure_depart =decode_datetime(depart[\"stop_date_time\"][\"departure_date_time\"])\n",
    "        heure_depart_prevue = decode_datetime(depart[\"stop_date_time\"][\"base_departure_date_time\"])\n",
    "\n",
    "\n",
    "        data.append(dict(reseau = depart[\"display_informations\"][\"network\"],\n",
    "                        numero = depart[\"display_informations\"][\"headsign\"],\n",
    "                        direction = depart[\"display_informations\"][\"direction\"],\n",
    "                        heure_depart =decode_datetime(depart[\"stop_date_time\"][\"departure_date_time\"]),\n",
    "                        heure_depart_prevue = decode_datetime(depart[\"stop_date_time\"][\"base_departure_date_time\"]),\n",
    "                        delais=  heure_depart - heure_depart_prevue,\n",
    "                        heure_arrivee = decode_datetime(depart[\"stop_date_time\"][\"arrival_date_time\"])))\n",
    "    \n",
    "    dataframe=pd.DataFrame(data)\n",
    "    \n",
    "    return dataframe"
   ]
  },
  {
   "cell_type": "code",
   "execution_count": 30,
   "metadata": {},
   "outputs": [
    {
     "data": {
      "text/html": [
       "<div>\n",
       "<style scoped>\n",
       "    .dataframe tbody tr th:only-of-type {\n",
       "        vertical-align: middle;\n",
       "    }\n",
       "\n",
       "    .dataframe tbody tr th {\n",
       "        vertical-align: top;\n",
       "    }\n",
       "\n",
       "    .dataframe thead th {\n",
       "        text-align: right;\n",
       "    }\n",
       "</style>\n",
       "<table border=\"1\" class=\"dataframe\">\n",
       "  <thead>\n",
       "    <tr style=\"text-align: right;\">\n",
       "      <th></th>\n",
       "      <th>commercial_mode</th>\n",
       "      <th>reseau</th>\n",
       "      <th>numero</th>\n",
       "      <th>direction</th>\n",
       "      <th>heure_depart</th>\n",
       "      <th>heure_depart_prevue</th>\n",
       "      <th>delais</th>\n",
       "      <th>heure_arrivee</th>\n",
       "    </tr>\n",
       "  </thead>\n",
       "  <tbody>\n",
       "    <tr>\n",
       "      <th>0</th>\n",
       "      <td>TGV INOUI</td>\n",
       "      <td>TGV INOUI</td>\n",
       "      <td>917</td>\n",
       "      <td>Bourg-Saint-Maurice (Bourg-Saint-Maurice)</td>\n",
       "      <td>2024-02-17 05:59:00</td>\n",
       "      <td>2024-02-17 05:59:00</td>\n",
       "      <td>0 days</td>\n",
       "      <td>2024-02-17 05:59:00</td>\n",
       "    </tr>\n",
       "    <tr>\n",
       "      <th>1</th>\n",
       "      <td>OUIGO</td>\n",
       "      <td>OUIGO</td>\n",
       "      <td>7829</td>\n",
       "      <td>Marseille Saint-Charles (Marseille)</td>\n",
       "      <td>2024-02-17 06:03:00</td>\n",
       "      <td>2024-02-17 06:03:00</td>\n",
       "      <td>0 days</td>\n",
       "      <td>2024-02-17 06:03:00</td>\n",
       "    </tr>\n",
       "    <tr>\n",
       "      <th>2</th>\n",
       "      <td>TGV INOUI</td>\n",
       "      <td>TGV INOUI</td>\n",
       "      <td>705</td>\n",
       "      <td>Saint-Gervais-les-Bains - Le Fayet (Saint-Gerv...</td>\n",
       "      <td>2024-02-17 06:11:00</td>\n",
       "      <td>2024-02-17 06:11:00</td>\n",
       "      <td>0 days</td>\n",
       "      <td>2024-02-17 06:11:00</td>\n",
       "    </tr>\n",
       "    <tr>\n",
       "      <th>3</th>\n",
       "      <td>TGV Lyria</td>\n",
       "      <td>TGV Lyria</td>\n",
       "      <td>9761</td>\n",
       "      <td>Lausanne (Lausanne)</td>\n",
       "      <td>2024-02-17 06:18:00</td>\n",
       "      <td>2024-02-17 06:18:00</td>\n",
       "      <td>0 days</td>\n",
       "      <td>2024-02-17 06:18:00</td>\n",
       "    </tr>\n",
       "    <tr>\n",
       "      <th>4</th>\n",
       "      <td>TGV INOUI</td>\n",
       "      <td>TGV INOUI</td>\n",
       "      <td>921</td>\n",
       "      <td>Bourg-Saint-Maurice (Bourg-Saint-Maurice)</td>\n",
       "      <td>2024-02-17 06:22:00</td>\n",
       "      <td>2024-02-17 06:22:00</td>\n",
       "      <td>0 days</td>\n",
       "      <td>2024-02-17 06:22:00</td>\n",
       "    </tr>\n",
       "  </tbody>\n",
       "</table>\n",
       "</div>"
      ],
      "text/plain": [
       "  commercial_mode     reseau numero  \\\n",
       "0       TGV INOUI  TGV INOUI    917   \n",
       "1           OUIGO      OUIGO   7829   \n",
       "2       TGV INOUI  TGV INOUI    705   \n",
       "3       TGV Lyria  TGV Lyria   9761   \n",
       "4       TGV INOUI  TGV INOUI    921   \n",
       "\n",
       "                                           direction        heure_depart  \\\n",
       "0          Bourg-Saint-Maurice (Bourg-Saint-Maurice) 2024-02-17 05:59:00   \n",
       "1                Marseille Saint-Charles (Marseille) 2024-02-17 06:03:00   \n",
       "2  Saint-Gervais-les-Bains - Le Fayet (Saint-Gerv... 2024-02-17 06:11:00   \n",
       "3                                Lausanne (Lausanne) 2024-02-17 06:18:00   \n",
       "4          Bourg-Saint-Maurice (Bourg-Saint-Maurice) 2024-02-17 06:22:00   \n",
       "\n",
       "  heure_depart_prevue delais       heure_arrivee  \n",
       "0 2024-02-17 05:59:00 0 days 2024-02-17 05:59:00  \n",
       "1 2024-02-17 06:03:00 0 days 2024-02-17 06:03:00  \n",
       "2 2024-02-17 06:11:00 0 days 2024-02-17 06:11:00  \n",
       "3 2024-02-17 06:18:00 0 days 2024-02-17 06:18:00  \n",
       "4 2024-02-17 06:22:00 0 days 2024-02-17 06:22:00  "
      ]
     },
     "execution_count": 30,
     "metadata": {},
     "output_type": "execute_result"
    }
   ],
   "source": [
    "departs = reponse[\"departures\"]\n",
    "\n",
    "dataframe = departs_to_dataframe(departs)\n",
    "dataframe.head(5)"
   ]
  },
  {
   "cell_type": "markdown",
   "metadata": {},
   "source": [
    "On utilise pandas pour filtrer le dataframe et gardes train qui arrivent avant 20h"
   ]
  },
  {
   "cell_type": "code",
   "execution_count": null,
   "metadata": {},
   "outputs": [],
   "source": [
    "limite_heure = \"2024-01-25 20:00:00\"\n",
    "depart_avant_20h = dataframe.query(\"heure_depart < '2024-01-25 20:00:00'\")\n",
    "depart_avant_20h.tail()"
   ]
  },
  {
   "cell_type": "code",
   "execution_count": null,
   "metadata": {},
   "outputs": [],
   "source": [
    "print(f\"il y a {len(depart_avant_20h)} départs entre 18h et 20h\")"
   ]
  },
  {
   "cell_type": "code",
   "execution_count": null,
   "metadata": {},
   "outputs": [],
   "source": [
    "print(\"Le train qui arrive en premier est le suivant :\")\n",
    "depart_avant_20h.sort_values(by=[\"heure_arrivee\"]).head(1)"
   ]
  },
  {
   "cell_type": "markdown",
   "metadata": {},
   "source": [
    "__Question 4:__"
   ]
  },
  {
   "cell_type": "markdown",
   "metadata": {},
   "source": [
    "On va essayer de voir jusqu’où on peut aller, en prenant des trains au départ de la Gare de Lyon :\n",
    "\n",
    "* Quelles sont toutes les gares atteignables en partant le 17 novembre, sans faire de changement et sans partir après minuit ?\n",
    "\n",
    "* Si on prend un de ces trains, jusqu’où peut-on aller, avec une correspondance, sans partir après 8h le lendemain matin ?"
   ]
  },
  {
   "cell_type": "code",
   "execution_count": 19,
   "metadata": {},
   "outputs": [],
   "source": [
    "def tous_trajet(gare,heure_min,heure_max):\n",
    "\n",
    "    base_url = \"https://api.sncf.com/v1/coverage/sncf\"\n",
    "    physical_mode = \"physical_mode:LongDistanceTrain\"\n",
    "\n",
    "    tous_les_departs = []\n",
    "    heure_dernier_depart = heure_min\n",
    "    heure_dernier_depart_decode = decode_datetime(heure_dernier_depart)\n",
    "    heure_max_decode = decode_datetime(heure_max)\n",
    "\n",
    "\n",
    "    while heure_dernier_depart_decode < heure_max_decode:\n",
    "\n",
    "        requete =f\"{base_url}/stop_areas/{gare}/physical_modes/{physical_mode}/departures?from_datetime={heure_dernier_depart}\"\n",
    "        reponse = requete_api(requete)\n",
    "        departs = reponse[\"departures\"]\n",
    "        dernier_depart = departs[-1]\n",
    "        heure_dernier_depart = dernier_depart[\"stop_date_time\"][\"base_departure_date_time\"]\n",
    "        heure_dernier_depart_decode = decode_datetime(heure_dernier_depart)\n",
    "        #J'ajoute la liste des depart a ma liste de tous les depart\n",
    "        # Je n'utilise pas apprend car sinon ajoute une liste dans une liste\n",
    "        tous_les_departs += departs\n",
    "    \n",
    "    return tous_les_departs\n"
   ]
  },
  {
   "cell_type": "code",
   "execution_count": null,
   "metadata": {},
   "outputs": [],
   "source": [
    "code_gare_paris_gare_de_lyon = \"stop_area:SNCF:87686006\"\n",
    "date_debut = \"20240217T050000\"\n",
    "date_fin = \"20240217T235959\"\n",
    "url_base = \"https://api.sncf.com/v1/coverage/sncf\""
   ]
  },
  {
   "cell_type": "code",
   "execution_count": 31,
   "metadata": {},
   "outputs": [
    {
     "name": "stdout",
     "output_type": "stream",
     "text": [
      " il y a 140 trajets\n"
     ]
    }
   ],
   "source": [
    "tous_trajets = tous_trajet(code_gare_paris_gare_de_lyon,date_debut,date_fin)\n",
    "print(f\" il y a {(len(tous_trajets))} trajets\")"
   ]
  },
  {
   "cell_type": "code",
   "execution_count": 41,
   "metadata": {},
   "outputs": [
    {
     "data": {
      "text/html": [
       "<div>\n",
       "<style scoped>\n",
       "    .dataframe tbody tr th:only-of-type {\n",
       "        vertical-align: middle;\n",
       "    }\n",
       "\n",
       "    .dataframe tbody tr th {\n",
       "        vertical-align: top;\n",
       "    }\n",
       "\n",
       "    .dataframe thead th {\n",
       "        text-align: right;\n",
       "    }\n",
       "</style>\n",
       "<table border=\"1\" class=\"dataframe\">\n",
       "  <thead>\n",
       "    <tr style=\"text-align: right;\">\n",
       "      <th></th>\n",
       "      <th>reseau</th>\n",
       "      <th>numero</th>\n",
       "      <th>direction</th>\n",
       "      <th>heure_depart</th>\n",
       "      <th>heure_depart_prevue</th>\n",
       "      <th>delais</th>\n",
       "      <th>heure_arrivee</th>\n",
       "    </tr>\n",
       "  </thead>\n",
       "  <tbody>\n",
       "    <tr>\n",
       "      <th>0</th>\n",
       "      <td>TGV INOUI</td>\n",
       "      <td>917</td>\n",
       "      <td>Bourg-Saint-Maurice (Bourg-Saint-Maurice)</td>\n",
       "      <td>2024-02-17 05:59:00</td>\n",
       "      <td>2024-02-17 05:59:00</td>\n",
       "      <td>0 days</td>\n",
       "      <td>2024-02-17 05:59:00</td>\n",
       "    </tr>\n",
       "    <tr>\n",
       "      <th>1</th>\n",
       "      <td>OUIGO</td>\n",
       "      <td>7829</td>\n",
       "      <td>Marseille Saint-Charles (Marseille)</td>\n",
       "      <td>2024-02-17 06:03:00</td>\n",
       "      <td>2024-02-17 06:03:00</td>\n",
       "      <td>0 days</td>\n",
       "      <td>2024-02-17 06:03:00</td>\n",
       "    </tr>\n",
       "    <tr>\n",
       "      <th>2</th>\n",
       "      <td>TGV INOUI</td>\n",
       "      <td>705</td>\n",
       "      <td>Saint-Gervais-les-Bains - Le Fayet (Saint-Gerv...</td>\n",
       "      <td>2024-02-17 06:11:00</td>\n",
       "      <td>2024-02-17 06:11:00</td>\n",
       "      <td>0 days</td>\n",
       "      <td>2024-02-17 06:11:00</td>\n",
       "    </tr>\n",
       "    <tr>\n",
       "      <th>3</th>\n",
       "      <td>TGV Lyria</td>\n",
       "      <td>9761</td>\n",
       "      <td>Lausanne (Lausanne)</td>\n",
       "      <td>2024-02-17 06:18:00</td>\n",
       "      <td>2024-02-17 06:18:00</td>\n",
       "      <td>0 days</td>\n",
       "      <td>2024-02-17 06:18:00</td>\n",
       "    </tr>\n",
       "    <tr>\n",
       "      <th>4</th>\n",
       "      <td>TGV INOUI</td>\n",
       "      <td>921</td>\n",
       "      <td>Bourg-Saint-Maurice (Bourg-Saint-Maurice)</td>\n",
       "      <td>2024-02-17 06:22:00</td>\n",
       "      <td>2024-02-17 06:22:00</td>\n",
       "      <td>0 days</td>\n",
       "      <td>2024-02-17 06:22:00</td>\n",
       "    </tr>\n",
       "  </tbody>\n",
       "</table>\n",
       "</div>"
      ],
      "text/plain": [
       "      reseau numero                                          direction  \\\n",
       "0  TGV INOUI    917          Bourg-Saint-Maurice (Bourg-Saint-Maurice)   \n",
       "1      OUIGO   7829                Marseille Saint-Charles (Marseille)   \n",
       "2  TGV INOUI    705  Saint-Gervais-les-Bains - Le Fayet (Saint-Gerv...   \n",
       "3  TGV Lyria   9761                                Lausanne (Lausanne)   \n",
       "4  TGV INOUI    921          Bourg-Saint-Maurice (Bourg-Saint-Maurice)   \n",
       "\n",
       "         heure_depart heure_depart_prevue delais       heure_arrivee  \n",
       "0 2024-02-17 05:59:00 2024-02-17 05:59:00 0 days 2024-02-17 05:59:00  \n",
       "1 2024-02-17 06:03:00 2024-02-17 06:03:00 0 days 2024-02-17 06:03:00  \n",
       "2 2024-02-17 06:11:00 2024-02-17 06:11:00 0 days 2024-02-17 06:11:00  \n",
       "3 2024-02-17 06:18:00 2024-02-17 06:18:00 0 days 2024-02-17 06:18:00  \n",
       "4 2024-02-17 06:22:00 2024-02-17 06:22:00 0 days 2024-02-17 06:22:00  "
      ]
     },
     "execution_count": 41,
     "metadata": {},
     "output_type": "execute_result"
    }
   ],
   "source": [
    "mes_trajets = departs_to_dataframe(tous_trajets)\n",
    "mes_trajets.head()"
   ]
  },
  {
   "cell_type": "code",
   "execution_count": 34,
   "metadata": {},
   "outputs": [
    {
     "data": {
      "text/html": [
       "<div>\n",
       "<style scoped>\n",
       "    .dataframe tbody tr th:only-of-type {\n",
       "        vertical-align: middle;\n",
       "    }\n",
       "\n",
       "    .dataframe tbody tr th {\n",
       "        vertical-align: top;\n",
       "    }\n",
       "\n",
       "    .dataframe thead th {\n",
       "        text-align: right;\n",
       "    }\n",
       "</style>\n",
       "<table border=\"1\" class=\"dataframe\">\n",
       "  <thead>\n",
       "    <tr style=\"text-align: right;\">\n",
       "      <th></th>\n",
       "      <th>commercial_mode</th>\n",
       "      <th>reseau</th>\n",
       "      <th>numero</th>\n",
       "      <th>direction</th>\n",
       "      <th>heure_depart</th>\n",
       "      <th>heure_depart_prevue</th>\n",
       "      <th>delais</th>\n",
       "      <th>heure_arrivee</th>\n",
       "    </tr>\n",
       "  </thead>\n",
       "  <tbody>\n",
       "    <tr>\n",
       "      <th>135</th>\n",
       "      <td>TGV INOUI</td>\n",
       "      <td>TGV INOUI</td>\n",
       "      <td>6129</td>\n",
       "      <td>Marseille Saint-Charles (Marseille)</td>\n",
       "      <td>2024-02-17 19:38:00</td>\n",
       "      <td>2024-02-17 19:38:00</td>\n",
       "      <td>0 days</td>\n",
       "      <td>2024-02-17 19:38:00</td>\n",
       "    </tr>\n",
       "    <tr>\n",
       "      <th>136</th>\n",
       "      <td>OUIGO</td>\n",
       "      <td>OUIGO</td>\n",
       "      <td>7827</td>\n",
       "      <td>Marseille Saint-Charles (Marseille)</td>\n",
       "      <td>2024-02-17 20:09:00</td>\n",
       "      <td>2024-02-17 20:09:00</td>\n",
       "      <td>0 days</td>\n",
       "      <td>2024-02-17 20:09:00</td>\n",
       "    </tr>\n",
       "    <tr>\n",
       "      <th>137</th>\n",
       "      <td>TGV Lyria</td>\n",
       "      <td>TGV Lyria</td>\n",
       "      <td>9789</td>\n",
       "      <td>Genève - Cornavin - CFF (Genève)</td>\n",
       "      <td>2024-02-17 20:18:00</td>\n",
       "      <td>2024-02-17 20:18:00</td>\n",
       "      <td>0 days</td>\n",
       "      <td>2024-02-17 20:18:00</td>\n",
       "    </tr>\n",
       "    <tr>\n",
       "      <th>138</th>\n",
       "      <td>TGV INOUI</td>\n",
       "      <td>TGV INOUI</td>\n",
       "      <td>917</td>\n",
       "      <td>Bourg-Saint-Maurice (Bourg-Saint-Maurice)</td>\n",
       "      <td>2024-02-18 05:50:00</td>\n",
       "      <td>2024-02-18 05:50:00</td>\n",
       "      <td>0 days</td>\n",
       "      <td>2024-02-18 05:50:00</td>\n",
       "    </tr>\n",
       "    <tr>\n",
       "      <th>139</th>\n",
       "      <td>OUIGO</td>\n",
       "      <td>OUIGO</td>\n",
       "      <td>7829</td>\n",
       "      <td>Marseille Saint-Charles (Marseille)</td>\n",
       "      <td>2024-02-18 06:03:00</td>\n",
       "      <td>2024-02-18 06:03:00</td>\n",
       "      <td>0 days</td>\n",
       "      <td>2024-02-18 06:03:00</td>\n",
       "    </tr>\n",
       "  </tbody>\n",
       "</table>\n",
       "</div>"
      ],
      "text/plain": [
       "    commercial_mode     reseau numero  \\\n",
       "135       TGV INOUI  TGV INOUI   6129   \n",
       "136           OUIGO      OUIGO   7827   \n",
       "137       TGV Lyria  TGV Lyria   9789   \n",
       "138       TGV INOUI  TGV INOUI    917   \n",
       "139           OUIGO      OUIGO   7829   \n",
       "\n",
       "                                     direction        heure_depart  \\\n",
       "135        Marseille Saint-Charles (Marseille) 2024-02-17 19:38:00   \n",
       "136        Marseille Saint-Charles (Marseille) 2024-02-17 20:09:00   \n",
       "137           Genève - Cornavin - CFF (Genève) 2024-02-17 20:18:00   \n",
       "138  Bourg-Saint-Maurice (Bourg-Saint-Maurice) 2024-02-18 05:50:00   \n",
       "139        Marseille Saint-Charles (Marseille) 2024-02-18 06:03:00   \n",
       "\n",
       "    heure_depart_prevue delais       heure_arrivee  \n",
       "135 2024-02-17 19:38:00 0 days 2024-02-17 19:38:00  \n",
       "136 2024-02-17 20:09:00 0 days 2024-02-17 20:09:00  \n",
       "137 2024-02-17 20:18:00 0 days 2024-02-17 20:18:00  \n",
       "138 2024-02-18 05:50:00 0 days 2024-02-18 05:50:00  \n",
       "139 2024-02-18 06:03:00 0 days 2024-02-18 06:03:00  "
      ]
     },
     "execution_count": 34,
     "metadata": {},
     "output_type": "execute_result"
    }
   ],
   "source": [
    "mes_trajets.tail()"
   ]
  },
  {
   "cell_type": "code",
   "execution_count": 44,
   "metadata": {},
   "outputs": [
    {
     "ename": "SyntaxError",
     "evalue": "invalid syntax (<unknown>, line 1)",
     "output_type": "error",
     "traceback": [
      "Traceback \u001b[1;36m(most recent call last)\u001b[0m:\n",
      "\u001b[0m  File \u001b[0;32md:\\Mes projets\\SNCF\\.venv\\Lib\\site-packages\\IPython\\core\\interactiveshell.py:3553\u001b[0m in \u001b[0;35mrun_code\u001b[0m\n    exec(code_obj, self.user_global_ns, self.user_ns)\u001b[0m\n",
      "\u001b[0m  Cell \u001b[0;32mIn[44], line 1\u001b[0m\n    mes_trajets.query(\"delais != 0 days\").head()\u001b[0m\n",
      "\u001b[0m  File \u001b[0;32md:\\Mes projets\\SNCF\\.venv\\Lib\\site-packages\\pandas\\core\\frame.py:4811\u001b[0m in \u001b[0;35mquery\u001b[0m\n    res = self.eval(expr, **kwargs)\u001b[0m\n",
      "\u001b[0m  File \u001b[0;32md:\\Mes projets\\SNCF\\.venv\\Lib\\site-packages\\pandas\\core\\frame.py:4937\u001b[0m in \u001b[0;35meval\u001b[0m\n    return _eval(expr, inplace=inplace, **kwargs)\u001b[0m\n",
      "\u001b[0m  File \u001b[0;32md:\\Mes projets\\SNCF\\.venv\\Lib\\site-packages\\pandas\\core\\computation\\eval.py:336\u001b[0m in \u001b[0;35meval\u001b[0m\n    parsed_expr = Expr(expr, engine=engine, parser=parser, env=env)\u001b[0m\n",
      "\u001b[0m  File \u001b[0;32md:\\Mes projets\\SNCF\\.venv\\Lib\\site-packages\\pandas\\core\\computation\\expr.py:809\u001b[0m in \u001b[0;35m__init__\u001b[0m\n    self.terms = self.parse()\u001b[0m\n",
      "\u001b[0m  File \u001b[0;32md:\\Mes projets\\SNCF\\.venv\\Lib\\site-packages\\pandas\\core\\computation\\expr.py:828\u001b[0m in \u001b[0;35mparse\u001b[0m\n    return self._visitor.visit(self.expr)\u001b[0m\n",
      "\u001b[0m  File \u001b[0;32md:\\Mes projets\\SNCF\\.venv\\Lib\\site-packages\\pandas\\core\\computation\\expr.py:408\u001b[0m in \u001b[0;35mvisit\u001b[0m\n    raise e\u001b[0m\n",
      "\u001b[0m  File \u001b[0;32md:\\Mes projets\\SNCF\\.venv\\Lib\\site-packages\\pandas\\core\\computation\\expr.py:404\u001b[0m in \u001b[0;35mvisit\u001b[0m\n    node = ast.fix_missing_locations(ast.parse(clean))\u001b[0m\n",
      "\u001b[1;36m  File \u001b[1;32m~\\AppData\\Local\\Programs\\Python\\Python312\\Lib\\ast.py:52\u001b[1;36m in \u001b[1;35mparse\u001b[1;36m\n\u001b[1;33m    return compile(source, filename, mode, flags,\u001b[1;36m\n",
      "\u001b[1;36m  File \u001b[1;32m<unknown>:1\u001b[1;36m\u001b[0m\n\u001b[1;33m    delais !=0 days\u001b[0m\n\u001b[1;37m               ^\u001b[0m\n\u001b[1;31mSyntaxError\u001b[0m\u001b[1;31m:\u001b[0m invalid syntax\n"
     ]
    }
   ],
   "source": [
    "mes_trajets.query(\"delais != 0 days\").head()"
   ]
  },
  {
   "cell_type": "code",
   "execution_count": null,
   "metadata": {},
   "outputs": [],
   "source": []
  }
 ],
 "metadata": {
  "kernelspec": {
   "display_name": "Python 3",
   "language": "python",
   "name": "python3"
  },
  "language_info": {
   "codemirror_mode": {
    "name": "ipython",
    "version": 3
   },
   "file_extension": ".py",
   "mimetype": "text/x-python",
   "name": "python",
   "nbconvert_exporter": "python",
   "pygments_lexer": "ipython3",
   "version": "3.12.1"
  }
 },
 "nbformat": 4,
 "nbformat_minor": 2
}
