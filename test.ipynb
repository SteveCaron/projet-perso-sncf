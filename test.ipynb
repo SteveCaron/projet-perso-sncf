{
 "cells": [
  {
   "cell_type": "markdown",
   "metadata": {},
   "source": [
    "# Utilisation de l'api SNCF"
   ]
  },
  {
   "cell_type": "markdown",
   "metadata": {},
   "source": [
    "Ce notebook a pour but d'utiliser l'api SNCF afin de répondre a la question suivante : \n",
    "\n",
    "Dans quelle gare il y a le plus de retard de train en France.\n",
    "\n",
    "Pour utiliser l'api nous avons besoin d'une clef API qui sera stocker dans un secret.\n",
    "\n",
    "\n",
    "__Librairies :__\n",
    "\n",
    "python-dotenv"
   ]
  },
  {
   "cell_type": "code",
   "execution_count": 1,
   "metadata": {},
   "outputs": [],
   "source": [
    "from dotenv import load_dotenv\n",
    "import os\n",
    "import requests\n",
    "import pandas as pd\n",
    "import json"
   ]
  },
  {
   "cell_type": "markdown",
   "metadata": {},
   "source": [
    "Je charge ma clé API dans une variable"
   ]
  },
  {
   "cell_type": "code",
   "execution_count": 2,
   "metadata": {},
   "outputs": [],
   "source": [
    "load_dotenv()\n",
    "api_key = os.getenv(\"API_KEY\")"
   ]
  },
  {
   "cell_type": "code",
   "execution_count": 12,
   "metadata": {},
   "outputs": [],
   "source": [
    "def requete_api(requete):\n",
    "    reponse = requests.get(requete, auth=(api_key,\"\"))\n",
    "    reponse.status_code\n",
    "    reponse_json = reponse.json()\n",
    "    return reponse_json"
   ]
  },
  {
   "cell_type": "code",
   "execution_count": 4,
   "metadata": {},
   "outputs": [],
   "source": [
    "def ecrire_json(data,nom_fichier):\n",
    "    with open(nom_fichier, \"w\") as fc:\n",
    "        json.dump(data, fc)"
   ]
  },
  {
   "cell_type": "code",
   "execution_count": 6,
   "metadata": {},
   "outputs": [],
   "source": [
    "def main():\n",
    "    pass"
   ]
  },
  {
   "cell_type": "markdown",
   "metadata": {},
   "source": [
    "### Exemples"
   ]
  },
  {
   "cell_type": "markdown",
   "metadata": {},
   "source": [
    "__Le détail des modes de transport couvert par l’API__"
   ]
  },
  {
   "cell_type": "code",
   "execution_count": 21,
   "metadata": {},
   "outputs": [],
   "source": [
    "requete = \"https://api.sncf.com/v1/coverage/sncf/commercial_modes\"\n",
    "reponse = requete_api(requete)"
   ]
  },
  {
   "cell_type": "markdown",
   "metadata": {},
   "source": [
    "Mon fichier JSON est organisé en plusieur clés. Je récupère toutes les clés."
   ]
  },
  {
   "cell_type": "code",
   "execution_count": 17,
   "metadata": {},
   "outputs": [
    {
     "name": "stdout",
     "output_type": "stream",
     "text": [
      "pagination\n",
      "feed_publishers\n",
      "disruptions\n",
      "context\n",
      "commercial_modes\n",
      "links\n"
     ]
    }
   ],
   "source": [
    "for key in reponse.keys():\n",
    "    print(key)"
   ]
  },
  {
   "cell_type": "markdown",
   "metadata": {},
   "source": [
    "Les données qui m'interesse sont stocké dans la clé commercial_modes, je récupère donc les données de cette clé.\n",
    "\n",
    "Je peux ensuite les charger dans un dataframe pandas"
   ]
  },
  {
   "cell_type": "code",
   "execution_count": 22,
   "metadata": {},
   "outputs": [
    {
     "data": {
      "text/html": [
       "<div>\n",
       "<style scoped>\n",
       "    .dataframe tbody tr th:only-of-type {\n",
       "        vertical-align: middle;\n",
       "    }\n",
       "\n",
       "    .dataframe tbody tr th {\n",
       "        vertical-align: top;\n",
       "    }\n",
       "\n",
       "    .dataframe thead th {\n",
       "        text-align: right;\n",
       "    }\n",
       "</style>\n",
       "<table border=\"1\" class=\"dataframe\">\n",
       "  <thead>\n",
       "    <tr style=\"text-align: right;\">\n",
       "      <th></th>\n",
       "      <th>id</th>\n",
       "      <th>name</th>\n",
       "    </tr>\n",
       "  </thead>\n",
       "  <tbody>\n",
       "    <tr>\n",
       "      <th>0</th>\n",
       "      <td>commercial_mode:DBS</td>\n",
       "      <td>DB SNCF</td>\n",
       "    </tr>\n",
       "    <tr>\n",
       "      <th>1</th>\n",
       "      <td>commercial_mode:EUROSTAR</td>\n",
       "      <td>Eurostar</td>\n",
       "    </tr>\n",
       "    <tr>\n",
       "      <th>2</th>\n",
       "      <td>commercial_mode:FR:Branding::45d07532-11f7-483...</td>\n",
       "      <td>SOLEA</td>\n",
       "    </tr>\n",
       "    <tr>\n",
       "      <th>3</th>\n",
       "      <td>commercial_mode:FR:Branding::5c5f14b9-bff2-4f9...</td>\n",
       "      <td>TER NA</td>\n",
       "    </tr>\n",
       "    <tr>\n",
       "      <th>4</th>\n",
       "      <td>commercial_mode:FR:Branding::6dfb1ec4-50b5-42a...</td>\n",
       "      <td>TER HDF</td>\n",
       "    </tr>\n",
       "  </tbody>\n",
       "</table>\n",
       "</div>"
      ],
      "text/plain": [
       "                                                  id      name\n",
       "0                                commercial_mode:DBS   DB SNCF\n",
       "1                           commercial_mode:EUROSTAR  Eurostar\n",
       "2  commercial_mode:FR:Branding::45d07532-11f7-483...     SOLEA\n",
       "3  commercial_mode:FR:Branding::5c5f14b9-bff2-4f9...    TER NA\n",
       "4  commercial_mode:FR:Branding::6dfb1ec4-50b5-42a...   TER HDF"
      ]
     },
     "execution_count": 22,
     "metadata": {},
     "output_type": "execute_result"
    }
   ],
   "source": [
    "data = reponse.get(\"commercial_modes\")\n",
    "dataframe = pd.DataFrame(data)\n",
    "dataframe.head()"
   ]
  },
  {
   "cell_type": "markdown",
   "metadata": {},
   "source": [
    "__Itinéraires entre Paris et Lyon__"
   ]
  },
  {
   "cell_type": "code",
   "execution_count": 24,
   "metadata": {},
   "outputs": [
    {
     "name": "stdout",
     "output_type": "stream",
     "text": [
      "feed_publishers\n",
      "links\n",
      "journeys\n",
      "tickets\n",
      "disruptions\n",
      "terminus\n",
      "context\n",
      "notes\n",
      "exceptions\n"
     ]
    }
   ],
   "source": [
    "requete = \"https://api.sncf.com/v1/coverage/sncf/journeys?from=admin:fr:75056&to=admin:fr:69123&datetime=20240123T105527\"\n",
    "reponse = requete_api(requete)\n",
    "ecrire_json(reponse,\"reponse.json\")\n",
    "for key in reponse.keys():\n",
    "    print(key)"
   ]
  }
 ],
 "metadata": {
  "kernelspec": {
   "display_name": "Python 3",
   "language": "python",
   "name": "python3"
  },
  "language_info": {
   "codemirror_mode": {
    "name": "ipython",
    "version": 3
   },
   "file_extension": ".py",
   "mimetype": "text/x-python",
   "name": "python",
   "nbconvert_exporter": "python",
   "pygments_lexer": "ipython3",
   "version": "3.12.1"
  }
 },
 "nbformat": 4,
 "nbformat_minor": 2
}
