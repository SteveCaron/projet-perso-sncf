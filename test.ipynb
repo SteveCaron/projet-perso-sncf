{
 "cells": [
  {
   "cell_type": "markdown",
   "metadata": {},
   "source": [
    "# Utilisation de l'api SNCF"
   ]
  },
  {
   "cell_type": "markdown",
   "metadata": {},
   "source": [
    "Ce notebook a pour but d'utiliser l'api SNCF afin de répondre a la question suivante : \n",
    "\n",
    "Dans quelle gare il y a le plus de retard de train en France.\n",
    "\n",
    "Pour utiliser l'api nous avons besoin d'une clef API qui sera stocker dans un secret.\n",
    "\n",
    "\n",
    "__Librairies :__\n",
    "\n",
    "python-dotenv"
   ]
  },
  {
   "cell_type": "code",
   "execution_count": 71,
   "metadata": {},
   "outputs": [],
   "source": [
    "from dotenv import load_dotenv\n",
    "import os\n",
    "import requests\n",
    "import pandas as pd\n",
    "import json\n",
    "from datetime import datetime"
   ]
  },
  {
   "cell_type": "markdown",
   "metadata": {},
   "source": [
    "Je charge ma clé API dans une variable"
   ]
  },
  {
   "cell_type": "code",
   "execution_count": 2,
   "metadata": {},
   "outputs": [],
   "source": [
    "load_dotenv()\n",
    "api_key = os.getenv(\"API_KEY\")"
   ]
  },
  {
   "cell_type": "code",
   "execution_count": 3,
   "metadata": {},
   "outputs": [],
   "source": [
    "def requete_api(requete):\n",
    "    reponse = requests.get(requete, auth=(api_key,\"\"))\n",
    "    reponse.status_code\n",
    "    reponse_json = reponse.json()\n",
    "    return reponse_json"
   ]
  },
  {
   "cell_type": "code",
   "execution_count": 4,
   "metadata": {},
   "outputs": [],
   "source": [
    "def ecrire_json(data,nom_fichier):\n",
    "    with open(nom_fichier, \"w\") as fc:\n",
    "        json.dump(data, fc)"
   ]
  },
  {
   "cell_type": "code",
   "execution_count": 5,
   "metadata": {},
   "outputs": [],
   "source": [
    "def main():\n",
    "    pass"
   ]
  },
  {
   "cell_type": "markdown",
   "metadata": {},
   "source": [
    "### Exemples"
   ]
  },
  {
   "cell_type": "markdown",
   "metadata": {},
   "source": [
    "__Le détail des modes de transport couvert par l’API__"
   ]
  },
  {
   "cell_type": "code",
   "execution_count": 21,
   "metadata": {},
   "outputs": [],
   "source": [
    "requete = \"https://api.sncf.com/v1/coverage/sncf/commercial_modes\"\n",
    "reponse = requete_api(requete)"
   ]
  },
  {
   "cell_type": "markdown",
   "metadata": {},
   "source": [
    "Mon fichier JSON est organisé en plusieur clés. Je récupère toutes les clés."
   ]
  },
  {
   "cell_type": "code",
   "execution_count": 17,
   "metadata": {},
   "outputs": [
    {
     "name": "stdout",
     "output_type": "stream",
     "text": [
      "pagination\n",
      "feed_publishers\n",
      "disruptions\n",
      "context\n",
      "commercial_modes\n",
      "links\n"
     ]
    }
   ],
   "source": [
    "for key in reponse.keys():\n",
    "    print(key)"
   ]
  },
  {
   "cell_type": "markdown",
   "metadata": {},
   "source": [
    "Les données qui m'interesse sont stocké dans la clé commercial_modes, je récupère donc les données de cette clé.\n",
    "\n",
    "Je peux ensuite les charger dans un dataframe pandas"
   ]
  },
  {
   "cell_type": "code",
   "execution_count": 22,
   "metadata": {},
   "outputs": [
    {
     "data": {
      "text/html": [
       "<div>\n",
       "<style scoped>\n",
       "    .dataframe tbody tr th:only-of-type {\n",
       "        vertical-align: middle;\n",
       "    }\n",
       "\n",
       "    .dataframe tbody tr th {\n",
       "        vertical-align: top;\n",
       "    }\n",
       "\n",
       "    .dataframe thead th {\n",
       "        text-align: right;\n",
       "    }\n",
       "</style>\n",
       "<table border=\"1\" class=\"dataframe\">\n",
       "  <thead>\n",
       "    <tr style=\"text-align: right;\">\n",
       "      <th></th>\n",
       "      <th>id</th>\n",
       "      <th>name</th>\n",
       "    </tr>\n",
       "  </thead>\n",
       "  <tbody>\n",
       "    <tr>\n",
       "      <th>0</th>\n",
       "      <td>commercial_mode:DBS</td>\n",
       "      <td>DB SNCF</td>\n",
       "    </tr>\n",
       "    <tr>\n",
       "      <th>1</th>\n",
       "      <td>commercial_mode:EUROSTAR</td>\n",
       "      <td>Eurostar</td>\n",
       "    </tr>\n",
       "    <tr>\n",
       "      <th>2</th>\n",
       "      <td>commercial_mode:FR:Branding::45d07532-11f7-483...</td>\n",
       "      <td>SOLEA</td>\n",
       "    </tr>\n",
       "    <tr>\n",
       "      <th>3</th>\n",
       "      <td>commercial_mode:FR:Branding::5c5f14b9-bff2-4f9...</td>\n",
       "      <td>TER NA</td>\n",
       "    </tr>\n",
       "    <tr>\n",
       "      <th>4</th>\n",
       "      <td>commercial_mode:FR:Branding::6dfb1ec4-50b5-42a...</td>\n",
       "      <td>TER HDF</td>\n",
       "    </tr>\n",
       "  </tbody>\n",
       "</table>\n",
       "</div>"
      ],
      "text/plain": [
       "                                                  id      name\n",
       "0                                commercial_mode:DBS   DB SNCF\n",
       "1                           commercial_mode:EUROSTAR  Eurostar\n",
       "2  commercial_mode:FR:Branding::45d07532-11f7-483...     SOLEA\n",
       "3  commercial_mode:FR:Branding::5c5f14b9-bff2-4f9...    TER NA\n",
       "4  commercial_mode:FR:Branding::6dfb1ec4-50b5-42a...   TER HDF"
      ]
     },
     "execution_count": 22,
     "metadata": {},
     "output_type": "execute_result"
    }
   ],
   "source": [
    "data = reponse.get(\"commercial_modes\")\n",
    "dataframe = pd.DataFrame(data)\n",
    "dataframe.head()"
   ]
  },
  {
   "cell_type": "markdown",
   "metadata": {},
   "source": [
    "__Itinéraires entre Paris et Lyon__"
   ]
  },
  {
   "cell_type": "code",
   "execution_count": 24,
   "metadata": {},
   "outputs": [
    {
     "name": "stdout",
     "output_type": "stream",
     "text": [
      "feed_publishers\n",
      "links\n",
      "journeys\n",
      "tickets\n",
      "disruptions\n",
      "terminus\n",
      "context\n",
      "notes\n",
      "exceptions\n"
     ]
    }
   ],
   "source": [
    "requete = \"https://api.sncf.com/v1/coverage/sncf/journeys?from=admin:fr:75056&to=admin:fr:69123&datetime=20240123T105527\"\n",
    "reponse = requete_api(requete)\n",
    "ecrire_json(reponse,\"reponse.json\")\n",
    "for key in reponse.keys():\n",
    "    print(key)"
   ]
  },
  {
   "cell_type": "markdown",
   "metadata": {},
   "source": [
    "### Exercice"
   ]
  },
  {
   "cell_type": "markdown",
   "metadata": {},
   "source": [
    "Récupérer les informations sur le trajet entre Paris Gare de Lyon et Lyon Perrache le 17 novembre à 19h57\n",
    "\n",
    "* Indice : utiliser la requête “journeys”\n",
    "\n",
    "* Autre indice : le format de la date est AAAAMMJJTHHMMSS (Année, mois, jour, heure, minutes, secondes\n",
    "\n",
    "Combien y a t-il d'arrêts entre ces deux gares ?\n",
    "\n",
    "Combien de temps d'arrêt à chacune d'elles ? "
   ]
  },
  {
   "cell_type": "markdown",
   "metadata": {},
   "source": [
    "__Je recherche les stop_area :__"
   ]
  },
  {
   "cell_type": "code",
   "execution_count": 20,
   "metadata": {},
   "outputs": [],
   "source": [
    "#Dans la région sncf je recherche les places contenant \"lyon\"\n",
    "requete = \"https://api.sncf.com/v1/coverage/sncf/places?q=lyon\"\n",
    "reponse = requete_api(requete)\n",
    "ecrire_json(reponse,\"liste place.json\")"
   ]
  },
  {
   "cell_type": "code",
   "execution_count": 31,
   "metadata": {},
   "outputs": [],
   "source": [
    "code_gare_paris_gare_de_lyon = \"stop_area:SNCF:87686006\"\n",
    "code_gare_lyon_perrache = \"stop_area:SNCF:87722025\"\n",
    "date = \"20240124T195700\" \n",
    "url_base = \"https://api.sncf.com/v1/coverage/sncf/journeys?\"\n"
   ]
  },
  {
   "cell_type": "code",
   "execution_count": 39,
   "metadata": {},
   "outputs": [
    {
     "name": "stdout",
     "output_type": "stream",
     "text": [
      "1\n"
     ]
    }
   ],
   "source": [
    "requete = f\"{url_base}from={code_gare_paris_gare_de_lyon}&to={code_gare_lyon_perrache}&datetime={date}\"\n",
    "reponse = requete_api(requete)\n",
    "ecrire_json(reponse,\"reponse.json\")"
   ]
  },
  {
   "cell_type": "code",
   "execution_count": 41,
   "metadata": {},
   "outputs": [
    {
     "name": "stdout",
     "output_type": "stream",
     "text": [
      "il y a 2 proposé.s\n"
     ]
    }
   ],
   "source": [
    "#Nombre de voyage proposé\n",
    "voyages = reponse.get(\"journeys\")\n",
    "nb_voyage = len(voyages)\n",
    "print(f\"il y a {nb_voyage} proposé.s\")"
   ]
  },
  {
   "cell_type": "markdown",
   "metadata": {},
   "source": [
    "Je veux garder uniquement le voyage le plus rapide"
   ]
  },
  {
   "cell_type": "code",
   "execution_count": 50,
   "metadata": {},
   "outputs": [],
   "source": [
    "def voyage_rapide(journeys):\n",
    "    '''Cette fonction parcours une liste de voyage et renvoie le voyage le plus rapide'''\n",
    "\n",
    "    voyage_le_plus_rapide = None\n",
    "    for voyage in voyages:\n",
    "        if voyage[\"type\"] == \"fastest\":\n",
    "            voyage_le_plus_rapide = voyage\n",
    "            break\n",
    "\n",
    "    if voyage_le_plus_rapide is None:\n",
    "        print(\"Pas de voyage fastest trouvé\")\n",
    "    else:\n",
    "        print(\"voyage rapide trouvé\")\n",
    "\n",
    "    return voyage_le_plus_rapide"
   ]
  },
  {
   "cell_type": "code",
   "execution_count": 76,
   "metadata": {},
   "outputs": [],
   "source": [
    "def decode_datetime(date_codee):\n",
    "    #On enleve le T du code\n",
    "    date_decodee = datetime.strptime(date_codee,\"%Y%m%dT%H%M%S\")\n",
    "    return date_decodee"
   ]
  },
  {
   "cell_type": "code",
   "execution_count": 79,
   "metadata": {},
   "outputs": [],
   "source": [
    "def liste_arrets(voyage):\n",
    "    '''Cette fonction extrait les arrets d'un voyage et les présente dans un dataframe avec les heures de départ et d'arrivée'''\n",
    "\n",
    "    nb_correspondance = voyage[\"nb_transfers\"]\n",
    "    print(f\"Dans ce voyage il y a {nb_correspondance} correspondances\")\n",
    "    # Pour un voyage sans correspondances les sections sont organisé de la façon suivante :\n",
    "    # type = crow_fly / type=public_transport / type = crow_fly\n",
    "    # On garde la deuxième section\n",
    "    # Les arrêts sont stocké sous la clé stop_date_times\n",
    "    arrets = voyage[\"sections\"][1][\"stop_date_times\"]\n",
    "    nb_arrets = len(arrets)\n",
    "    print(f\"Dans ce voyage il y a {nb_arrets} arrets\")\n",
    "\n",
    "    #Je récupère mes données sous forme d'une liste\n",
    "    donnees = []\n",
    "\n",
    "    for arret in arrets:\n",
    "        #J'ajoute a chaque element de ma liste un dictionnaire contenant des informations sur les arrêts\n",
    "        donnees.append(dict(nom = arret[\"stop_point\"][\"name\"],\n",
    "                        arrive = decode_datetime(arret[\"arrival_date_time\"]),\n",
    "                        depart = decode_datetime(arret[\"departure_date_time\"])))\n",
    "\n",
    "    dataframe = pd.DataFrame(donnees)\n",
    "\n",
    "    return dataframe\n"
   ]
  },
  {
   "cell_type": "code",
   "execution_count": 80,
   "metadata": {},
   "outputs": [
    {
     "name": "stdout",
     "output_type": "stream",
     "text": [
      "voyage rapide trouvé\n",
      "Dans ce voyage il y a 0 correspondances\n",
      "Dans ce voyage il y a 5 arrets\n"
     ]
    },
    {
     "data": {
      "text/html": [
       "<div>\n",
       "<style scoped>\n",
       "    .dataframe tbody tr th:only-of-type {\n",
       "        vertical-align: middle;\n",
       "    }\n",
       "\n",
       "    .dataframe tbody tr th {\n",
       "        vertical-align: top;\n",
       "    }\n",
       "\n",
       "    .dataframe thead th {\n",
       "        text-align: right;\n",
       "    }\n",
       "</style>\n",
       "<table border=\"1\" class=\"dataframe\">\n",
       "  <thead>\n",
       "    <tr style=\"text-align: right;\">\n",
       "      <th></th>\n",
       "      <th>nom</th>\n",
       "      <th>arrive</th>\n",
       "      <th>depart</th>\n",
       "    </tr>\n",
       "  </thead>\n",
       "  <tbody>\n",
       "    <tr>\n",
       "      <th>0</th>\n",
       "      <td>Paris - Gare de Lyon - Hall 1 &amp; 2</td>\n",
       "      <td>2024-01-24 21:00:00</td>\n",
       "      <td>2024-01-24 21:00:00</td>\n",
       "    </tr>\n",
       "    <tr>\n",
       "      <th>1</th>\n",
       "      <td>Le Creusot - Montceau-les-Mines - Montchanin TGV</td>\n",
       "      <td>2024-01-24 22:17:00</td>\n",
       "      <td>2024-01-24 22:20:00</td>\n",
       "    </tr>\n",
       "    <tr>\n",
       "      <th>2</th>\n",
       "      <td>Mâcon Loché TGV</td>\n",
       "      <td>2024-01-24 22:38:00</td>\n",
       "      <td>2024-01-24 22:41:00</td>\n",
       "    </tr>\n",
       "    <tr>\n",
       "      <th>3</th>\n",
       "      <td>Lyon Part Dieu</td>\n",
       "      <td>2024-01-24 23:10:00</td>\n",
       "      <td>2024-01-24 23:16:00</td>\n",
       "    </tr>\n",
       "    <tr>\n",
       "      <th>4</th>\n",
       "      <td>Lyon Perrache</td>\n",
       "      <td>2024-01-24 23:24:00</td>\n",
       "      <td>2024-01-24 23:24:00</td>\n",
       "    </tr>\n",
       "  </tbody>\n",
       "</table>\n",
       "</div>"
      ],
      "text/plain": [
       "                                                nom              arrive  \\\n",
       "0                 Paris - Gare de Lyon - Hall 1 & 2 2024-01-24 21:00:00   \n",
       "1  Le Creusot - Montceau-les-Mines - Montchanin TGV 2024-01-24 22:17:00   \n",
       "2                                   Mâcon Loché TGV 2024-01-24 22:38:00   \n",
       "3                                    Lyon Part Dieu 2024-01-24 23:10:00   \n",
       "4                                     Lyon Perrache 2024-01-24 23:24:00   \n",
       "\n",
       "               depart  \n",
       "0 2024-01-24 21:00:00  \n",
       "1 2024-01-24 22:20:00  \n",
       "2 2024-01-24 22:41:00  \n",
       "3 2024-01-24 23:16:00  \n",
       "4 2024-01-24 23:24:00  "
      ]
     },
     "execution_count": 80,
     "metadata": {},
     "output_type": "execute_result"
    }
   ],
   "source": [
    "voyage = voyage_rapide(voyages)\n",
    "arrets = liste_arrets(voyage)\n",
    "arrets.head()"
   ]
  },
  {
   "cell_type": "markdown",
   "metadata": {},
   "source": [
    "Vous êtes un peu pressé et vous avez peur de vous tromper en arrivant à la gare car d’autres TGV partent à peu près en même temps (à partir de 19h00) de la gare de Lyon.\n",
    "\n",
    "* Si vous demandez à l’API, combien de résultats vous donne-t-elle ?\n",
    "\n",
    "* Quels sont les horaires de départ de ces trains ?\n",
    "\n",
    "* Parmi ces trains, combien de trains ont pour destination finale Lyon et qui partent le 17 novembre ?"
   ]
  },
  {
   "cell_type": "markdown",
   "metadata": {},
   "source": [
    "Je veux tous les trains qui partent de gare de Lyon à 19h"
   ]
  },
  {
   "cell_type": "code",
   "execution_count": 97,
   "metadata": {},
   "outputs": [],
   "source": [
    "code_gare_paris_gare_de_lyon = \"stop_area:SNCF:87686006\"\n",
    "date = \"20240125T190000\"\n",
    "url_base = \"https://api.sncf.com/v1/coverage/sncf/stop_areas\""
   ]
  },
  {
   "cell_type": "code",
   "execution_count": 119,
   "metadata": {},
   "outputs": [],
   "source": [
    "requete = f\"{url_base}/{code_gare_paris_gare_de_lyon}/departures?count=20&from_datetime={date}&\"\n",
    "reponse = requete_api(requete)\n",
    "ecrire_json(reponse,\"exercice_2.json\")"
   ]
  },
  {
   "cell_type": "code",
   "execution_count": 120,
   "metadata": {},
   "outputs": [],
   "source": [
    "departs = reponse[\"departures\"]\n",
    "ecrire_json(departs,\"test.json\")"
   ]
  },
  {
   "cell_type": "code",
   "execution_count": 121,
   "metadata": {},
   "outputs": [
    {
     "data": {
      "text/html": [
       "<div>\n",
       "<style scoped>\n",
       "    .dataframe tbody tr th:only-of-type {\n",
       "        vertical-align: middle;\n",
       "    }\n",
       "\n",
       "    .dataframe tbody tr th {\n",
       "        vertical-align: top;\n",
       "    }\n",
       "\n",
       "    .dataframe thead th {\n",
       "        text-align: right;\n",
       "    }\n",
       "</style>\n",
       "<table border=\"1\" class=\"dataframe\">\n",
       "  <thead>\n",
       "    <tr style=\"text-align: right;\">\n",
       "      <th></th>\n",
       "      <th>ligne</th>\n",
       "      <th>direction</th>\n",
       "      <th>heure_depart</th>\n",
       "    </tr>\n",
       "  </thead>\n",
       "  <tbody>\n",
       "    <tr>\n",
       "      <th>0</th>\n",
       "      <td>Paris - Gare de Lyon - Hall 1 &amp; 2 - Saint-Étie...</td>\n",
       "      <td>Paris - Gare de Lyon - Hall 1 &amp; 2 (Paris)</td>\n",
       "      <td>2024-01-25 19:00:00</td>\n",
       "    </tr>\n",
       "    <tr>\n",
       "      <th>1</th>\n",
       "      <td>A</td>\n",
       "      <td>Boissy-Saint-Léger (Boissy-Saint-Léger)</td>\n",
       "      <td>2024-01-25 19:00:51</td>\n",
       "    </tr>\n",
       "    <tr>\n",
       "      <th>2</th>\n",
       "      <td>D</td>\n",
       "      <td>Corbeil-Essonnes (Corbeil-Essonnes)</td>\n",
       "      <td>2024-01-25 19:01:00</td>\n",
       "    </tr>\n",
       "    <tr>\n",
       "      <th>3</th>\n",
       "      <td>A</td>\n",
       "      <td>Boissy-Saint-Léger (Boissy-Saint-Léger)</td>\n",
       "      <td>2024-01-25 19:01:45</td>\n",
       "    </tr>\n",
       "    <tr>\n",
       "      <th>4</th>\n",
       "      <td>A</td>\n",
       "      <td>Boissy-Saint-Léger (Boissy-Saint-Léger)</td>\n",
       "      <td>2024-01-25 19:03:21</td>\n",
       "    </tr>\n",
       "    <tr>\n",
       "      <th>5</th>\n",
       "      <td>A</td>\n",
       "      <td>Boissy-Saint-Léger (Boissy-Saint-Léger)</td>\n",
       "      <td>2024-01-25 19:04:15</td>\n",
       "    </tr>\n",
       "    <tr>\n",
       "      <th>6</th>\n",
       "      <td>A</td>\n",
       "      <td>Boissy-Saint-Léger (Boissy-Saint-Léger)</td>\n",
       "      <td>2024-01-25 19:05:51</td>\n",
       "    </tr>\n",
       "    <tr>\n",
       "      <th>7</th>\n",
       "      <td>D</td>\n",
       "      <td>Corbeil-Essonnes (Corbeil-Essonnes)</td>\n",
       "      <td>2024-01-25 19:06:00</td>\n",
       "    </tr>\n",
       "    <tr>\n",
       "      <th>8</th>\n",
       "      <td>A</td>\n",
       "      <td>Boissy-Saint-Léger (Boissy-Saint-Léger)</td>\n",
       "      <td>2024-01-25 19:06:45</td>\n",
       "    </tr>\n",
       "    <tr>\n",
       "      <th>9</th>\n",
       "      <td>R</td>\n",
       "      <td>Montereau (Montereau-Fault-Yonne)</td>\n",
       "      <td>2024-01-25 19:07:00</td>\n",
       "    </tr>\n",
       "    <tr>\n",
       "      <th>10</th>\n",
       "      <td>D</td>\n",
       "      <td>Corbeil-Essonnes (Corbeil-Essonnes)</td>\n",
       "      <td>2024-01-25 19:08:10</td>\n",
       "    </tr>\n",
       "    <tr>\n",
       "      <th>11</th>\n",
       "      <td>A</td>\n",
       "      <td>Boissy-Saint-Léger (Boissy-Saint-Léger)</td>\n",
       "      <td>2024-01-25 19:08:21</td>\n",
       "    </tr>\n",
       "    <tr>\n",
       "      <th>12</th>\n",
       "      <td>A</td>\n",
       "      <td>Boissy-Saint-Léger (Boissy-Saint-Léger)</td>\n",
       "      <td>2024-01-25 19:09:15</td>\n",
       "    </tr>\n",
       "    <tr>\n",
       "      <th>13</th>\n",
       "      <td>A</td>\n",
       "      <td>Boissy-Saint-Léger (Boissy-Saint-Léger)</td>\n",
       "      <td>2024-01-25 19:10:51</td>\n",
       "    </tr>\n",
       "    <tr>\n",
       "      <th>14</th>\n",
       "      <td>A</td>\n",
       "      <td>Boissy-Saint-Léger (Boissy-Saint-Léger)</td>\n",
       "      <td>2024-01-25 19:11:45</td>\n",
       "    </tr>\n",
       "    <tr>\n",
       "      <th>15</th>\n",
       "      <td>Paris GdL Laroche Semi-directs</td>\n",
       "      <td>Laroche - Migennes (Migennes)</td>\n",
       "      <td>2024-01-25 19:12:00</td>\n",
       "    </tr>\n",
       "    <tr>\n",
       "      <th>16</th>\n",
       "      <td>D</td>\n",
       "      <td>Corbeil-Essonnes (Corbeil-Essonnes)</td>\n",
       "      <td>2024-01-25 19:12:10</td>\n",
       "    </tr>\n",
       "    <tr>\n",
       "      <th>17</th>\n",
       "      <td>A</td>\n",
       "      <td>Boissy-Saint-Léger (Boissy-Saint-Léger)</td>\n",
       "      <td>2024-01-25 19:13:21</td>\n",
       "    </tr>\n",
       "    <tr>\n",
       "      <th>18</th>\n",
       "      <td>D</td>\n",
       "      <td>Corbeil-Essonnes (Corbeil-Essonnes)</td>\n",
       "      <td>2024-01-25 19:13:50</td>\n",
       "    </tr>\n",
       "    <tr>\n",
       "      <th>19</th>\n",
       "      <td>Grenoble - Paris - Gare de Lyon - Hall 1 &amp; 2</td>\n",
       "      <td>Grenoble (Grenoble)</td>\n",
       "      <td>2024-01-25 19:14:00</td>\n",
       "    </tr>\n",
       "  </tbody>\n",
       "</table>\n",
       "</div>"
      ],
      "text/plain": [
       "                                                ligne  \\\n",
       "0   Paris - Gare de Lyon - Hall 1 & 2 - Saint-Étie...   \n",
       "1                                                   A   \n",
       "2                                                   D   \n",
       "3                                                   A   \n",
       "4                                                   A   \n",
       "5                                                   A   \n",
       "6                                                   A   \n",
       "7                                                   D   \n",
       "8                                                   A   \n",
       "9                                                   R   \n",
       "10                                                  D   \n",
       "11                                                  A   \n",
       "12                                                  A   \n",
       "13                                                  A   \n",
       "14                                                  A   \n",
       "15                     Paris GdL Laroche Semi-directs   \n",
       "16                                                  D   \n",
       "17                                                  A   \n",
       "18                                                  D   \n",
       "19       Grenoble - Paris - Gare de Lyon - Hall 1 & 2   \n",
       "\n",
       "                                    direction        heure_depart  \n",
       "0   Paris - Gare de Lyon - Hall 1 & 2 (Paris) 2024-01-25 19:00:00  \n",
       "1     Boissy-Saint-Léger (Boissy-Saint-Léger) 2024-01-25 19:00:51  \n",
       "2         Corbeil-Essonnes (Corbeil-Essonnes) 2024-01-25 19:01:00  \n",
       "3     Boissy-Saint-Léger (Boissy-Saint-Léger) 2024-01-25 19:01:45  \n",
       "4     Boissy-Saint-Léger (Boissy-Saint-Léger) 2024-01-25 19:03:21  \n",
       "5     Boissy-Saint-Léger (Boissy-Saint-Léger) 2024-01-25 19:04:15  \n",
       "6     Boissy-Saint-Léger (Boissy-Saint-Léger) 2024-01-25 19:05:51  \n",
       "7         Corbeil-Essonnes (Corbeil-Essonnes) 2024-01-25 19:06:00  \n",
       "8     Boissy-Saint-Léger (Boissy-Saint-Léger) 2024-01-25 19:06:45  \n",
       "9           Montereau (Montereau-Fault-Yonne) 2024-01-25 19:07:00  \n",
       "10        Corbeil-Essonnes (Corbeil-Essonnes) 2024-01-25 19:08:10  \n",
       "11    Boissy-Saint-Léger (Boissy-Saint-Léger) 2024-01-25 19:08:21  \n",
       "12    Boissy-Saint-Léger (Boissy-Saint-Léger) 2024-01-25 19:09:15  \n",
       "13    Boissy-Saint-Léger (Boissy-Saint-Léger) 2024-01-25 19:10:51  \n",
       "14    Boissy-Saint-Léger (Boissy-Saint-Léger) 2024-01-25 19:11:45  \n",
       "15              Laroche - Migennes (Migennes) 2024-01-25 19:12:00  \n",
       "16        Corbeil-Essonnes (Corbeil-Essonnes) 2024-01-25 19:12:10  \n",
       "17    Boissy-Saint-Léger (Boissy-Saint-Léger) 2024-01-25 19:13:21  \n",
       "18        Corbeil-Essonnes (Corbeil-Essonnes) 2024-01-25 19:13:50  \n",
       "19                        Grenoble (Grenoble) 2024-01-25 19:14:00  "
      ]
     },
     "execution_count": 121,
     "metadata": {},
     "output_type": "execute_result"
    }
   ],
   "source": [
    "data=[]\n",
    "\n",
    "for depart in departs:\n",
    "    \n",
    "    data.append(dict(ligne = depart[\"route\"][\"name\"],\n",
    "                    direction = depart[\"route\"][\"direction\"][\"name\"],\n",
    "                    heure_depart =decode_datetime(depart[\"stop_date_time\"][\"departure_date_time\"])))\n",
    "    \n",
    "dataframe = pd.DataFrame(data)\n",
    "dataframe.head(20)"
   ]
  }
 ],
 "metadata": {
  "kernelspec": {
   "display_name": "Python 3",
   "language": "python",
   "name": "python3"
  },
  "language_info": {
   "codemirror_mode": {
    "name": "ipython",
    "version": 3
   },
   "file_extension": ".py",
   "mimetype": "text/x-python",
   "name": "python",
   "nbconvert_exporter": "python",
   "pygments_lexer": "ipython3",
   "version": "3.12.1"
  }
 },
 "nbformat": 4,
 "nbformat_minor": 2
}
