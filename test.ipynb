{
 "cells": [
  {
   "cell_type": "markdown",
   "metadata": {},
   "source": [
    "# Utilisation de l'api SNCF"
   ]
  },
  {
   "cell_type": "markdown",
   "metadata": {},
   "source": [
    "Ce notebook a pour but d'utiliser l'api SNCF afin de répondre a la question suivante : \n",
    "\n",
    "Dans quelle gare il y a le plus de retard de train en France.\n",
    "\n",
    "Pour utiliser l'api nous avons besoin d'une clef API qui sera stocker dans un secret.\n",
    "\n",
    "\n",
    "__Librairies :__\n",
    "\n",
    "python-dotenv"
   ]
  },
  {
   "cell_type": "code",
   "execution_count": 2,
   "metadata": {},
   "outputs": [],
   "source": [
    "from dotenv import load_dotenv\n",
    "import os\n",
    "import requests\n",
    "import pandas as pd\n",
    "import json\n",
    "from datetime import datetime"
   ]
  },
  {
   "cell_type": "markdown",
   "metadata": {},
   "source": [
    "Je charge ma clé API dans une variable"
   ]
  },
  {
   "cell_type": "code",
   "execution_count": 3,
   "metadata": {},
   "outputs": [],
   "source": [
    "load_dotenv()\n",
    "api_key = os.getenv(\"API_KEY\")"
   ]
  },
  {
   "cell_type": "code",
   "execution_count": 4,
   "metadata": {},
   "outputs": [],
   "source": [
    "def requete_api(requete):\n",
    "    reponse = requests.get(requete, auth=(api_key,\"\"))\n",
    "    reponse.status_code\n",
    "    reponse_json = reponse.json()\n",
    "    return reponse_json"
   ]
  },
  {
   "cell_type": "code",
   "execution_count": 5,
   "metadata": {},
   "outputs": [],
   "source": [
    "def ecrire_json(data,nom_fichier):\n",
    "    with open(nom_fichier, \"w\") as fc:\n",
    "        json.dump(data, fc)"
   ]
  },
  {
   "cell_type": "code",
   "execution_count": 6,
   "metadata": {},
   "outputs": [],
   "source": [
    "def main():\n",
    "    pass"
   ]
  },
  {
   "cell_type": "markdown",
   "metadata": {},
   "source": [
    "### Exemples"
   ]
  },
  {
   "cell_type": "markdown",
   "metadata": {},
   "source": [
    "__Le détail des modes de transport couvert par l’API__"
   ]
  },
  {
   "cell_type": "code",
   "execution_count": 21,
   "metadata": {},
   "outputs": [],
   "source": [
    "requete = \"https://api.sncf.com/v1/coverage/sncf/commercial_modes\"\n",
    "reponse = requete_api(requete)"
   ]
  },
  {
   "cell_type": "markdown",
   "metadata": {},
   "source": [
    "Mon fichier JSON est organisé en plusieur clés. Je récupère toutes les clés."
   ]
  },
  {
   "cell_type": "code",
   "execution_count": 17,
   "metadata": {},
   "outputs": [
    {
     "name": "stdout",
     "output_type": "stream",
     "text": [
      "pagination\n",
      "feed_publishers\n",
      "disruptions\n",
      "context\n",
      "commercial_modes\n",
      "links\n"
     ]
    }
   ],
   "source": [
    "for key in reponse.keys():\n",
    "    print(key)"
   ]
  },
  {
   "cell_type": "markdown",
   "metadata": {},
   "source": [
    "Les données qui m'interesse sont stocké dans la clé commercial_modes, je récupère donc les données de cette clé.\n",
    "\n",
    "Je peux ensuite les charger dans un dataframe pandas"
   ]
  },
  {
   "cell_type": "code",
   "execution_count": 22,
   "metadata": {},
   "outputs": [
    {
     "data": {
      "text/html": [
       "<div>\n",
       "<style scoped>\n",
       "    .dataframe tbody tr th:only-of-type {\n",
       "        vertical-align: middle;\n",
       "    }\n",
       "\n",
       "    .dataframe tbody tr th {\n",
       "        vertical-align: top;\n",
       "    }\n",
       "\n",
       "    .dataframe thead th {\n",
       "        text-align: right;\n",
       "    }\n",
       "</style>\n",
       "<table border=\"1\" class=\"dataframe\">\n",
       "  <thead>\n",
       "    <tr style=\"text-align: right;\">\n",
       "      <th></th>\n",
       "      <th>id</th>\n",
       "      <th>name</th>\n",
       "    </tr>\n",
       "  </thead>\n",
       "  <tbody>\n",
       "    <tr>\n",
       "      <th>0</th>\n",
       "      <td>commercial_mode:DBS</td>\n",
       "      <td>DB SNCF</td>\n",
       "    </tr>\n",
       "    <tr>\n",
       "      <th>1</th>\n",
       "      <td>commercial_mode:EUROSTAR</td>\n",
       "      <td>Eurostar</td>\n",
       "    </tr>\n",
       "    <tr>\n",
       "      <th>2</th>\n",
       "      <td>commercial_mode:FR:Branding::45d07532-11f7-483...</td>\n",
       "      <td>SOLEA</td>\n",
       "    </tr>\n",
       "    <tr>\n",
       "      <th>3</th>\n",
       "      <td>commercial_mode:FR:Branding::5c5f14b9-bff2-4f9...</td>\n",
       "      <td>TER NA</td>\n",
       "    </tr>\n",
       "    <tr>\n",
       "      <th>4</th>\n",
       "      <td>commercial_mode:FR:Branding::6dfb1ec4-50b5-42a...</td>\n",
       "      <td>TER HDF</td>\n",
       "    </tr>\n",
       "  </tbody>\n",
       "</table>\n",
       "</div>"
      ],
      "text/plain": [
       "                                                  id      name\n",
       "0                                commercial_mode:DBS   DB SNCF\n",
       "1                           commercial_mode:EUROSTAR  Eurostar\n",
       "2  commercial_mode:FR:Branding::45d07532-11f7-483...     SOLEA\n",
       "3  commercial_mode:FR:Branding::5c5f14b9-bff2-4f9...    TER NA\n",
       "4  commercial_mode:FR:Branding::6dfb1ec4-50b5-42a...   TER HDF"
      ]
     },
     "execution_count": 22,
     "metadata": {},
     "output_type": "execute_result"
    }
   ],
   "source": [
    "data = reponse.get(\"commercial_modes\")\n",
    "dataframe = pd.DataFrame(data)\n",
    "dataframe.head()"
   ]
  },
  {
   "cell_type": "markdown",
   "metadata": {},
   "source": [
    "__Itinéraires entre Paris et Lyon__"
   ]
  },
  {
   "cell_type": "code",
   "execution_count": 24,
   "metadata": {},
   "outputs": [
    {
     "name": "stdout",
     "output_type": "stream",
     "text": [
      "feed_publishers\n",
      "links\n",
      "journeys\n",
      "tickets\n",
      "disruptions\n",
      "terminus\n",
      "context\n",
      "notes\n",
      "exceptions\n"
     ]
    }
   ],
   "source": [
    "requete = \"https://api.sncf.com/v1/coverage/sncf/journeys?from=admin:fr:75056&to=admin:fr:69123&datetime=20240123T105527\"\n",
    "reponse = requete_api(requete)\n",
    "ecrire_json(reponse,\"reponse.json\")\n",
    "for key in reponse.keys():\n",
    "    print(key)"
   ]
  },
  {
   "cell_type": "markdown",
   "metadata": {},
   "source": [
    "### Exercice"
   ]
  },
  {
   "cell_type": "markdown",
   "metadata": {},
   "source": [
    "Récupérer les informations sur le trajet entre Paris Gare de Lyon et Lyon Perrache le 17 novembre à 19h57\n",
    "\n",
    "* Indice : utiliser la requête “journeys”\n",
    "\n",
    "* Autre indice : le format de la date est AAAAMMJJTHHMMSS (Année, mois, jour, heure, minutes, secondes\n",
    "\n",
    "Combien y a t-il d'arrêts entre ces deux gares ?\n",
    "\n",
    "Combien de temps d'arrêt à chacune d'elles ? "
   ]
  },
  {
   "cell_type": "markdown",
   "metadata": {},
   "source": [
    "__Je recherche les stop_area :__"
   ]
  },
  {
   "cell_type": "code",
   "execution_count": 20,
   "metadata": {},
   "outputs": [],
   "source": [
    "#Dans la région sncf je recherche les places contenant \"lyon\"\n",
    "requete = \"https://api.sncf.com/v1/coverage/sncf/places?q=lyon\"\n",
    "reponse = requete_api(requete)\n",
    "ecrire_json(reponse,\"liste place.json\")"
   ]
  },
  {
   "cell_type": "code",
   "execution_count": 31,
   "metadata": {},
   "outputs": [],
   "source": [
    "code_gare_paris_gare_de_lyon = \"stop_area:SNCF:87686006\"\n",
    "code_gare_lyon_perrache = \"stop_area:SNCF:87722025\"\n",
    "date = \"20240124T195700\" \n",
    "url_base = \"https://api.sncf.com/v1/coverage/sncf/journeys?\"\n"
   ]
  },
  {
   "cell_type": "code",
   "execution_count": 39,
   "metadata": {},
   "outputs": [
    {
     "name": "stdout",
     "output_type": "stream",
     "text": [
      "1\n"
     ]
    }
   ],
   "source": [
    "requete = f\"{url_base}from={code_gare_paris_gare_de_lyon}&to={code_gare_lyon_perrache}&datetime={date}\"\n",
    "reponse = requete_api(requete)\n",
    "ecrire_json(reponse,\"reponse.json\")"
   ]
  },
  {
   "cell_type": "code",
   "execution_count": 41,
   "metadata": {},
   "outputs": [
    {
     "name": "stdout",
     "output_type": "stream",
     "text": [
      "il y a 2 proposé.s\n"
     ]
    }
   ],
   "source": [
    "#Nombre de voyage proposé\n",
    "voyages = reponse.get(\"journeys\")\n",
    "nb_voyage = len(voyages)\n",
    "print(f\"il y a {nb_voyage} proposé.s\")"
   ]
  },
  {
   "cell_type": "markdown",
   "metadata": {},
   "source": [
    "Je veux garder uniquement le voyage le plus rapide"
   ]
  },
  {
   "cell_type": "code",
   "execution_count": 7,
   "metadata": {},
   "outputs": [],
   "source": [
    "def voyage_rapide(journeys):\n",
    "    '''Cette fonction parcours une liste de voyage et renvoie le voyage le plus rapide'''\n",
    "\n",
    "    voyage_le_plus_rapide = None\n",
    "    for voyage in voyages:\n",
    "        if voyage[\"type\"] == \"fastest\":\n",
    "            voyage_le_plus_rapide = voyage\n",
    "            break\n",
    "\n",
    "    if voyage_le_plus_rapide is None:\n",
    "        print(\"Pas de voyage fastest trouvé\")\n",
    "    else:\n",
    "        print(\"voyage rapide trouvé\")\n",
    "\n",
    "    return voyage_le_plus_rapide"
   ]
  },
  {
   "cell_type": "code",
   "execution_count": 8,
   "metadata": {},
   "outputs": [],
   "source": [
    "def decode_datetime(date_codee):\n",
    "    #On enleve le T du code\n",
    "    date_decodee = datetime.strptime(date_codee,\"%Y%m%dT%H%M%S\")\n",
    "    return date_decodee"
   ]
  },
  {
   "cell_type": "code",
   "execution_count": 9,
   "metadata": {},
   "outputs": [],
   "source": [
    "def liste_arrets(voyage):\n",
    "    '''Cette fonction extrait les arrets d'un voyage et les présente dans un dataframe avec les heures de départ et d'arrivée'''\n",
    "\n",
    "    nb_correspondance = voyage[\"nb_transfers\"]\n",
    "    print(f\"Dans ce voyage il y a {nb_correspondance} correspondances\")\n",
    "    # Pour un voyage sans correspondances les sections sont organisé de la façon suivante :\n",
    "    # type = crow_fly / type=public_transport / type = crow_fly\n",
    "    # On garde la deuxième section\n",
    "    # Les arrêts sont stocké sous la clé stop_date_times\n",
    "    arrets = voyage[\"sections\"][1][\"stop_date_times\"]\n",
    "    nb_arrets = len(arrets)\n",
    "    print(f\"Dans ce voyage il y a {nb_arrets} arrets\")\n",
    "\n",
    "    #Je récupère mes données sous forme d'une liste\n",
    "    donnees = []\n",
    "\n",
    "    for arret in arrets:\n",
    "        #J'ajoute a chaque element de ma liste un dictionnaire contenant des informations sur les arrêts\n",
    "        donnees.append(dict(nom = arret[\"stop_point\"][\"name\"],\n",
    "                        arrive = decode_datetime(arret[\"arrival_date_time\"]),\n",
    "                        depart = decode_datetime(arret[\"departure_date_time\"])))\n",
    "\n",
    "    dataframe = pd.DataFrame(donnees)\n",
    "\n",
    "    return dataframe\n"
   ]
  },
  {
   "cell_type": "code",
   "execution_count": 80,
   "metadata": {},
   "outputs": [
    {
     "name": "stdout",
     "output_type": "stream",
     "text": [
      "voyage rapide trouvé\n",
      "Dans ce voyage il y a 0 correspondances\n",
      "Dans ce voyage il y a 5 arrets\n"
     ]
    },
    {
     "data": {
      "text/html": [
       "<div>\n",
       "<style scoped>\n",
       "    .dataframe tbody tr th:only-of-type {\n",
       "        vertical-align: middle;\n",
       "    }\n",
       "\n",
       "    .dataframe tbody tr th {\n",
       "        vertical-align: top;\n",
       "    }\n",
       "\n",
       "    .dataframe thead th {\n",
       "        text-align: right;\n",
       "    }\n",
       "</style>\n",
       "<table border=\"1\" class=\"dataframe\">\n",
       "  <thead>\n",
       "    <tr style=\"text-align: right;\">\n",
       "      <th></th>\n",
       "      <th>nom</th>\n",
       "      <th>arrive</th>\n",
       "      <th>depart</th>\n",
       "    </tr>\n",
       "  </thead>\n",
       "  <tbody>\n",
       "    <tr>\n",
       "      <th>0</th>\n",
       "      <td>Paris - Gare de Lyon - Hall 1 &amp; 2</td>\n",
       "      <td>2024-01-24 21:00:00</td>\n",
       "      <td>2024-01-24 21:00:00</td>\n",
       "    </tr>\n",
       "    <tr>\n",
       "      <th>1</th>\n",
       "      <td>Le Creusot - Montceau-les-Mines - Montchanin TGV</td>\n",
       "      <td>2024-01-24 22:17:00</td>\n",
       "      <td>2024-01-24 22:20:00</td>\n",
       "    </tr>\n",
       "    <tr>\n",
       "      <th>2</th>\n",
       "      <td>Mâcon Loché TGV</td>\n",
       "      <td>2024-01-24 22:38:00</td>\n",
       "      <td>2024-01-24 22:41:00</td>\n",
       "    </tr>\n",
       "    <tr>\n",
       "      <th>3</th>\n",
       "      <td>Lyon Part Dieu</td>\n",
       "      <td>2024-01-24 23:10:00</td>\n",
       "      <td>2024-01-24 23:16:00</td>\n",
       "    </tr>\n",
       "    <tr>\n",
       "      <th>4</th>\n",
       "      <td>Lyon Perrache</td>\n",
       "      <td>2024-01-24 23:24:00</td>\n",
       "      <td>2024-01-24 23:24:00</td>\n",
       "    </tr>\n",
       "  </tbody>\n",
       "</table>\n",
       "</div>"
      ],
      "text/plain": [
       "                                                nom              arrive  \\\n",
       "0                 Paris - Gare de Lyon - Hall 1 & 2 2024-01-24 21:00:00   \n",
       "1  Le Creusot - Montceau-les-Mines - Montchanin TGV 2024-01-24 22:17:00   \n",
       "2                                   Mâcon Loché TGV 2024-01-24 22:38:00   \n",
       "3                                    Lyon Part Dieu 2024-01-24 23:10:00   \n",
       "4                                     Lyon Perrache 2024-01-24 23:24:00   \n",
       "\n",
       "               depart  \n",
       "0 2024-01-24 21:00:00  \n",
       "1 2024-01-24 22:20:00  \n",
       "2 2024-01-24 22:41:00  \n",
       "3 2024-01-24 23:16:00  \n",
       "4 2024-01-24 23:24:00  "
      ]
     },
     "execution_count": 80,
     "metadata": {},
     "output_type": "execute_result"
    }
   ],
   "source": [
    "voyage = voyage_rapide(voyages)\n",
    "arrets = liste_arrets(voyage)\n",
    "arrets.head()"
   ]
  },
  {
   "cell_type": "markdown",
   "metadata": {},
   "source": [
    "__Question 2 :__"
   ]
  },
  {
   "cell_type": "markdown",
   "metadata": {},
   "source": [
    "Vous êtes un peu pressé et vous avez peur de vous tromper en arrivant à la gare car d’autres TGV partent à peu près en même temps (à partir de 19h00) de la gare de Lyon.\n",
    "\n",
    "* Si vous demandez à l’API, combien de résultats vous donne-t-elle ?\n",
    "\n",
    "* Quels sont les horaires de départ de ces trains ?\n",
    "\n",
    "* Parmi ces trains, combien de trains ont pour destination finale Lyon et qui partent le 17 novembre ?"
   ]
  },
  {
   "cell_type": "markdown",
   "metadata": {},
   "source": [
    "Je veux tous les trains qui partent de gare de Lyon à 19h"
   ]
  },
  {
   "cell_type": "code",
   "execution_count": 161,
   "metadata": {},
   "outputs": [],
   "source": [
    "code_gare_paris_gare_de_lyon = \"stop_area:SNCF:87686006\"\n",
    "date = \"20240125T190000\"\n",
    "url_base = \"https://api.sncf.com/v1/coverage/sncf\"\n",
    "network = \"network:SNCF:OUI\"\n",
    "physical_mode = \"physical_mode:LongDistanceTrain\""
   ]
  },
  {
   "cell_type": "code",
   "execution_count": 162,
   "metadata": {},
   "outputs": [],
   "source": [
    "requete_network = f\"{url_base}/stop_areas/{code_gare_paris_gare_de_lyon}/networks/{network}/departures?from_datetime={date}\"\n",
    "requete_physical_mode =f\"{url_base}/stop_areas/{code_gare_paris_gare_de_lyon}/physical_modes/{physical_mode}/departures?from_datetime={date}\"\n",
    "reponse = requete_api(requete_physical_mode)\n",
    "ecrire_json(reponse,\"exercice_2.json\")"
   ]
  },
  {
   "cell_type": "code",
   "execution_count": 163,
   "metadata": {},
   "outputs": [
    {
     "data": {
      "text/html": [
       "<div>\n",
       "<style scoped>\n",
       "    .dataframe tbody tr th:only-of-type {\n",
       "        vertical-align: middle;\n",
       "    }\n",
       "\n",
       "    .dataframe tbody tr th {\n",
       "        vertical-align: top;\n",
       "    }\n",
       "\n",
       "    .dataframe thead th {\n",
       "        text-align: right;\n",
       "    }\n",
       "</style>\n",
       "<table border=\"1\" class=\"dataframe\">\n",
       "  <thead>\n",
       "    <tr style=\"text-align: right;\">\n",
       "      <th></th>\n",
       "      <th>commercial_mode</th>\n",
       "      <th>reseau</th>\n",
       "      <th>numero</th>\n",
       "      <th>direction</th>\n",
       "      <th>heure_depart</th>\n",
       "      <th>heure_depart_prevue</th>\n",
       "      <th>delais</th>\n",
       "    </tr>\n",
       "  </thead>\n",
       "  <tbody>\n",
       "    <tr>\n",
       "      <th>0</th>\n",
       "      <td>TGV INOUI</td>\n",
       "      <td>TGV INOUI</td>\n",
       "      <td>6689</td>\n",
       "      <td>Saint-Étienne Châteaucreux (Saint-Étienne)</td>\n",
       "      <td>2024-01-25 19:00:00</td>\n",
       "      <td>2024-01-25 19:00:00</td>\n",
       "      <td>0 days 00:00:00</td>\n",
       "    </tr>\n",
       "    <tr>\n",
       "      <th>1</th>\n",
       "      <td>TGV INOUI</td>\n",
       "      <td>TGV INOUI</td>\n",
       "      <td>6711</td>\n",
       "      <td>Mulhouse (Mulhouse)</td>\n",
       "      <td>2024-01-25 19:09:00</td>\n",
       "      <td>2024-01-25 18:54:00</td>\n",
       "      <td>0 days 00:15:00</td>\n",
       "    </tr>\n",
       "    <tr>\n",
       "      <th>2</th>\n",
       "      <td>TGV INOUI</td>\n",
       "      <td>TGV INOUI</td>\n",
       "      <td>6927</td>\n",
       "      <td>Grenoble (Grenoble)</td>\n",
       "      <td>2024-01-25 19:14:00</td>\n",
       "      <td>2024-01-25 19:14:00</td>\n",
       "      <td>0 days 00:00:00</td>\n",
       "    </tr>\n",
       "    <tr>\n",
       "      <th>3</th>\n",
       "      <td>OUIGO</td>\n",
       "      <td>OUIGO</td>\n",
       "      <td>7805</td>\n",
       "      <td>Lyon Perrache (Lyon)</td>\n",
       "      <td>2024-01-25 19:26:00</td>\n",
       "      <td>2024-01-25 19:26:00</td>\n",
       "      <td>0 days 00:00:00</td>\n",
       "    </tr>\n",
       "    <tr>\n",
       "      <th>4</th>\n",
       "      <td>TGV INOUI</td>\n",
       "      <td>TGV INOUI</td>\n",
       "      <td>6129</td>\n",
       "      <td>Aix-en-Provence TGV (Aix-en-Provence)</td>\n",
       "      <td>2024-01-25 19:56:00</td>\n",
       "      <td>2024-01-25 19:56:00</td>\n",
       "      <td>0 days 00:00:00</td>\n",
       "    </tr>\n",
       "    <tr>\n",
       "      <th>5</th>\n",
       "      <td>TGV INOUI</td>\n",
       "      <td>TGV INOUI</td>\n",
       "      <td>6227</td>\n",
       "      <td>Montpellier Saint-Roch (Montpellier)</td>\n",
       "      <td>2024-01-25 20:09:00</td>\n",
       "      <td>2024-01-25 20:09:00</td>\n",
       "      <td>0 days 00:00:00</td>\n",
       "    </tr>\n",
       "    <tr>\n",
       "      <th>6</th>\n",
       "      <td>OUIGO</td>\n",
       "      <td>OUIGO</td>\n",
       "      <td>7827</td>\n",
       "      <td>Aix-en-Provence TGV (Aix-en-Provence)</td>\n",
       "      <td>2024-01-25 20:13:00</td>\n",
       "      <td>2024-01-25 20:13:00</td>\n",
       "      <td>0 days 00:00:00</td>\n",
       "    </tr>\n",
       "    <tr>\n",
       "      <th>7</th>\n",
       "      <td>TGV Lyria</td>\n",
       "      <td>TGV Lyria</td>\n",
       "      <td>9789</td>\n",
       "      <td>Genève - Cornavin - CFF (Genève)</td>\n",
       "      <td>2024-01-25 20:18:00</td>\n",
       "      <td>2024-01-25 20:18:00</td>\n",
       "      <td>0 days 00:00:00</td>\n",
       "    </tr>\n",
       "    <tr>\n",
       "      <th>8</th>\n",
       "      <td>TGV INOUI</td>\n",
       "      <td>TGV INOUI</td>\n",
       "      <td>6715</td>\n",
       "      <td>Mulhouse (Mulhouse)</td>\n",
       "      <td>2024-01-25 20:22:00</td>\n",
       "      <td>2024-01-25 20:22:00</td>\n",
       "      <td>0 days 00:00:00</td>\n",
       "    </tr>\n",
       "    <tr>\n",
       "      <th>9</th>\n",
       "      <td>TGV INOUI</td>\n",
       "      <td>TGV INOUI</td>\n",
       "      <td>6633</td>\n",
       "      <td>Lyon Perrache (Lyon)</td>\n",
       "      <td>2024-01-25 21:00:00</td>\n",
       "      <td>2024-01-25 21:00:00</td>\n",
       "      <td>0 days 00:00:00</td>\n",
       "    </tr>\n",
       "  </tbody>\n",
       "</table>\n",
       "</div>"
      ],
      "text/plain": [
       "  commercial_mode     reseau numero  \\\n",
       "0       TGV INOUI  TGV INOUI   6689   \n",
       "1       TGV INOUI  TGV INOUI   6711   \n",
       "2       TGV INOUI  TGV INOUI   6927   \n",
       "3           OUIGO      OUIGO   7805   \n",
       "4       TGV INOUI  TGV INOUI   6129   \n",
       "5       TGV INOUI  TGV INOUI   6227   \n",
       "6           OUIGO      OUIGO   7827   \n",
       "7       TGV Lyria  TGV Lyria   9789   \n",
       "8       TGV INOUI  TGV INOUI   6715   \n",
       "9       TGV INOUI  TGV INOUI   6633   \n",
       "\n",
       "                                    direction        heure_depart  \\\n",
       "0  Saint-Étienne Châteaucreux (Saint-Étienne) 2024-01-25 19:00:00   \n",
       "1                         Mulhouse (Mulhouse) 2024-01-25 19:09:00   \n",
       "2                         Grenoble (Grenoble) 2024-01-25 19:14:00   \n",
       "3                        Lyon Perrache (Lyon) 2024-01-25 19:26:00   \n",
       "4       Aix-en-Provence TGV (Aix-en-Provence) 2024-01-25 19:56:00   \n",
       "5        Montpellier Saint-Roch (Montpellier) 2024-01-25 20:09:00   \n",
       "6       Aix-en-Provence TGV (Aix-en-Provence) 2024-01-25 20:13:00   \n",
       "7            Genève - Cornavin - CFF (Genève) 2024-01-25 20:18:00   \n",
       "8                         Mulhouse (Mulhouse) 2024-01-25 20:22:00   \n",
       "9                        Lyon Perrache (Lyon) 2024-01-25 21:00:00   \n",
       "\n",
       "  heure_depart_prevue          delais  \n",
       "0 2024-01-25 19:00:00 0 days 00:00:00  \n",
       "1 2024-01-25 18:54:00 0 days 00:15:00  \n",
       "2 2024-01-25 19:14:00 0 days 00:00:00  \n",
       "3 2024-01-25 19:26:00 0 days 00:00:00  \n",
       "4 2024-01-25 19:56:00 0 days 00:00:00  \n",
       "5 2024-01-25 20:09:00 0 days 00:00:00  \n",
       "6 2024-01-25 20:13:00 0 days 00:00:00  \n",
       "7 2024-01-25 20:18:00 0 days 00:00:00  \n",
       "8 2024-01-25 20:22:00 0 days 00:00:00  \n",
       "9 2024-01-25 21:00:00 0 days 00:00:00  "
      ]
     },
     "execution_count": 163,
     "metadata": {},
     "output_type": "execute_result"
    }
   ],
   "source": [
    "data=[]\n",
    "departs = reponse[\"departures\"]\n",
    "\n",
    "for depart in departs:\n",
    "    \n",
    "    heure_depart =decode_datetime(depart[\"stop_date_time\"][\"departure_date_time\"])\n",
    "    heure_depart_prevue = decode_datetime(depart[\"stop_date_time\"][\"base_departure_date_time\"])\n",
    "\n",
    "\n",
    "    data.append(dict(commercial_mode = depart[\"display_informations\"][\"commercial_mode\"],\n",
    "                    reseau = depart[\"display_informations\"][\"network\"],\n",
    "                    numero = depart[\"display_informations\"][\"headsign\"],\n",
    "                    direction = depart[\"display_informations\"][\"direction\"],\n",
    "                    heure_depart =decode_datetime(depart[\"stop_date_time\"][\"departure_date_time\"]),\n",
    "                    heure_depart_prevue = decode_datetime(depart[\"stop_date_time\"][\"base_departure_date_time\"]),\n",
    "                    delais=  heure_depart - heure_depart_prevue ))\n",
    "\n",
    "dataframe = pd.DataFrame(data)\n",
    "dataframe.head(20)"
   ]
  },
  {
   "cell_type": "markdown",
   "metadata": {},
   "source": [
    "__Question 3:__"
   ]
  },
  {
   "cell_type": "markdown",
   "metadata": {},
   "source": [
    "En fait, vous n’êtes plus très sûr de vouloir aller à Lyon. Mais bon maintenant vous êtes Gare de Lyon et il est 18h00.\n",
    "\n",
    "* Combien de tgv partent entre 18h00 et 20h00 ?\n",
    "\n",
    "* Lequel arrive le plus tôt à sa destination finale ?"
   ]
  },
  {
   "cell_type": "code",
   "execution_count": 10,
   "metadata": {},
   "outputs": [],
   "source": [
    "code_gare_paris_gare_de_lyon = \"stop_area:SNCF:87686006\"\n",
    "date_debut = \"20240125T180000\"\n",
    "date_fin = \"20240125T200000\"\n",
    "url_base = \"https://api.sncf.com/v1/coverage/sncf\"\n",
    "physical_mode = \"physical_mode:LongDistanceTrain\""
   ]
  },
  {
   "cell_type": "markdown",
   "metadata": {},
   "source": [
    "Je fais ma requete en filtrant sur le physical_mode et sur les datetime. J'augmente également le nombre de réponse à 20"
   ]
  },
  {
   "cell_type": "code",
   "execution_count": 11,
   "metadata": {},
   "outputs": [],
   "source": [
    "requete_physical_mode =f\"{url_base}/stop_areas/{code_gare_paris_gare_de_lyon}\\\n",
    "/physical_modes/{physical_mode}/departures?from_datetime={date_debut}&max_datetime={date_fin}&count=20&\"\n",
    "reponse = requete_api(requete_physical_mode)\n",
    "ecrire_json(reponse,\"exercice_3.json\")"
   ]
  },
  {
   "cell_type": "code",
   "execution_count": 18,
   "metadata": {},
   "outputs": [
    {
     "data": {
      "text/html": [
       "<div>\n",
       "<style scoped>\n",
       "    .dataframe tbody tr th:only-of-type {\n",
       "        vertical-align: middle;\n",
       "    }\n",
       "\n",
       "    .dataframe tbody tr th {\n",
       "        vertical-align: top;\n",
       "    }\n",
       "\n",
       "    .dataframe thead th {\n",
       "        text-align: right;\n",
       "    }\n",
       "</style>\n",
       "<table border=\"1\" class=\"dataframe\">\n",
       "  <thead>\n",
       "    <tr style=\"text-align: right;\">\n",
       "      <th></th>\n",
       "      <th>commercial_mode</th>\n",
       "      <th>reseau</th>\n",
       "      <th>numero</th>\n",
       "      <th>direction</th>\n",
       "      <th>heure_depart</th>\n",
       "      <th>heure_depart_prevue</th>\n",
       "      <th>delais</th>\n",
       "      <th>heure_arrivee</th>\n",
       "    </tr>\n",
       "  </thead>\n",
       "  <tbody>\n",
       "    <tr>\n",
       "      <th>0</th>\n",
       "      <td>TGV INOUI</td>\n",
       "      <td>TGV INOUI</td>\n",
       "      <td>6923</td>\n",
       "      <td>Grenoble (Grenoble)</td>\n",
       "      <td>2024-01-25 18:09:00</td>\n",
       "      <td>2024-01-25 17:14:00</td>\n",
       "      <td>0 days 00:55:00</td>\n",
       "      <td>2024-01-25 18:09:00</td>\n",
       "    </tr>\n",
       "    <tr>\n",
       "      <th>1</th>\n",
       "      <td>TGV INOUI</td>\n",
       "      <td>TGV INOUI</td>\n",
       "      <td>6195</td>\n",
       "      <td>Miramas (Miramas)</td>\n",
       "      <td>2024-01-25 18:09:00</td>\n",
       "      <td>2024-01-25 17:14:00</td>\n",
       "      <td>0 days 00:55:00</td>\n",
       "      <td>2024-01-25 18:09:00</td>\n",
       "    </tr>\n",
       "    <tr>\n",
       "      <th>2</th>\n",
       "      <td>TGV INOUI</td>\n",
       "      <td>TGV INOUI</td>\n",
       "      <td>6153</td>\n",
       "      <td>Toulon (Toulon)</td>\n",
       "      <td>2024-01-25 18:10:00</td>\n",
       "      <td>2024-01-25 18:10:00</td>\n",
       "      <td>0 days 00:00:00</td>\n",
       "      <td>2024-01-25 18:10:00</td>\n",
       "    </tr>\n",
       "    <tr>\n",
       "      <th>3</th>\n",
       "      <td>TGV Lyria</td>\n",
       "      <td>TGV Lyria</td>\n",
       "      <td>9781</td>\n",
       "      <td>Genève - Cornavin - CFF (Genève)</td>\n",
       "      <td>2024-01-25 18:18:00</td>\n",
       "      <td>2024-01-25 18:18:00</td>\n",
       "      <td>0 days 00:00:00</td>\n",
       "      <td>2024-01-25 18:18:00</td>\n",
       "    </tr>\n",
       "    <tr>\n",
       "      <th>4</th>\n",
       "      <td>TGV Lyria</td>\n",
       "      <td>TGV Lyria</td>\n",
       "      <td>9223</td>\n",
       "      <td>Zürich - Hauptbahnhof (Zürich)</td>\n",
       "      <td>2024-01-25 18:22:00</td>\n",
       "      <td>2024-01-25 18:22:00</td>\n",
       "      <td>0 days 00:00:00</td>\n",
       "      <td>2024-01-25 18:22:00</td>\n",
       "    </tr>\n",
       "    <tr>\n",
       "      <th>5</th>\n",
       "      <td>TGV INOUI</td>\n",
       "      <td>TGV INOUI</td>\n",
       "      <td>6669</td>\n",
       "      <td>Lyon Perrache (Lyon)</td>\n",
       "      <td>2024-01-25 18:26:00</td>\n",
       "      <td>2024-01-25 18:26:00</td>\n",
       "      <td>0 days 00:00:00</td>\n",
       "      <td>2024-01-25 18:26:00</td>\n",
       "    </tr>\n",
       "    <tr>\n",
       "      <th>6</th>\n",
       "      <td>TGV INOUI</td>\n",
       "      <td>TGV INOUI</td>\n",
       "      <td>6925</td>\n",
       "      <td>Grenoble (Grenoble)</td>\n",
       "      <td>2024-01-25 18:34:00</td>\n",
       "      <td>2024-01-25 18:14:00</td>\n",
       "      <td>0 days 00:20:00</td>\n",
       "      <td>2024-01-25 18:34:00</td>\n",
       "    </tr>\n",
       "    <tr>\n",
       "      <th>7</th>\n",
       "      <td>TGV INOUI</td>\n",
       "      <td>TGV INOUI</td>\n",
       "      <td>6127</td>\n",
       "      <td>Marseille Saint-Charles (Marseille)</td>\n",
       "      <td>2024-01-25 18:38:00</td>\n",
       "      <td>2024-01-25 18:38:00</td>\n",
       "      <td>0 days 00:00:00</td>\n",
       "      <td>2024-01-25 18:38:00</td>\n",
       "    </tr>\n",
       "    <tr>\n",
       "      <th>8</th>\n",
       "      <td>TGV INOUI</td>\n",
       "      <td>TGV INOUI</td>\n",
       "      <td>6665</td>\n",
       "      <td>Lyon Perrache (Lyon)</td>\n",
       "      <td>2024-01-25 18:42:00</td>\n",
       "      <td>2024-01-25 18:42:00</td>\n",
       "      <td>0 days 00:00:00</td>\n",
       "      <td>2024-01-25 18:42:00</td>\n",
       "    </tr>\n",
       "    <tr>\n",
       "      <th>9</th>\n",
       "      <td>TGV INOUI</td>\n",
       "      <td>TGV INOUI</td>\n",
       "      <td>6951</td>\n",
       "      <td>Annecy (Annecy)</td>\n",
       "      <td>2024-01-25 18:46:00</td>\n",
       "      <td>2024-01-25 18:46:00</td>\n",
       "      <td>0 days 00:00:00</td>\n",
       "      <td>2024-01-25 18:46:00</td>\n",
       "    </tr>\n",
       "    <tr>\n",
       "      <th>10</th>\n",
       "      <td>TGV INOUI</td>\n",
       "      <td>TGV INOUI</td>\n",
       "      <td>6279</td>\n",
       "      <td>Montpellier Sud de France (Montpellier)</td>\n",
       "      <td>2024-01-25 18:50:00</td>\n",
       "      <td>2024-01-25 18:50:00</td>\n",
       "      <td>0 days 00:00:00</td>\n",
       "      <td>2024-01-25 18:50:00</td>\n",
       "    </tr>\n",
       "    <tr>\n",
       "      <th>11</th>\n",
       "      <td>TGV INOUI</td>\n",
       "      <td>TGV INOUI</td>\n",
       "      <td>6689</td>\n",
       "      <td>Saint-Étienne Châteaucreux (Saint-Étienne)</td>\n",
       "      <td>2024-01-25 19:00:00</td>\n",
       "      <td>2024-01-25 19:00:00</td>\n",
       "      <td>0 days 00:00:00</td>\n",
       "      <td>2024-01-25 19:00:00</td>\n",
       "    </tr>\n",
       "    <tr>\n",
       "      <th>12</th>\n",
       "      <td>TGV INOUI</td>\n",
       "      <td>TGV INOUI</td>\n",
       "      <td>6711</td>\n",
       "      <td>Mulhouse (Mulhouse)</td>\n",
       "      <td>2024-01-25 19:09:00</td>\n",
       "      <td>2024-01-25 18:54:00</td>\n",
       "      <td>0 days 00:15:00</td>\n",
       "      <td>2024-01-25 19:09:00</td>\n",
       "    </tr>\n",
       "    <tr>\n",
       "      <th>13</th>\n",
       "      <td>TGV INOUI</td>\n",
       "      <td>TGV INOUI</td>\n",
       "      <td>6927</td>\n",
       "      <td>Grenoble (Grenoble)</td>\n",
       "      <td>2024-01-25 19:14:00</td>\n",
       "      <td>2024-01-25 19:14:00</td>\n",
       "      <td>0 days 00:00:00</td>\n",
       "      <td>2024-01-25 19:14:00</td>\n",
       "    </tr>\n",
       "    <tr>\n",
       "      <th>14</th>\n",
       "      <td>OUIGO</td>\n",
       "      <td>OUIGO</td>\n",
       "      <td>7805</td>\n",
       "      <td>Lyon Perrache (Lyon)</td>\n",
       "      <td>2024-01-25 19:26:00</td>\n",
       "      <td>2024-01-25 19:26:00</td>\n",
       "      <td>0 days 00:00:00</td>\n",
       "      <td>2024-01-25 19:26:00</td>\n",
       "    </tr>\n",
       "    <tr>\n",
       "      <th>15</th>\n",
       "      <td>TGV INOUI</td>\n",
       "      <td>TGV INOUI</td>\n",
       "      <td>6129</td>\n",
       "      <td>Aix-en-Provence TGV (Aix-en-Provence)</td>\n",
       "      <td>2024-01-25 19:56:00</td>\n",
       "      <td>2024-01-25 19:56:00</td>\n",
       "      <td>0 days 00:00:00</td>\n",
       "      <td>2024-01-25 19:56:00</td>\n",
       "    </tr>\n",
       "    <tr>\n",
       "      <th>16</th>\n",
       "      <td>TGV INOUI</td>\n",
       "      <td>TGV INOUI</td>\n",
       "      <td>6227</td>\n",
       "      <td>Montpellier Saint-Roch (Montpellier)</td>\n",
       "      <td>2024-01-25 20:09:00</td>\n",
       "      <td>2024-01-25 20:09:00</td>\n",
       "      <td>0 days 00:00:00</td>\n",
       "      <td>2024-01-25 20:09:00</td>\n",
       "    </tr>\n",
       "    <tr>\n",
       "      <th>17</th>\n",
       "      <td>OUIGO</td>\n",
       "      <td>OUIGO</td>\n",
       "      <td>7827</td>\n",
       "      <td>Aix-en-Provence TGV (Aix-en-Provence)</td>\n",
       "      <td>2024-01-25 20:13:00</td>\n",
       "      <td>2024-01-25 20:13:00</td>\n",
       "      <td>0 days 00:00:00</td>\n",
       "      <td>2024-01-25 20:13:00</td>\n",
       "    </tr>\n",
       "    <tr>\n",
       "      <th>18</th>\n",
       "      <td>TGV Lyria</td>\n",
       "      <td>TGV Lyria</td>\n",
       "      <td>9789</td>\n",
       "      <td>Genève - Cornavin - CFF (Genève)</td>\n",
       "      <td>2024-01-25 20:18:00</td>\n",
       "      <td>2024-01-25 20:18:00</td>\n",
       "      <td>0 days 00:00:00</td>\n",
       "      <td>2024-01-25 20:18:00</td>\n",
       "    </tr>\n",
       "    <tr>\n",
       "      <th>19</th>\n",
       "      <td>TGV INOUI</td>\n",
       "      <td>TGV INOUI</td>\n",
       "      <td>6715</td>\n",
       "      <td>Mulhouse (Mulhouse)</td>\n",
       "      <td>2024-01-25 20:22:00</td>\n",
       "      <td>2024-01-25 20:22:00</td>\n",
       "      <td>0 days 00:00:00</td>\n",
       "      <td>2024-01-25 20:22:00</td>\n",
       "    </tr>\n",
       "  </tbody>\n",
       "</table>\n",
       "</div>"
      ],
      "text/plain": [
       "   commercial_mode     reseau numero  \\\n",
       "0        TGV INOUI  TGV INOUI   6923   \n",
       "1        TGV INOUI  TGV INOUI   6195   \n",
       "2        TGV INOUI  TGV INOUI   6153   \n",
       "3        TGV Lyria  TGV Lyria   9781   \n",
       "4        TGV Lyria  TGV Lyria   9223   \n",
       "5        TGV INOUI  TGV INOUI   6669   \n",
       "6        TGV INOUI  TGV INOUI   6925   \n",
       "7        TGV INOUI  TGV INOUI   6127   \n",
       "8        TGV INOUI  TGV INOUI   6665   \n",
       "9        TGV INOUI  TGV INOUI   6951   \n",
       "10       TGV INOUI  TGV INOUI   6279   \n",
       "11       TGV INOUI  TGV INOUI   6689   \n",
       "12       TGV INOUI  TGV INOUI   6711   \n",
       "13       TGV INOUI  TGV INOUI   6927   \n",
       "14           OUIGO      OUIGO   7805   \n",
       "15       TGV INOUI  TGV INOUI   6129   \n",
       "16       TGV INOUI  TGV INOUI   6227   \n",
       "17           OUIGO      OUIGO   7827   \n",
       "18       TGV Lyria  TGV Lyria   9789   \n",
       "19       TGV INOUI  TGV INOUI   6715   \n",
       "\n",
       "                                     direction        heure_depart  \\\n",
       "0                          Grenoble (Grenoble) 2024-01-25 18:09:00   \n",
       "1                            Miramas (Miramas) 2024-01-25 18:09:00   \n",
       "2                              Toulon (Toulon) 2024-01-25 18:10:00   \n",
       "3             Genève - Cornavin - CFF (Genève) 2024-01-25 18:18:00   \n",
       "4               Zürich - Hauptbahnhof (Zürich) 2024-01-25 18:22:00   \n",
       "5                         Lyon Perrache (Lyon) 2024-01-25 18:26:00   \n",
       "6                          Grenoble (Grenoble) 2024-01-25 18:34:00   \n",
       "7          Marseille Saint-Charles (Marseille) 2024-01-25 18:38:00   \n",
       "8                         Lyon Perrache (Lyon) 2024-01-25 18:42:00   \n",
       "9                              Annecy (Annecy) 2024-01-25 18:46:00   \n",
       "10     Montpellier Sud de France (Montpellier) 2024-01-25 18:50:00   \n",
       "11  Saint-Étienne Châteaucreux (Saint-Étienne) 2024-01-25 19:00:00   \n",
       "12                         Mulhouse (Mulhouse) 2024-01-25 19:09:00   \n",
       "13                         Grenoble (Grenoble) 2024-01-25 19:14:00   \n",
       "14                        Lyon Perrache (Lyon) 2024-01-25 19:26:00   \n",
       "15       Aix-en-Provence TGV (Aix-en-Provence) 2024-01-25 19:56:00   \n",
       "16        Montpellier Saint-Roch (Montpellier) 2024-01-25 20:09:00   \n",
       "17       Aix-en-Provence TGV (Aix-en-Provence) 2024-01-25 20:13:00   \n",
       "18            Genève - Cornavin - CFF (Genève) 2024-01-25 20:18:00   \n",
       "19                         Mulhouse (Mulhouse) 2024-01-25 20:22:00   \n",
       "\n",
       "   heure_depart_prevue          delais       heure_arrivee  \n",
       "0  2024-01-25 17:14:00 0 days 00:55:00 2024-01-25 18:09:00  \n",
       "1  2024-01-25 17:14:00 0 days 00:55:00 2024-01-25 18:09:00  \n",
       "2  2024-01-25 18:10:00 0 days 00:00:00 2024-01-25 18:10:00  \n",
       "3  2024-01-25 18:18:00 0 days 00:00:00 2024-01-25 18:18:00  \n",
       "4  2024-01-25 18:22:00 0 days 00:00:00 2024-01-25 18:22:00  \n",
       "5  2024-01-25 18:26:00 0 days 00:00:00 2024-01-25 18:26:00  \n",
       "6  2024-01-25 18:14:00 0 days 00:20:00 2024-01-25 18:34:00  \n",
       "7  2024-01-25 18:38:00 0 days 00:00:00 2024-01-25 18:38:00  \n",
       "8  2024-01-25 18:42:00 0 days 00:00:00 2024-01-25 18:42:00  \n",
       "9  2024-01-25 18:46:00 0 days 00:00:00 2024-01-25 18:46:00  \n",
       "10 2024-01-25 18:50:00 0 days 00:00:00 2024-01-25 18:50:00  \n",
       "11 2024-01-25 19:00:00 0 days 00:00:00 2024-01-25 19:00:00  \n",
       "12 2024-01-25 18:54:00 0 days 00:15:00 2024-01-25 19:09:00  \n",
       "13 2024-01-25 19:14:00 0 days 00:00:00 2024-01-25 19:14:00  \n",
       "14 2024-01-25 19:26:00 0 days 00:00:00 2024-01-25 19:26:00  \n",
       "15 2024-01-25 19:56:00 0 days 00:00:00 2024-01-25 19:56:00  \n",
       "16 2024-01-25 20:09:00 0 days 00:00:00 2024-01-25 20:09:00  \n",
       "17 2024-01-25 20:13:00 0 days 00:00:00 2024-01-25 20:13:00  \n",
       "18 2024-01-25 20:18:00 0 days 00:00:00 2024-01-25 20:18:00  \n",
       "19 2024-01-25 20:22:00 0 days 00:00:00 2024-01-25 20:22:00  "
      ]
     },
     "execution_count": 18,
     "metadata": {},
     "output_type": "execute_result"
    }
   ],
   "source": [
    "data=[]\n",
    "departs = reponse[\"departures\"]\n",
    "\n",
    "for depart in departs:\n",
    "    \n",
    "    heure_depart =decode_datetime(depart[\"stop_date_time\"][\"departure_date_time\"])\n",
    "    heure_depart_prevue = decode_datetime(depart[\"stop_date_time\"][\"base_departure_date_time\"])\n",
    "\n",
    "\n",
    "    data.append(dict(commercial_mode = depart[\"display_informations\"][\"commercial_mode\"],\n",
    "                    reseau = depart[\"display_informations\"][\"network\"],\n",
    "                    numero = depart[\"display_informations\"][\"headsign\"],\n",
    "                    direction = depart[\"display_informations\"][\"direction\"],\n",
    "                    heure_depart =decode_datetime(depart[\"stop_date_time\"][\"departure_date_time\"]),\n",
    "                    heure_depart_prevue = decode_datetime(depart[\"stop_date_time\"][\"base_departure_date_time\"]),\n",
    "                    delais=  heure_depart - heure_depart_prevue,\n",
    "                    heure_arrivee = decode_datetime(depart[\"stop_date_time\"][\"arrival_date_time\"])))\n",
    "\n",
    "dataframe = pd.DataFrame(data)\n",
    "dataframe.head(20)"
   ]
  },
  {
   "cell_type": "markdown",
   "metadata": {},
   "source": [
    "On utilise pandas pour filtrer le dataframe et gardes train qui arrivent avant 20h"
   ]
  },
  {
   "cell_type": "code",
   "execution_count": 19,
   "metadata": {},
   "outputs": [
    {
     "data": {
      "text/html": [
       "<div>\n",
       "<style scoped>\n",
       "    .dataframe tbody tr th:only-of-type {\n",
       "        vertical-align: middle;\n",
       "    }\n",
       "\n",
       "    .dataframe tbody tr th {\n",
       "        vertical-align: top;\n",
       "    }\n",
       "\n",
       "    .dataframe thead th {\n",
       "        text-align: right;\n",
       "    }\n",
       "</style>\n",
       "<table border=\"1\" class=\"dataframe\">\n",
       "  <thead>\n",
       "    <tr style=\"text-align: right;\">\n",
       "      <th></th>\n",
       "      <th>commercial_mode</th>\n",
       "      <th>reseau</th>\n",
       "      <th>numero</th>\n",
       "      <th>direction</th>\n",
       "      <th>heure_depart</th>\n",
       "      <th>heure_depart_prevue</th>\n",
       "      <th>delais</th>\n",
       "      <th>heure_arrivee</th>\n",
       "    </tr>\n",
       "  </thead>\n",
       "  <tbody>\n",
       "    <tr>\n",
       "      <th>11</th>\n",
       "      <td>TGV INOUI</td>\n",
       "      <td>TGV INOUI</td>\n",
       "      <td>6689</td>\n",
       "      <td>Saint-Étienne Châteaucreux (Saint-Étienne)</td>\n",
       "      <td>2024-01-25 19:00:00</td>\n",
       "      <td>2024-01-25 19:00:00</td>\n",
       "      <td>0 days 00:00:00</td>\n",
       "      <td>2024-01-25 19:00:00</td>\n",
       "    </tr>\n",
       "    <tr>\n",
       "      <th>12</th>\n",
       "      <td>TGV INOUI</td>\n",
       "      <td>TGV INOUI</td>\n",
       "      <td>6711</td>\n",
       "      <td>Mulhouse (Mulhouse)</td>\n",
       "      <td>2024-01-25 19:09:00</td>\n",
       "      <td>2024-01-25 18:54:00</td>\n",
       "      <td>0 days 00:15:00</td>\n",
       "      <td>2024-01-25 19:09:00</td>\n",
       "    </tr>\n",
       "    <tr>\n",
       "      <th>13</th>\n",
       "      <td>TGV INOUI</td>\n",
       "      <td>TGV INOUI</td>\n",
       "      <td>6927</td>\n",
       "      <td>Grenoble (Grenoble)</td>\n",
       "      <td>2024-01-25 19:14:00</td>\n",
       "      <td>2024-01-25 19:14:00</td>\n",
       "      <td>0 days 00:00:00</td>\n",
       "      <td>2024-01-25 19:14:00</td>\n",
       "    </tr>\n",
       "    <tr>\n",
       "      <th>14</th>\n",
       "      <td>OUIGO</td>\n",
       "      <td>OUIGO</td>\n",
       "      <td>7805</td>\n",
       "      <td>Lyon Perrache (Lyon)</td>\n",
       "      <td>2024-01-25 19:26:00</td>\n",
       "      <td>2024-01-25 19:26:00</td>\n",
       "      <td>0 days 00:00:00</td>\n",
       "      <td>2024-01-25 19:26:00</td>\n",
       "    </tr>\n",
       "    <tr>\n",
       "      <th>15</th>\n",
       "      <td>TGV INOUI</td>\n",
       "      <td>TGV INOUI</td>\n",
       "      <td>6129</td>\n",
       "      <td>Aix-en-Provence TGV (Aix-en-Provence)</td>\n",
       "      <td>2024-01-25 19:56:00</td>\n",
       "      <td>2024-01-25 19:56:00</td>\n",
       "      <td>0 days 00:00:00</td>\n",
       "      <td>2024-01-25 19:56:00</td>\n",
       "    </tr>\n",
       "  </tbody>\n",
       "</table>\n",
       "</div>"
      ],
      "text/plain": [
       "   commercial_mode     reseau numero  \\\n",
       "11       TGV INOUI  TGV INOUI   6689   \n",
       "12       TGV INOUI  TGV INOUI   6711   \n",
       "13       TGV INOUI  TGV INOUI   6927   \n",
       "14           OUIGO      OUIGO   7805   \n",
       "15       TGV INOUI  TGV INOUI   6129   \n",
       "\n",
       "                                     direction        heure_depart  \\\n",
       "11  Saint-Étienne Châteaucreux (Saint-Étienne) 2024-01-25 19:00:00   \n",
       "12                         Mulhouse (Mulhouse) 2024-01-25 19:09:00   \n",
       "13                         Grenoble (Grenoble) 2024-01-25 19:14:00   \n",
       "14                        Lyon Perrache (Lyon) 2024-01-25 19:26:00   \n",
       "15       Aix-en-Provence TGV (Aix-en-Provence) 2024-01-25 19:56:00   \n",
       "\n",
       "   heure_depart_prevue          delais       heure_arrivee  \n",
       "11 2024-01-25 19:00:00 0 days 00:00:00 2024-01-25 19:00:00  \n",
       "12 2024-01-25 18:54:00 0 days 00:15:00 2024-01-25 19:09:00  \n",
       "13 2024-01-25 19:14:00 0 days 00:00:00 2024-01-25 19:14:00  \n",
       "14 2024-01-25 19:26:00 0 days 00:00:00 2024-01-25 19:26:00  \n",
       "15 2024-01-25 19:56:00 0 days 00:00:00 2024-01-25 19:56:00  "
      ]
     },
     "execution_count": 19,
     "metadata": {},
     "output_type": "execute_result"
    }
   ],
   "source": [
    "limite_heure = \"2024-01-25 20:00:00\"\n",
    "depart_avant_20h = dataframe.query(\"heure_depart < '2024-01-25 20:00:00'\")\n",
    "depart_avant_20h.tail()"
   ]
  },
  {
   "cell_type": "code",
   "execution_count": 17,
   "metadata": {},
   "outputs": [
    {
     "name": "stdout",
     "output_type": "stream",
     "text": [
      "il y a 16 départs entre 18h et 20h\n"
     ]
    }
   ],
   "source": [
    "print(f\"il y a {len(depart_avant_20h)} départs entre 18h et 20h\")"
   ]
  },
  {
   "cell_type": "code",
   "execution_count": 23,
   "metadata": {},
   "outputs": [
    {
     "name": "stdout",
     "output_type": "stream",
     "text": [
      "Le train qui arrive en premier est le suivant :\n"
     ]
    },
    {
     "data": {
      "text/html": [
       "<div>\n",
       "<style scoped>\n",
       "    .dataframe tbody tr th:only-of-type {\n",
       "        vertical-align: middle;\n",
       "    }\n",
       "\n",
       "    .dataframe tbody tr th {\n",
       "        vertical-align: top;\n",
       "    }\n",
       "\n",
       "    .dataframe thead th {\n",
       "        text-align: right;\n",
       "    }\n",
       "</style>\n",
       "<table border=\"1\" class=\"dataframe\">\n",
       "  <thead>\n",
       "    <tr style=\"text-align: right;\">\n",
       "      <th></th>\n",
       "      <th>commercial_mode</th>\n",
       "      <th>reseau</th>\n",
       "      <th>numero</th>\n",
       "      <th>direction</th>\n",
       "      <th>heure_depart</th>\n",
       "      <th>heure_depart_prevue</th>\n",
       "      <th>delais</th>\n",
       "      <th>heure_arrivee</th>\n",
       "    </tr>\n",
       "  </thead>\n",
       "  <tbody>\n",
       "    <tr>\n",
       "      <th>0</th>\n",
       "      <td>TGV INOUI</td>\n",
       "      <td>TGV INOUI</td>\n",
       "      <td>6923</td>\n",
       "      <td>Grenoble (Grenoble)</td>\n",
       "      <td>2024-01-25 18:09:00</td>\n",
       "      <td>2024-01-25 17:14:00</td>\n",
       "      <td>0 days 00:55:00</td>\n",
       "      <td>2024-01-25 18:09:00</td>\n",
       "    </tr>\n",
       "  </tbody>\n",
       "</table>\n",
       "</div>"
      ],
      "text/plain": [
       "  commercial_mode     reseau numero            direction        heure_depart  \\\n",
       "0       TGV INOUI  TGV INOUI   6923  Grenoble (Grenoble) 2024-01-25 18:09:00   \n",
       "\n",
       "  heure_depart_prevue          delais       heure_arrivee  \n",
       "0 2024-01-25 17:14:00 0 days 00:55:00 2024-01-25 18:09:00  "
      ]
     },
     "execution_count": 23,
     "metadata": {},
     "output_type": "execute_result"
    }
   ],
   "source": [
    "print(\"Le train qui arrive en premier est le suivant :\")\n",
    "depart_avant_20h.sort_values(by=[\"heure_arrivee\"]).head(1)"
   ]
  },
  {
   "cell_type": "markdown",
   "metadata": {},
   "source": [
    "__Question 4:__"
   ]
  },
  {
   "cell_type": "markdown",
   "metadata": {},
   "source": [
    "On va essayer de voir jusqu’où on peut aller, en prenant des trains au départ de la Gare de Lyon :\n",
    "\n",
    "* Quelles sont toutes les gares atteignables en partant le 17 novembre, sans faire de changement et sans partir après minuit ?\n",
    "\n",
    "* Si on prend un de ces trains, jusqu’où peut-on aller, avec une correspondance, sans partir après 8h le lendemain matin ?"
   ]
  },
  {
   "cell_type": "code",
   "execution_count": null,
   "metadata": {},
   "outputs": [],
   "source": [
    "def tous_trajet(gare,heure_min,heure_max):\n",
    "\n",
    "    base_url = \"https://api.sncf.com/v1/coverage/sncf\"\n",
    "    physical_mode = \"physical_mode:LongDistanceTrain\"\n",
    "\n",
    "    tous_les_departs = []\n",
    "    heure_dernier_depart = heure_min\n",
    "    heure_dernier_depart_decode = decode_datetime(heure_dernier_depart)\n",
    "    heure_max_decode = decode_datetime(heure_max)\n",
    "\n",
    "\n",
    "    while heure_dernier_depart_decode < heure_max_decode:\n",
    "\n",
    "        requete =f\"{base_url}/stop_areas/{gare}\\\n",
    "        /physical_modes/{physical_mode}/departures?from_datetime={heure_dernier_depart}\"\n",
    "        reponse = requete_api(requete)\n",
    "        departs = reponse[\"departures\"]\n",
    "        dernier_depart = departs[-1]\n",
    "        heure_dernier_depart = dernier_depart[\"stop_date_time\"][\"base_departure_date_time\"]\n",
    "        heure_dernier_depart_decode = decode_datetime(heure_dernier_depart)\n",
    "        #J'ajoute la liste des depart a ma liste de tous les depart\n",
    "        # Je n'utilise pas apprend car sinon ajoute une liste dans une liste\n",
    "        tous_les_departs += depart\n"
   ]
  }
 ],
 "metadata": {
  "kernelspec": {
   "display_name": "Python 3",
   "language": "python",
   "name": "python3"
  },
  "language_info": {
   "codemirror_mode": {
    "name": "ipython",
    "version": 3
   },
   "file_extension": ".py",
   "mimetype": "text/x-python",
   "name": "python",
   "nbconvert_exporter": "python",
   "pygments_lexer": "ipython3",
   "version": "3.12.1"
  }
 },
 "nbformat": 4,
 "nbformat_minor": 2
}
