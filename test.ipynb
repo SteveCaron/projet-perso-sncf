{
 "cells": [
  {
   "cell_type": "markdown",
   "metadata": {},
   "source": [
    "# Utilisation de l'api SNCF"
   ]
  },
  {
   "cell_type": "markdown",
   "metadata": {},
   "source": [
    "Ce notebook a pour but d'utiliser l'api SNCF afin de répondre a la question suivante : \n",
    "\n",
    "Dans quelle gare il y a le plus de retard de train en France.\n",
    "\n",
    "Pour utiliser l'api nous avons besoin d'une clef API qui sera stocker dans un secret.\n",
    "\n",
    "\n",
    "__Librairies :__\n",
    "\n",
    "python-dotenv"
   ]
  },
  {
   "cell_type": "code",
   "execution_count": 1,
   "metadata": {},
   "outputs": [],
   "source": [
    "from dotenv import load_dotenv\n",
    "import os\n",
    "import requests\n",
    "import pandas as pd\n",
    "import json"
   ]
  },
  {
   "cell_type": "markdown",
   "metadata": {},
   "source": [
    "Je charge ma clé API dans une variable"
   ]
  },
  {
   "cell_type": "code",
   "execution_count": 2,
   "metadata": {},
   "outputs": [],
   "source": [
    "load_dotenv()\n",
    "api_key = os.getenv(\"API_KEY\")"
   ]
  },
  {
   "cell_type": "code",
   "execution_count": 3,
   "metadata": {},
   "outputs": [],
   "source": [
    "def requete_api(requete):\n",
    "    reponse = requests.get(requete, auth=(api_key,\"\"))\n",
    "    reponse.status_code\n",
    "    reponse_json = reponse.json()\n",
    "    return reponse_json"
   ]
  },
  {
   "cell_type": "code",
   "execution_count": 4,
   "metadata": {},
   "outputs": [],
   "source": [
    "def ecrire_json(data,nom_fichier):\n",
    "    with open(nom_fichier, \"w\") as fc:\n",
    "        json.dump(data, fc)"
   ]
  },
  {
   "cell_type": "code",
   "execution_count": 5,
   "metadata": {},
   "outputs": [],
   "source": [
    "def lire_avec_pandas(json):\n",
    "    dataframe = pd.read_json(json)\n",
    "    return dataframe"
   ]
  },
  {
   "cell_type": "code",
   "execution_count": 6,
   "metadata": {},
   "outputs": [],
   "source": [
    "def main():\n",
    "    pass"
   ]
  },
  {
   "cell_type": "markdown",
   "metadata": {},
   "source": [
    "### Exemples"
   ]
  },
  {
   "cell_type": "markdown",
   "metadata": {},
   "source": [
    "Le détail des modes de transport couvert par l’API"
   ]
  },
  {
   "cell_type": "code",
   "execution_count": 7,
   "metadata": {},
   "outputs": [],
   "source": [
    "requete = \"https://api.sncf.com/v1/coverage/sncf/commercial_modes\"\n",
    "reponse = requete_api(requete)\n",
    "ecrire_json(reponse,\"reponse.json\")\n",
    "# df = pd.read_json(reponse, orient=\"index\")"
   ]
  }
 ],
 "metadata": {
  "kernelspec": {
   "display_name": "Python 3",
   "language": "python",
   "name": "python3"
  },
  "language_info": {
   "codemirror_mode": {
    "name": "ipython",
    "version": 3
   },
   "file_extension": ".py",
   "mimetype": "text/x-python",
   "name": "python",
   "nbconvert_exporter": "python",
   "pygments_lexer": "ipython3",
   "version": "3.12.1"
  }
 },
 "nbformat": 4,
 "nbformat_minor": 2
}
